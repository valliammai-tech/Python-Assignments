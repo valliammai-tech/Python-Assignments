{
 "cells": [
  {
   "cell_type": "markdown",
   "id": "bc8d5ffe",
   "metadata": {},
   "source": [
    "# 1. What is the relationship between def statements and lambda expressions ?"
   ]
  },
  {
   "cell_type": "markdown",
   "id": "e6b2f9df",
   "metadata": {},
   "source": [
    "1) def is named function whereas lamba is anonymous unnamed function.   \n",
    "2) Def can hold multiple expressions while lambda is a uni-expression function.     \n",
    "3) Def generates a function and designates a name to call it later. Lambda forms a function object and returns it.     \n",
    "4) Def can have a return statement. Lambda can’t have return statements.                    \n",
    "5) Lambda supports to get used inside a list and dictionary.                  "
   ]
  },
  {
   "cell_type": "code",
   "execution_count": 4,
   "id": "bb7d3a48",
   "metadata": {},
   "outputs": [
    {
     "data": {
      "text/plain": [
       "49"
      ]
     },
     "execution_count": 4,
     "metadata": {},
     "output_type": "execute_result"
    }
   ],
   "source": [
    "def square(n):\n",
    "    return n**2\n",
    "square(7)"
   ]
  },
  {
   "cell_type": "code",
   "execution_count": 5,
   "id": "8ffd8a0f",
   "metadata": {},
   "outputs": [
    {
     "data": {
      "text/plain": [
       "<function __main__.<lambda>(x)>"
      ]
     },
     "execution_count": 5,
     "metadata": {},
     "output_type": "execute_result"
    }
   ],
   "source": [
    "lambda x:x**2"
   ]
  },
  {
   "cell_type": "code",
   "execution_count": 8,
   "id": "884b192b",
   "metadata": {},
   "outputs": [
    {
     "data": {
      "text/plain": [
       "<map at 0x239513223d0>"
      ]
     },
     "execution_count": 8,
     "metadata": {},
     "output_type": "execute_result"
    }
   ],
   "source": [
    "map(lambda x:x**2,[7])"
   ]
  },
  {
   "cell_type": "code",
   "execution_count": 11,
   "id": "c31902f4",
   "metadata": {},
   "outputs": [
    {
     "data": {
      "text/plain": [
       "[49]"
      ]
     },
     "execution_count": 11,
     "metadata": {},
     "output_type": "execute_result"
    }
   ],
   "source": [
    "list(map(lambda x:x**2,[7]))"
   ]
  },
  {
   "cell_type": "code",
   "execution_count": 12,
   "id": "fb2f2ff8",
   "metadata": {},
   "outputs": [
    {
     "data": {
      "text/plain": [
       "49"
      ]
     },
     "execution_count": 12,
     "metadata": {},
     "output_type": "execute_result"
    }
   ],
   "source": [
    "list(map(lambda x:x**2,[7]))[0]"
   ]
  },
  {
   "cell_type": "markdown",
   "id": "848593ff",
   "metadata": {},
   "source": [
    "# 2. What is the benefit of lambda?"
   ]
  },
  {
   "cell_type": "markdown",
   "id": "bb8dc0ca",
   "metadata": {},
   "source": [
    "A lambda expression is a special syntax to create functions without names. These functions are called lambda functions.       \n",
    "These lambda functions can have any number of arguments but only one expression along with an implicit return statement.        \n",
    "Lambda expressions return function objects. \n",
    "\n",
    "For Example consider the lambda expression: \n",
    "lambda (arguments) : (expression)\n",
    "\n",
    "This lambda expression defines an unnamed function, which accepts two arguments and returns the sum of the two arguments.      \n",
    "But how do we call an unnamed function?                                                                             \n",
    "The above defined unnamed lambda function can be called as:  \n",
    "\n",
    "(lambda x, y: x + y)(1, 2)"
   ]
  },
  {
   "cell_type": "code",
   "execution_count": 15,
   "id": "ac97a3d4",
   "metadata": {},
   "outputs": [
    {
     "name": "stdout",
     "output_type": "stream",
     "text": [
      "9\n",
      "2\n"
     ]
    }
   ],
   "source": [
    "# Python program showing a use\n",
    "# lambda function\n",
    " \n",
    "# performing a addition of three number\n",
    "x1 = (lambda x, y, z: (x + y) * z)(1, 2, 3)\n",
    "print(x1)\n",
    " \n",
    "# function using a lambda function     \n",
    "x2 = (lambda x, y, z: (x + y) if (z == 0) else (x * y))(1, 2, 3)\n",
    "print(x2)     "
   ]
  },
  {
   "cell_type": "markdown",
   "id": "7008069b",
   "metadata": {},
   "source": [
    "# 3. Compare and contrast map, filter, and reduce."
   ]
  },
  {
   "cell_type": "markdown",
   "id": "375ef494",
   "metadata": {},
   "source": [
    "1). The map() function:\n",
    "The map() function is a higher-order function. This function accepts another function and a sequence of ‘iterables’ as parameters and provides output after applying the function to each iterable in the sequence. It has the following syntax:\n",
    "\n",
    "SYNTAX: map(function, iterables)\n",
    "\n",
    "The function is used to define an expression which is then applied to the ‘iterables’. User-defined functions and lambda\n",
    "functions can both be sent to the map function.\n",
    "User-defined functions can be sent to the map() method. The user or programmer is the only one who can change the parameters of these functions."
   ]
  },
  {
   "cell_type": "code",
   "execution_count": 16,
   "id": "d6baf0eb",
   "metadata": {},
   "outputs": [
    {
     "name": "stdout",
     "output_type": "stream",
     "text": [
      "<map object at 0x0000023951322E20>\n",
      "{16, 1, 4, 9}\n"
     ]
    }
   ],
   "source": [
    "def function(a):\n",
    "    return a*a\n",
    "x = map(function, (1,2,3,4))  #x is the map object\n",
    "print(x)\n",
    "print(set(x))"
   ]
  },
  {
   "cell_type": "code",
   "execution_count": 17,
   "id": "26d4e0c1",
   "metadata": {},
   "outputs": [
    {
     "name": "stdout",
     "output_type": "stream",
     "text": [
      "(8, 10, 25, 100, 57, 65, 80, 26, 76, 64)\n"
     ]
    }
   ],
   "source": [
    "tup= (5, 7, 22, 97, 54, 62, 77, 23, 73, 61)\n",
    "newtuple = tuple(map(lambda x: x+3 , tup)) \n",
    "print(newtuple)"
   ]
  },
  {
   "cell_type": "markdown",
   "id": "d3c70e42",
   "metadata": {},
   "source": [
    "2) <b><u>The filter()</u></b> function:\n",
    "The filter() function is used to generate an output list of values that return true when the function is called. It has the following syntax:\n",
    "\n",
    "SYNTAX: filter (function, iterables)\n",
    "\n",
    "This function like map(), can take user-defined functions and lambda functions as parameters."
   ]
  },
  {
   "cell_type": "code",
   "execution_count": 18,
   "id": "ec23b64f",
   "metadata": {},
   "outputs": [
    {
     "name": "stdout",
     "output_type": "stream",
     "text": [
      "<filter object at 0x0000023951322670>\n",
      "[3, 4]\n"
     ]
    }
   ],
   "source": [
    "def func(x):\n",
    "    if x>=3:\n",
    "        return x\n",
    "y = filter(func, (1,2,3,4))  \n",
    "print(y)\n",
    "print(list(y))"
   ]
  },
  {
   "cell_type": "code",
   "execution_count": 19,
   "id": "6f18f27b",
   "metadata": {},
   "outputs": [
    {
     "name": "stdout",
     "output_type": "stream",
     "text": [
      "[3, 4]\n"
     ]
    }
   ],
   "source": [
    "y = filter(lambda x: (x>=3), (1,2,3,4))\n",
    "print(list(y))"
   ]
  },
  {
   "attachments": {
    "image.png": {
     "image/png": "[encoded data removed]"
    }
   },
   "cell_type": "markdown",
   "id": "ebd57e7b",
   "metadata": {},
   "source": [
    "3) <b><u>The reduce()</u></b> function:\n",
    "The reduce() function applies a provided function to ‘iterables’ and returns a single value, as the name implies.\n",
    "\n",
    "SYNTAX: reduce(function, iterables)\n",
    "\n",
    "The function specifies which expression should be applied to the ‘iterables’ in this case. The function tools module must be used to import this function.\n",
    "\n",
    "![image.png](attachment:image.png)"
   ]
  },
  {
   "cell_type": "code",
   "execution_count": 20,
   "id": "d9031b0d",
   "metadata": {},
   "outputs": [
    {
     "data": {
      "text/plain": [
       "187"
      ]
     },
     "execution_count": 20,
     "metadata": {},
     "output_type": "execute_result"
    }
   ],
   "source": [
    "from functools import reduce\n",
    "reduce(lambda a,b: a+b,[23,21,45,98])"
   ]
  },
  {
   "cell_type": "markdown",
   "id": "5838d50e",
   "metadata": {},
   "source": [
    "# 4. What are function annotations, and how are they used?"
   ]
  },
  {
   "cell_type": "markdown",
   "id": "95c361e5",
   "metadata": {},
   "source": [
    "Function annotation is the standard way to access the metadata with the arguments and the return value of the function.       \n",
    "1)These are nothing but some random and optional Python expressions that get allied to different parts of the function.        \n",
    "2)They get evaluated only during the compile-time and have no significance during the run-time of the code.                     \n",
    "3)They do not have any significance or meaning associated with them until accessed by some third-party libraries.               \n",
    "4)They are used to type check the functions by declaring the type of the parameters and the return value for the functions.      5)The string-based annotations help us to improve the help messages."
   ]
  },
  {
   "cell_type": "code",
   "execution_count": 1,
   "id": "b8a5ce9b",
   "metadata": {},
   "outputs": [],
   "source": [
    "def func(a: 'int') -> 'int':\n",
    "    pass"
   ]
  },
  {
   "cell_type": "markdown",
   "id": "10d85c2f",
   "metadata": {},
   "source": [
    "In the above code, we have a function func with a parameter named a. The data type of this parameter is marked through the annotation, int. Similarly, the data type for the return value is also marked as int."
   ]
  },
  {
   "cell_type": "code",
   "execution_count": 7,
   "id": "8e45f854",
   "metadata": {},
   "outputs": [],
   "source": [
    "def func(x: 'float', y: 'argument2'):\n",
    "    pass"
   ]
  },
  {
   "cell_type": "code",
   "execution_count": 17,
   "id": "07474c00",
   "metadata": {},
   "outputs": [],
   "source": [
    "def func(*args: 'expression', **kwargs: 'expression'):\n",
    "    pass"
   ]
  },
  {
   "cell_type": "code",
   "execution_count": 18,
   "id": "1960682f",
   "metadata": {},
   "outputs": [
    {
     "name": "stdout",
     "output_type": "stream",
     "text": [
      "{'args': 'expression', 'kwargs': 'expression'}\n"
     ]
    }
   ],
   "source": [
    "print(func.__annotations__) "
   ]
  },
  {
   "cell_type": "markdown",
   "id": "b9f898b3",
   "metadata": {},
   "source": [
    "\n",
    "# 5. What are recursive functions, and how are they used?"
   ]
  },
  {
   "cell_type": "markdown",
   "id": "b6b48aa8",
   "metadata": {},
   "source": [
    "Recursion is characterized as the process of describing something in terms of itself; in other words, it is the process of naming the function by itself. Recursion is the mechanism of a function calling itself directly or implicitly, and the resulting function is known as a Recursive function."
   ]
  },
  {
   "cell_type": "markdown",
   "id": "a61291e4",
   "metadata": {},
   "source": [
    "<u>Advantages</u>:\n",
    "Code reusability                                                                                                         \n",
    "Easily understandable                                                                             \n",
    "Time complexity sometimes low                                                                               \n",
    "Less number of code                                                                  \n",
    "\n",
    "<u>Disadvantages</u>:                                                                                                    \n",
    "Causes overflow if condition exceeds                                                                              \n",
    "More memory                                                                                                               \n",
    "It is difficult to understand                                                                                                  \n",
    "It is difficult to debug                                                                                         \n",
    "Terminating conditions in Recursion is a must"
   ]
  },
  {
   "attachments": {
    "image.png": {
     "image/png": "[encoded data removed]"
    }
   },
   "cell_type": "markdown",
   "id": "289a00cc",
   "metadata": {},
   "source": [
    "def function_name(): \n",
    "\n",
    "             ……………..\n",
    "\n",
    "             |(recursive call)\n",
    "\n",
    "             ………………….\n",
    "\n",
    "   function_name() \n",
    "\n",
    "![image.png](attachment:image.png)\n",
    "\n",
    "Recursion calls the function which is already called and will call many times till the condition will become false. After that, it will return the value\n",
    "\n",
    "Fibonacci:\n",
    "\n",
    "Number=sum of two previous numbers\n",
    "\n",
    "0,1\n",
    "\n",
    "0+1=1\n",
    "\n",
    "0+1=2\n",
    "\n",
    "2+1=3\n",
    "\n",
    "3+2=5\n",
    "\n",
    "5+3=8\n",
    "\n",
    "So the Fibonacci numbers are 0,1,1,2,3,5,8……."
   ]
  },
  {
   "cell_type": "code",
   "execution_count": 19,
   "id": "b0856635",
   "metadata": {},
   "outputs": [
    {
     "name": "stdout",
     "output_type": "stream",
     "text": [
      "\n",
      "Fibonacci series upto 1 number:\n",
      "0 \n",
      "Fibonacci series upto 5 numbers:\n",
      "0 1 1 2 3 \n",
      "Fibonacci series upto 10 numbers:\n",
      "0 1 1 2 3 5 8 13 21 34 "
     ]
    }
   ],
   "source": [
    "# Recursive function\n",
    "def recursive_function(a):\n",
    "   \n",
    "    # Check number\n",
    "    if a <= 1:\n",
    "        return a\n",
    "    else:\n",
    "         \n",
    "        # Get next term\n",
    "        return(recursive_function(a-1) + recursive_function(a-2))\n",
    " \n",
    "     \n",
    "# Display first fibonacci number\n",
    "print(\"\\nFibonacci series upto 1 number:\")\n",
    "for i in range(1):\n",
    "    print(recursive_function(i),\n",
    "          end=\" \")   \n",
    "    \n",
    "# Display first 5 fibonacci numbers\n",
    "print(\"\\nFibonacci series upto 5 numbers:\")\n",
    "for i in range(5):\n",
    "    print(recursive_function(i),\n",
    "          end=\" \")\n",
    "     \n",
    "# Display first 10 fibonacci numbers\n",
    "print(\"\\nFibonacci series upto 10 numbers:\")\n",
    "for i in range(10):\n",
    "    print(recursive_function(i),\n",
    "          end=\" \")  "
   ]
  },
  {
   "cell_type": "markdown",
   "id": "0a1d74a2",
   "metadata": {},
   "source": [
    "# 6. What are some general design guidelines for coding functions?"
   ]
  },
  {
   "cell_type": "markdown",
   "id": "e49b7900",
   "metadata": {},
   "source": [
    "1. Use 4-space indentation and no tabs.\n",
    "2. Use docstrings\n",
    "3. Wrap linethat they don’t exceed 79 characters\n",
    "4. Use of regular and updated comments are valuable to both the coders and users\n",
    "5. Use of trailing commas : in case of tuple -> ('good',)\n",
    "6. Use Python’s default UTF-8 or ASCII encodings and not any fancy encodings\n",
    "7. Naming Conventions\n",
    "8.Characters that should not be used for identifiers :\n",
    "    ‘l’ (lowercase letter el), \n",
    "    ‘O’ (uppercase letter oh), \n",
    "    ‘I’ (uppercase letter eye) as single character variable names as these are similar to the numerals one and zero.\n",
    "9. Don’t use non-ASCII characters in identifiers\n",
    "10. Name your classes and functions consistently\n",
    "11. While naming of function of methods always use self for the first argument\n",
    "12. Logging and Exception handing to be used"
   ]
  },
  {
   "cell_type": "markdown",
   "id": "dfebe4e0",
   "metadata": {},
   "source": [
    "# 7. Name three or more ways that functions can communicate results to a caller."
   ]
  },
  {
   "cell_type": "markdown",
   "id": "cafe8f95",
   "metadata": {},
   "source": [
    "The return value of a Python function can be any Python object.                                         \n",
    "Everything in Python is an object.                                                                                \n",
    "So, your functions can return numeric values (int, float, and complex values), collections and sequences of objects             \n",
    "(list, tuple, dictionary, or set objects), user-defined objects, classes, functions, and even modules or packages.         \n",
    "\n",
    "You can omit the return value of a function and use a bare return without a return value.                               \n",
    "You can also omit the entire return statement. In both cases, the return value will be None."
   ]
  }
 ],
 "metadata": {
  "kernelspec": {
   "display_name": "Python 3",
   "language": "python",
   "name": "python3"
  },
  "language_info": {
   "codemirror_mode": {
    "name": "ipython",
    "version": 3
   },
   "file_extension": ".py",
   "mimetype": "text/x-python",
   "name": "python",
   "nbconvert_exporter": "python",
   "pygments_lexer": "ipython3",
   "version": "3.8.8"
  }
 },
 "nbformat": 4,
 "nbformat_minor": 5
}
