{
 "cells": [
  {
   "cell_type": "markdown",
   "id": "1912c28c",
   "metadata": {},
   "source": [
    "\n",
    "\n",
    "# Q1. What is the concept of a metaclass?"
   ]
  },
  {
   "cell_type": "markdown",
   "id": "989db964",
   "metadata": {},
   "source": [
    "Metaclass in Python is a class of a class that defines how a class behaves.\n",
    "\n",
    "A class is itself a instance of Metaclass, and any Instance of Class in Python is an Instance of type metaclass.\n",
    "\n",
    "The classes that generate other classes are defined as metaclasses."
   ]
  },
  {
   "cell_type": "markdown",
   "id": "fb4f73c6",
   "metadata": {},
   "source": [
    "Normally, we define a class using a special syntax called the class keyword, but this syntax is a substitute for type class."
   ]
  },
  {
   "cell_type": "markdown",
   "id": "1dda216f",
   "metadata": {},
   "source": [
    "\n",
    "\n",
    "# Q2. What is the best way to declare a class's metaclass?"
   ]
  },
  {
   "cell_type": "markdown",
   "id": "c175c6a8",
   "metadata": {},
   "source": [
    "Ans: A way to declare a class’ metaclass is by using metaclass keyword in class definition."
   ]
  },
  {
   "cell_type": "code",
   "execution_count": 1,
   "id": "7995ee36",
   "metadata": {},
   "outputs": [
    {
     "name": "stdout",
     "output_type": "stream",
     "text": [
      "<class 'type'>\n",
      "<class '__main__.meta'>\n"
     ]
    }
   ],
   "source": [
    "class meta(type):\n",
    "    pass\n",
    "class class_meta(metaclass=meta):\n",
    "    pass\n",
    "print(type(meta))\n",
    "print(type(class_meta))"
   ]
  },
  {
   "cell_type": "markdown",
   "id": "6e2ab304",
   "metadata": {},
   "source": [
    "Metaclasses are classes that inherit directly from type. The method that custom metaclasses should implement is the \\_\\_new__ method. \n",
    "\n",
    "The arguments mentioned in the \\_\\_new__  method of metaclasses reflects in the \\_\\_new__ method of type class. It has four positional arguments. They are as follows:\n",
    "\n",
    "1) The first argument is the metaclass itself.\n",
    "\n",
    "2) The second argument is the class name.\n",
    "\n",
    "3) The third argument is the  superclasses (in the form of tuple)\n",
    "\n",
    "4) The fourth argument is the attributes of class (in the form of dictionary)\n",
    "\n",
    " Let’s have a look at the below code."
   ]
  },
  {
   "cell_type": "code",
   "execution_count": 2,
   "id": "8c57674d",
   "metadata": {},
   "outputs": [
    {
     "name": "stdout",
     "output_type": "stream",
     "text": [
      "clsname: C\n",
      "superclasses: (<class 'object'>,)\n",
      "attrdict: {}\n",
      "class type: <class '__main__.MetaCls'>\n"
     ]
    }
   ],
   "source": [
    "class MetaCls(type):\n",
    "    \"\"\"A sample metaclass without any functionality\"\"\"\n",
    "    def __new__(cls, clsname, superclasses, attributedict):\n",
    "        print(\"clsname:\", clsname)\n",
    "        print(\"superclasses:\", superclasses)\n",
    "        print(\"attrdict:\", attributedict)\n",
    "        return super(MetaCls, cls).__new__(cls, \\\n",
    "                       clsname, superclasses, attributedict)\n",
    "  \n",
    "C = MetaCls('C', (object, ), {})\n",
    "print(\"class type:\", type(C))"
   ]
  },
  {
   "cell_type": "markdown",
   "id": "83196874",
   "metadata": {},
   "source": [
    "\n",
    "\n",
    "# Q3. How do class decorators overlap with metaclasses for handling classes ?"
   ]
  },
  {
   "cell_type": "markdown",
   "id": "a00723dc",
   "metadata": {},
   "source": [
    "Class Verification\n",
    "\n",
    "If you need to design a class that agrees to a particular interface, then a metaclass is the right solution. We can consider a sample code where a class requires either one of the attributes to be set. Let’s go through the code."
   ]
  },
  {
   "cell_type": "code",
   "execution_count": 6,
   "id": "777d9cc4",
   "metadata": {},
   "outputs": [
    {
     "ename": "TypeError",
     "evalue": "Class SubClass cannot contain both foo and bar attributes.",
     "output_type": "error",
     "traceback": [
      "\u001b[1;31m---------------------------------------------------------------------------\u001b[0m",
      "\u001b[1;31mTypeError\u001b[0m                                 Traceback (most recent call last)",
      "\u001b[1;32m<ipython-input-6-6f88714c3da7>\u001b[0m in \u001b[0;36m<module>\u001b[1;34m\u001b[0m\n\u001b[0;32m     11\u001b[0m         \u001b[1;32mreturn\u001b[0m \u001b[0msuper\u001b[0m\u001b[1;33m(\u001b[0m\u001b[0mMainClass\u001b[0m\u001b[1;33m,\u001b[0m \u001b[0mcls\u001b[0m\u001b[1;33m)\u001b[0m\u001b[1;33m.\u001b[0m\u001b[0m__new__\u001b[0m\u001b[1;33m(\u001b[0m\u001b[0mcls\u001b[0m\u001b[1;33m,\u001b[0m \u001b[0mname\u001b[0m\u001b[1;33m,\u001b[0m \u001b[0mbases\u001b[0m\u001b[1;33m,\u001b[0m \u001b[0mattrs\u001b[0m\u001b[1;33m)\u001b[0m\u001b[1;33m\u001b[0m\u001b[1;33m\u001b[0m\u001b[0m\n\u001b[0;32m     12\u001b[0m \u001b[1;33m\u001b[0m\u001b[0m\n\u001b[1;32m---> 13\u001b[1;33m \u001b[1;32mclass\u001b[0m \u001b[0mSubClass\u001b[0m\u001b[1;33m(\u001b[0m\u001b[0mmetaclass\u001b[0m \u001b[1;33m=\u001b[0m \u001b[0mMainClass\u001b[0m\u001b[1;33m)\u001b[0m\u001b[1;33m:\u001b[0m\u001b[1;33m\u001b[0m\u001b[1;33m\u001b[0m\u001b[0m\n\u001b[0m\u001b[0;32m     14\u001b[0m     \u001b[0mfoo\u001b[0m \u001b[1;33m=\u001b[0m \u001b[1;36m42\u001b[0m\u001b[1;33m\u001b[0m\u001b[1;33m\u001b[0m\u001b[0m\n\u001b[0;32m     15\u001b[0m     \u001b[0mbar\u001b[0m \u001b[1;33m=\u001b[0m \u001b[1;36m34\u001b[0m\u001b[1;33m\u001b[0m\u001b[1;33m\u001b[0m\u001b[0m\n",
      "\u001b[1;32m<ipython-input-6-6f88714c3da7>\u001b[0m in \u001b[0;36m__new__\u001b[1;34m(cls, name, bases, attrs)\u001b[0m\n\u001b[0;32m      2\u001b[0m     \u001b[1;32mdef\u001b[0m \u001b[0m__new__\u001b[0m\u001b[1;33m(\u001b[0m\u001b[0mcls\u001b[0m\u001b[1;33m,\u001b[0m \u001b[0mname\u001b[0m\u001b[1;33m,\u001b[0m \u001b[0mbases\u001b[0m\u001b[1;33m,\u001b[0m \u001b[0mattrs\u001b[0m\u001b[1;33m)\u001b[0m\u001b[1;33m:\u001b[0m\u001b[1;33m\u001b[0m\u001b[1;33m\u001b[0m\u001b[0m\n\u001b[0;32m      3\u001b[0m         \u001b[1;32mif\u001b[0m \u001b[1;34m'foo'\u001b[0m \u001b[1;32min\u001b[0m \u001b[0mattrs\u001b[0m \u001b[1;32mand\u001b[0m \u001b[1;34m'bar'\u001b[0m \u001b[1;32min\u001b[0m \u001b[0mattrs\u001b[0m\u001b[1;33m:\u001b[0m\u001b[1;33m\u001b[0m\u001b[1;33m\u001b[0m\u001b[0m\n\u001b[1;32m----> 4\u001b[1;33m             \u001b[1;32mraise\u001b[0m \u001b[0mTypeError\u001b[0m\u001b[1;33m(\u001b[0m\u001b[1;34m'Class % s cannot contain both foo and bar attributes.'\u001b[0m \u001b[1;33m%\u001b[0m \u001b[0mname\u001b[0m\u001b[1;33m)\u001b[0m\u001b[1;33m\u001b[0m\u001b[1;33m\u001b[0m\u001b[0m\n\u001b[0m\u001b[0;32m      5\u001b[0m         \u001b[1;32mif\u001b[0m \u001b[1;34m'foo'\u001b[0m \u001b[1;32mnot\u001b[0m \u001b[1;32min\u001b[0m \u001b[0mattrs\u001b[0m \u001b[1;32mand\u001b[0m \u001b[1;34m'bar'\u001b[0m \u001b[1;32mnot\u001b[0m \u001b[1;32min\u001b[0m \u001b[0mattrs\u001b[0m\u001b[1;33m:\u001b[0m\u001b[1;33m\u001b[0m\u001b[1;33m\u001b[0m\u001b[0m\n\u001b[0;32m      6\u001b[0m             \u001b[1;32mraise\u001b[0m \u001b[0mTypeError\u001b[0m\u001b[1;33m(\u001b[0m\u001b[1;34m'Class % s must provide either a foo attribute or a bar attribute.'\u001b[0m \u001b[1;33m%\u001b[0m \u001b[0mname\u001b[0m\u001b[1;33m)\u001b[0m\u001b[1;33m\u001b[0m\u001b[1;33m\u001b[0m\u001b[0m\n",
      "\u001b[1;31mTypeError\u001b[0m: Class SubClass cannot contain both foo and bar attributes."
     ]
    }
   ],
   "source": [
    "class MainClass(type):\n",
    "    def __new__(cls, name, bases, attrs):\n",
    "        if 'foo' in attrs and 'bar' in attrs:\n",
    "            raise TypeError('Class % s cannot contain both foo and bar attributes.' % name)\n",
    "        if 'foo' not in attrs and 'bar' not in attrs:\n",
    "            raise TypeError('Class % s must provide either a foo attribute or a bar attribute.' % name)\n",
    "        else:\n",
    "            print('Success')\n",
    "              \n",
    "  \n",
    "        return super(MainClass, cls).__new__(cls, name, bases, attrs)\n",
    "  \n",
    "class SubClass(metaclass = MainClass):\n",
    "    foo = 42\n",
    "    bar = 34\n",
    "  \n",
    "  \n",
    "subCls = SubClass()"
   ]
  },
  {
   "cell_type": "markdown",
   "id": "2194b9cb",
   "metadata": {},
   "source": [
    "Here we tried to set two attributes. Hence, the design prevented it from setting and raised the below error. \n",
    "\n",
    "<B>You may think, using <B>decorators</B> you can easily make a class that agrees to a particular standard. But the disadvantage of using class decorator is that it must be explicitly applied to each subclass."
   ]
  },
  {
   "cell_type": "code",
   "execution_count": 8,
   "id": "d7acd158",
   "metadata": {},
   "outputs": [
    {
     "name": "stdout",
     "output_type": "stream",
     "text": [
      "Apple\n"
     ]
    }
   ],
   "source": [
    "# Python program showing\n",
    "# use of __call__() method\n",
    "\n",
    "class MyDecorator:\n",
    "\tdef __init__(self, function):\n",
    "\t\tself.function = function\n",
    "\t\n",
    "\tdef __call__(self):\n",
    "\n",
    "\t\t# We can add some code\n",
    "\t\t# before function call\n",
    "\n",
    "\t\tself.function()\n",
    "\n",
    "\t\t# We can also add some code\n",
    "\t\t# after function call.\n",
    "\n",
    "\n",
    "# adding class decorator to the function\n",
    "@MyDecorator\n",
    "def function():\n",
    "\tprint(\"Apple\")\n",
    "\n",
    "function()\n"
   ]
  },
  {
   "cell_type": "markdown",
   "id": "d2420531",
   "metadata": {},
   "source": [
    "\n",
    "\n",
    "# Q4. How do class decorators overlap with metaclasses for handling instances?"
   ]
  },
  {
   "cell_type": "markdown",
   "id": "b47babac",
   "metadata": {},
   "source": [
    "Decorators are much, much simpler and more limited -- and therefore should be preferred whenever the desired effect can be achieved with either a metaclass or a class decorator.\n",
    "\n",
    "Anything you can do with a class decorator, you can of course do with a custom metaclass (just apply the functionality of the \"decorator function\", i.e., the one that takes a class object and modifies it, in the course of the metaclass's \\_\\_new__ or \\_\\_init__ that make the class object!-).\n",
    "\n",
    "There are many things you can do in a custom metaclass but not in a decorator (unless the decorator internally generates and applies a custom metaclass, of course -- but that's cheating;-)... and even then, in Python 3, there are things you can only do with a custom metaclass, not after the fact... but that's a pretty advanced sub-niche of your question, so let me give simpler examples).\n",
    "\n",
    "For example, suppose you want to make a class object X such that print X (or in Python 3 print(X) of course;-) displays peekaboo!. You cannot possibly do that without a custom metaclass, because the metaclass's override of \\_\\_str__ is the crucial actor here, i.e., you need a def \\_\\_str__(cls): return \"peekaboo!\" in the custom metaclass of class X.\n",
    "\n",
    "The same applies to all magic methods, i.e., to all kinds of operations as applied to the class object itself (as opposed to, ones applied to its instances, which use magic methods as defined in the class -- operations on the class object itself use magic methods as defined in the metaclass)."
   ]
  }
 ],
 "metadata": {
  "kernelspec": {
   "display_name": "Python 3",
   "language": "python",
   "name": "python3"
  },
  "language_info": {
   "codemirror_mode": {
    "name": "ipython",
    "version": 3
   },
   "file_extension": ".py",
   "mimetype": "text/x-python",
   "name": "python",
   "nbconvert_exporter": "python",
   "pygments_lexer": "ipython3",
   "version": "3.8.8"
  }
 },
 "nbformat": 4,
 "nbformat_minor": 5
}
