{
 "cells": [
  {
   "cell_type": "markdown",
   "id": "87d6ab9d",
   "metadata": {},
   "source": [
    "# Q1. What are the two latest user-defined exception constraints in Python 3.X?"
   ]
  },
  {
   "cell_type": "markdown",
   "id": "09f28bde",
   "metadata": {},
   "source": [
    "There is no user-defined exception constraints as user-defined exceptions can be raised and captured based on programming requirement."
   ]
  },
  {
   "cell_type": "markdown",
   "id": "f384c88e",
   "metadata": {},
   "source": [
    "Syntax of Python User Defined Exception\n",
    "\n",
    "Some of the common predefined exceptions that mostly occur in python include FileNotFoundError, ImportError, TypeError, IOError, IndexError and ZeroDivisionError. Most of the exceptions end with the Error name in them. However, it is not a compulsion but a suggestion that whenever you will go for creating your own exception, you should name it so that it should end with Error word and have camel-case in it. The general way or syntax of creating a new user defined exception is to create a new class for the exception. This class should be directly or indirectly derived from the main Exception class.\n",
    "\n",
    "In order to get the complete detail or to get additional information about the Exception in python, you can execute the following command."
   ]
  },
  {
   "cell_type": "code",
   "execution_count": 1,
   "id": "af17ddad",
   "metadata": {},
   "outputs": [
    {
     "name": "stdout",
     "output_type": "stream",
     "text": [
      "Help on class Exception in module builtins:\n",
      "\n",
      "class Exception(BaseException)\n",
      " |  Common base class for all non-exit exceptions.\n",
      " |  \n",
      " |  Method resolution order:\n",
      " |      Exception\n",
      " |      BaseException\n",
      " |      object\n",
      " |  \n",
      " |  Built-in subclasses:\n",
      " |      ArithmeticError\n",
      " |      AssertionError\n",
      " |      AttributeError\n",
      " |      BufferError\n",
      " |      ... and 15 other subclasses\n",
      " |  \n",
      " |  Methods defined here:\n",
      " |  \n",
      " |  __init__(self, /, *args, **kwargs)\n",
      " |      Initialize self.  See help(type(self)) for accurate signature.\n",
      " |  \n",
      " |  ----------------------------------------------------------------------\n",
      " |  Static methods defined here:\n",
      " |  \n",
      " |  __new__(*args, **kwargs) from builtins.type\n",
      " |      Create and return a new object.  See help(type) for accurate signature.\n",
      " |  \n",
      " |  ----------------------------------------------------------------------\n",
      " |  Methods inherited from BaseException:\n",
      " |  \n",
      " |  __delattr__(self, name, /)\n",
      " |      Implement delattr(self, name).\n",
      " |  \n",
      " |  __getattribute__(self, name, /)\n",
      " |      Return getattr(self, name).\n",
      " |  \n",
      " |  __reduce__(...)\n",
      " |      Helper for pickle.\n",
      " |  \n",
      " |  __repr__(self, /)\n",
      " |      Return repr(self).\n",
      " |  \n",
      " |  __setattr__(self, name, value, /)\n",
      " |      Implement setattr(self, name, value).\n",
      " |  \n",
      " |  __setstate__(...)\n",
      " |  \n",
      " |  __str__(self, /)\n",
      " |      Return str(self).\n",
      " |  \n",
      " |  with_traceback(...)\n",
      " |      Exception.with_traceback(tb) --\n",
      " |      set self.__traceback__ to tb and return self.\n",
      " |  \n",
      " |  ----------------------------------------------------------------------\n",
      " |  Data descriptors inherited from BaseException:\n",
      " |  \n",
      " |  __cause__\n",
      " |      exception cause\n",
      " |  \n",
      " |  __context__\n",
      " |      exception context\n",
      " |  \n",
      " |  __dict__\n",
      " |  \n",
      " |  __suppress_context__\n",
      " |  \n",
      " |  __traceback__\n",
      " |  \n",
      " |  args\n",
      "\n"
     ]
    }
   ],
   "source": [
    "help (Exception)"
   ]
  },
  {
   "cell_type": "markdown",
   "id": "427d4b2e",
   "metadata": {},
   "source": [
    "Example #1\n",
    "\n",
    "Let us create a small exception by creating a new class for our user defined exception. It is necessary that out class should extend the base exception class. Our exception class name will be MyUserDefinedError, and we will use the ty except to check the working of our exception. The except statement will help to display the message containing the returned value from the exception."
   ]
  },
  {
   "cell_type": "code",
   "execution_count": 3,
   "id": "7e940e79",
   "metadata": {},
   "outputs": [
    {
     "name": "stdout",
     "output_type": "stream",
     "text": [
      "The occurrence of the new exception is identified :  72\n"
     ]
    }
   ],
   "source": [
    "# Sample example to demonstrate the working and creation of user defined exception in python\n",
    "# It is necessary that MyUserDefinedError class should be derived from the main super class of the Exception\n",
    "class MyUserDefinedError(Exception):\n",
    "    # Initializer (Constructor) for the class\n",
    "    def __init__(self, value):\n",
    "        self.value = value\n",
    "    # This will help to display the message of the exception\n",
    "    def message(self):\n",
    "        return(repr(self.value))\n",
    "try:\n",
    "    raise(MyUserDefinedError(9*8))\n",
    "    # returnedErrorMessage will store the value of the message or anything which will be returned by the exception\n",
    "except MyUserDefinedError as returnedErrorMessage:\n",
    "    print ('The occurrence of the new exception is identified : ', returnedErrorMessage.value)"
   ]
  },
  {
   "cell_type": "markdown",
   "id": "53cd1f17",
   "metadata": {},
   "source": [
    "Example #2\n",
    "\n",
    "Let us consider one more example of a user-defined exception. In this example, we will try to derive the error from the super class of Exception. This type of superclass exception is mostly used when we have a single module that should handle many different types of errors. We will try to do this by using this module to define the base class for our exceptions. Then, different subclasses will be created to define each exception class for distinct possible errors that need to be handled."
   ]
  },
  {
   "cell_type": "code",
   "execution_count": 4,
   "id": "40867bf6",
   "metadata": {},
   "outputs": [
    {
     "name": "stdout",
     "output_type": "stream",
     "text": [
      "There is an occurrence of exception:  Not Permitted\n"
     ]
    }
   ],
   "source": [
    "# Class which is derived from the main base class of Exception is DerivedClassError class\n",
    "class DerivedClassError(Exception):\n",
    "    # Even though DerivedClassError is derived from the main base class of exceptions,\n",
    "    # it will be used and considered as the base class for our user defined exception class\n",
    "    pass\n",
    "class TransDerivedClassError(DerivedClassError):\n",
    "    # This transition will occur when the transition will try to\n",
    "    # perform the state which is actually not permitted to it\n",
    "    def __init__(self, previous, next, message):\n",
    "        self.previous = previous\n",
    "        self.next = next\n",
    "        # message will store the value generated from the error\n",
    "        self.message = message\n",
    "try:\n",
    "    raise(TransDerivedClassError(4,6*4,\"Not Permitted\"))\n",
    "# DerivedClassError will store the value of the user defined exception\n",
    "except TransDerivedClassError as DerivedClassError:\n",
    "    print('There is an occurrence of exception: ',DerivedClassError.message)"
   ]
  },
  {
   "cell_type": "markdown",
   "id": "1476ce52",
   "metadata": {},
   "source": [
    "Example #3\n",
    "\n",
    "We can even consider the standard predefined exceptions as the base class while creating our new user defined exception. Let us consider one of the examples of that type. RuntimeError is raised when the error which is occurred cannot be considered in any of the available categories of exceptions. RuntimeError is the in-built exception in python. Therefore, we can consider this class as the base class for our user-defined class instead of the main Exception class. The following program illustrates the usage of the same."
   ]
  },
  {
   "cell_type": "code",
   "execution_count": 5,
   "id": "703f4da0",
   "metadata": {},
   "outputs": [
    {
     "name": "stdout",
     "output_type": "stream",
     "text": [
      "('E', 'x', 'c', 'e', 'p', 't', 'i', 'o', 'n')\n"
     ]
    }
   ],
   "source": [
    "# SampleError is derived from the RuntimeError instead of main base class of Exception\n",
    "class SampleError(RuntimeError):\n",
    "    def __init__(self, arg):\n",
    "        self.args = arg\n",
    "try:\n",
    "    raise SampleError(\"Exception\")\n",
    "except SampleError as message:\n",
    "    print (message.args)"
   ]
  },
  {
   "cell_type": "markdown",
   "id": "1d888682",
   "metadata": {},
   "source": [
    "# Q2. How are class-based exceptions that have been raised matched to handlers?"
   ]
  },
  {
   "cell_type": "markdown",
   "id": "57a58a85",
   "metadata": {},
   "source": [
    "In python, Users can define custom exceptions by creating a new class. This exception class has to be derived, either directly or indirectly from built-in Exception class. This new exception class like other exceptions can be raised using the raise statement with an optional error message.\n",
    "\n",
    "Class-based exceptions that have been raised matched to handlers but creating user-defined exception in below mentioned steps:-\n",
    "\n",
    "Step 1: Create User-Defined Exception Class\n",
    "\n",
    "Write a new class (says YourException) for custom exception and inherit it from an in-build Exception class.\n",
    "Define function __init__() to initialize the object of the new class. You can add as many instance variables as you want, to support your exception. For simplicity, we are creating one instance variable called message.\n",
    "\n",
    "Step 2: Raising Exception\n",
    "\n",
    "Now you can write a try-except block to catch the user-defined exception in Python.                                      \n",
    "For testing, inside the try block, we are raising an exception using a keyword “raise\".                                   \n",
    "It creates the instance of the exception class YourException. You can pass any message to your exception class instance.\n",
    "\n",
    "Step 3: Catching Exception\n",
    "\n",
    "Now you have to catch the user-defined exception using except block.\n",
    "We are catching a user-defined exception called YourException.\n",
    "\n",
    "Step 4: Write a Program for User-Defined Exception in Python"
   ]
  },
  {
   "cell_type": "code",
   "execution_count": 9,
   "id": "1bcb3ba9",
   "metadata": {},
   "outputs": [
    {
     "name": "stdout",
     "output_type": "stream",
     "text": [
      "Message: Something is fishy\n",
      "Difficulty Level:  Level 5\n"
     ]
    }
   ],
   "source": [
    "class YourException(Exception):\n",
    "    def __init__(self, message, level):\n",
    "        self.message = message\n",
    "        self.level = level\n",
    "\n",
    "try:\n",
    "    raise YourException(\"Something is fishy\", \"Level 5\")\n",
    "\n",
    "except YourException as err:\n",
    "    # perform any action on YourException instance\n",
    "    print(\"Message:\", err.message)\n",
    "    print(\"Difficulty Level: \", err.level)"
   ]
  },
  {
   "cell_type": "markdown",
   "id": "f917327d",
   "metadata": {},
   "source": [
    "# Q3. Describe two methods for attaching context information to exception artefacts."
   ]
  },
  {
   "cell_type": "markdown",
   "id": "3d2bc104",
   "metadata": {},
   "source": [
    "The process() method of LoggerAdapter is where the contextual information is added to the logging output. its passes the message and keyword arguments of the logging call, and it passes back modified versions of these to use in the call to the underlying logger.\n",
    "\n",
    "Other method that can be used is exception(), Logs a messgae with level ERROR on this logger. The arguments are interpreted as for debug(). Exception info is added to the logging message."
   ]
  },
  {
   "cell_type": "markdown",
   "id": "9f9e5c20",
   "metadata": {},
   "source": [
    "# Q4. Describe two methods for specifying the text of an exception object's error message ?"
   ]
  },
  {
   "cell_type": "markdown",
   "id": "cb55f9a3",
   "metadata": {},
   "source": [
    "A custom exception class, MyCustomError\n",
    "__init__() and __str__() methods required when an exception is raised\n",
    "\n",
    "When we raise an exception, we are actually creating an exception instance and printing it at the same time. Let's dissect the custom exception class shown below"
   ]
  },
  {
   "cell_type": "code",
   "execution_count": 13,
   "id": "4d96f9f8",
   "metadata": {},
   "outputs": [
    {
     "name": "stdout",
     "output_type": "stream",
     "text": [
      "calling str\n"
     ]
    },
    {
     "ename": "MyCustomError",
     "evalue": "MyCustomError, We have a problem ",
     "output_type": "error",
     "traceback": [
      "\u001b[1;31m---------------------------------------------------------------------------\u001b[0m",
      "\u001b[1;31mMyCustomError\u001b[0m                             Traceback (most recent call last)",
      "\u001b[1;32m<ipython-input-13-e0080ab541e2>\u001b[0m in \u001b[0;36m<module>\u001b[1;34m\u001b[0m\n\u001b[0;32m     16\u001b[0m \u001b[1;31m# raise MyCustomError\u001b[0m\u001b[1;33m\u001b[0m\u001b[1;33m\u001b[0m\u001b[1;33m\u001b[0m\u001b[0m\n\u001b[0;32m     17\u001b[0m \u001b[1;33m\u001b[0m\u001b[0m\n\u001b[1;32m---> 18\u001b[1;33m \u001b[1;32mraise\u001b[0m \u001b[0mMyCustomError\u001b[0m\u001b[1;33m(\u001b[0m\u001b[1;34m'We have a problem'\u001b[0m\u001b[1;33m)\u001b[0m\u001b[1;33m\u001b[0m\u001b[1;33m\u001b[0m\u001b[0m\n\u001b[0m",
      "\u001b[1;31mMyCustomError\u001b[0m: MyCustomError, We have a problem "
     ]
    },
    {
     "name": "stdout",
     "output_type": "stream",
     "text": [
      "calling str\n",
      "calling str\n"
     ]
    }
   ],
   "source": [
    "class MyCustomError(Exception):\n",
    "    def __init__(self, *args):\n",
    "        if args:\n",
    "            self.message = args[0]\n",
    "        else:\n",
    "            self.message = None\n",
    "\n",
    "    def __str__(self):\n",
    "        print('calling str')\n",
    "        if self.message:\n",
    "            return 'MyCustomError, {0} '.format(self.message)\n",
    "        else:\n",
    "            return 'MyCustomError has been raised'\n",
    "\n",
    "\n",
    "# raise MyCustomError\n",
    "\n",
    "raise MyCustomError('We have a problem')"
   ]
  },
  {
   "cell_type": "markdown",
   "id": "65eeed09",
   "metadata": {},
   "source": [
    "In the MyCustomError class above, there are two magic methods, __init__ and __str__ that are automatically called during the exception handling process. Init is the method called when an instance is created and str is the magic method called when an instance is printed. Therefore, when an exception is raised, they are usually called in close succession. The raise statement in Python puts the programs into an error condition.\n",
    "\n",
    "The __init__ method has *args in its arguments list. The *args is a special pattern matching mode that is used in functions and methods. It allows multiple arguments to be passed, and stores the arguments passed as a tuple, but it also allows no arguments to be passed at all.\n",
    "\n",
    "In our case, we are saying, that if any arguments are passed to the MyCustomError constructor, we will take the first argument passed, and assign it to an attribute in the object called message. If no arguments are passed, None will be assigned to the message attribute.\n",
    "\n",
    "In the first example, MyCustomError is being raised without any arguments, so None will be set to the message attribute in the object. The str method will be called and will print the message ‘MyCustomError message has been raised’.\n",
    "\n",
    "\n",
    "MyCustomError is raised without any arguments in the parentheses. In other words, it does not look like a standard object construction. This is just a syntax help that Python adds when you raise an exception\n",
    "In the second example, MyCustomError is passed with a string argument of ‘We have a problem’. This is set as the message attribute in the object and printed in the error message when the exception is raised.\n",
    "\n",
    "\n",
    "The code for the MyCustomError exception class can be found here.\n",
    "\n",
    "\n",
    "CustomIntFloatDic class\n",
    "Creating a Custom Dictionary that can only store integers and floats as its values\n",
    "Let's progress now, and demonstrate how custom error classes can easily and usefully be incorporated into our own programs. To begin, I will create a slightly contrived example. In this fictitious example, I will create a custom dictionary, that can only accept either integers or floats as its values.\n",
    "\n",
    "If the user attempts to set any other data type as the value in this dictionary, an exception will be raised. The exception raised will usefully inform the user of how the dictionary is intended to be used. In our case, a message explicitly informing the user that only integers and floats can be set as values in this custom dictionary.\n",
    "\n",
    "We have to be mindful that when we create a custom dictionary there are two places where values can be added. The first is when the object is constructed in the init method (the object could already be assigned with keys and values), and the other is when we set a key and value in the dictionary. In both of these places, we need to write code that ensures that the value can only be of type int or float.\n",
    "\n",
    "To begin, I define a class called CustomIntFloatDict which inherits from the built-in dict class. dict is passed in the arguments list in the parentheses following the name of the class, CustomIntFloatDict.\n",
    "\n",
    "If an instance of the CustomIntFloatDict is created, and no arguments are passed to the key and value parameters, they will be set to None. The if expression evaluates that if either the key is None or the value is None, the get_dict() method will be called on the object, which will return the empty_dict attribute of the object, which points to an empty list. Remember that class attributes are available to all instances of the class.\n",
    "\n",
    "\n",
    "The intention of this class is to have the user pass a list or tuple with the keys and values inside. If the user enters a list or tuple for the keys and values, the two iterables will be zipped together using the python zip function. The zipped variable which points to the zip object can be iterated over, and the tuples can be unpacked. As we iterate through the tuples, I check to see whether the val is an instance of the int or float class. If it is not, I raise a custom IntFloatValueError with val passed as an argument.\n",
    "\n",
    "The IntFloatValueError Exception class\n",
    "When we raise a IntFloatValueError exception, we are creating an instance of the IntFloatValueError class and printing it at the same time. This means the init and str magic methods will be called.\n",
    "\n",
    "The value that caused the exception to be raised is set as an attribute called value in the IntFloatValueError class. When the str magic method is called, an error message informing the user that the value passed to the init of CustomIntFloatDict is invalid. The user will now know what they have to do to rectify this error.\n",
    "\n",
    "\n",
    "The IntFloatValueError and KeyValueConstructError Exception classes\n",
    "\n",
    "If no exception is raised, i.e. if every val from the zipped object is of type int or float, they will be set in the dictionary using __setitem__(), with the dict parent class method doing the job for us, as can be shown below.\n",
    "\n",
    "\n",
    "The KeyValueConstructError Exception class\n",
    "What happens if the user enters a type which is not list or tuple with the keys and values?\n",
    "\n",
    "Again, this example is somewhat contrived, but will showcase how custom exception classes can be used.\n",
    "\n",
    "If the user does not specify the keys and values as either a list or tuple, a KeyValueConstructError exception will be raised. The purpose of this exception class is to inform the user that in order to get keys and values into the CustomIntFloatDict object, a list or tuple must be specified to the init constructor in the CustomIntFloatDict class.\n",
    "\n",
    "In the example shown, a set has been passed as the second argument to the init constrictor, which causes the custom KeyValueConstructError exception to be raised. Usefully, the error message which is displayed informs the user that the keys and values need to be passed as either a list or tuple.\n",
    "\n",
    "When the exception is raised, again, an instance of the KeyValueConstructError is created, with key and value passed as arguments to the KeyValueConstructError constructor. These are set as key and value attributes in the KeyValueConstructError, and used in the __str__ method to produce a useful error message when the object is printed.\n",
    "\n",
    "Furthermore, I have even included the datatypes of the objects that have been added to the init constructor to provide enhanced clarity.\n",
    "\n",
    "\n",
    "Setting a Key and Value in CustomIntFloatDict\n",
    "CustomIntFloatDict inherits from dict. This means it will behave exactly like a dictionary except in the places where we choose to selectively modify its behavior.\n",
    "\n",
    "__setitem__ is the magic method that is invoked when we set the key and value in a dictionary. In our implementation of setitem, we validate that the value is of type int or float, before it can be set in the dictionary. If it is not, we can make use, once more, of the IntFloatValueError exception class. Here, we can see that when we try to set the string ‘bad_value’ as a value in the dictionary test_4, an exception is raised.\n",
    "\n",
    "\n",
    "The code for this tutorial is shown below in the Github gist and available here.\n",
    "\n",
    "\n",
    "Summary:\n",
    "Custom exceptions enhance the usability of a class. An exception class should have init and str magic methods which are called automatically during the exception handling process. It is completely up to us what we want our custom error class to do. The methods shown include inspecting an object and printing a useful error message. In both cases, the exception classes make it easier for users of the class to handle errors when they occur!\n"
   ]
  },
  {
   "cell_type": "markdown",
   "id": "8c6f51ec",
   "metadata": {},
   "source": [
    "# Q5. Why do you no longer use string-based exceptions?"
   ]
  },
  {
   "cell_type": "markdown",
   "id": "02a3e905",
   "metadata": {},
   "source": [
    "String-based Exceptions doesn't inherit from Exceptions."
   ]
  }
 ],
 "metadata": {
  "kernelspec": {
   "display_name": "Python 3",
   "language": "python",
   "name": "python3"
  },
  "language_info": {
   "codemirror_mode": {
    "name": "ipython",
    "version": 3
   },
   "file_extension": ".py",
   "mimetype": "text/x-python",
   "name": "python",
   "nbconvert_exporter": "python",
   "pygments_lexer": "ipython3",
   "version": "3.8.8"
  }
 },
 "nbformat": 4,
 "nbformat_minor": 5
}
