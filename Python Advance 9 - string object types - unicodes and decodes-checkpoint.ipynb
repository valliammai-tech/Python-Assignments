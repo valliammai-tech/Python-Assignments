{
 "cells": [
  {
   "cell_type": "markdown",
   "id": "45835e1b",
   "metadata": {},
   "source": [
    "# Q1. In Python 3.X, what are the names and functions of string object types?"
   ]
  },
  {
   "cell_type": "markdown",
   "id": "88863b4f",
   "metadata": {},
   "source": [
    "Ans: The following are the names and functions of string object types in Python 3.X                                             \n",
    " 1) \\<string\\>.isdecimal() -> Returns True if all characters in a string are decimal."
   ]
  },
  {
   "cell_type": "code",
   "execution_count": 1,
   "id": "0dbeeec3",
   "metadata": {},
   "outputs": [
    {
     "name": "stdout",
     "output_type": "stream",
     "text": [
      "True\n"
     ]
    }
   ],
   "source": [
    "print('1234567890'.isdecimal())"
   ]
  },
  {
   "cell_type": "markdown",
   "id": "92f7f0cf",
   "metadata": {},
   "source": [
    "2) \\<string\\>.isalnum() -> Returns True if all characters in the string are AlphaNumeric."
   ]
  },
  {
   "cell_type": "code",
   "execution_count": 2,
   "id": "2226e64f",
   "metadata": {},
   "outputs": [
    {
     "name": "stdout",
     "output_type": "stream",
     "text": [
      "True\n",
      "True\n",
      "False\n"
     ]
    }
   ],
   "source": [
    "print('IneuronFullStackDS'.isalnum())\n",
    "print('IneuronFullStackDS77'.isalnum())\n",
    "print('Ineuron FullStackDS'.isalnum())"
   ]
  },
  {
   "cell_type": "markdown",
   "id": "6766236b",
   "metadata": {},
   "source": [
    "3) \\<string\\>.istitle() -> Returns True if first character in a string is in Uppercase."
   ]
  },
  {
   "cell_type": "code",
   "execution_count": 3,
   "id": "7bbfc9a6",
   "metadata": {},
   "outputs": [
    {
     "name": "stdout",
     "output_type": "stream",
     "text": [
      "True\n",
      "False\n"
     ]
    }
   ],
   "source": [
    "print('Ineuron Full Stack Data Science'.istitle())\n",
    "print('Ineuron Full Stack data Science'.istitle())"
   ]
  },
  {
   "cell_type": "markdown",
   "id": "cc2df155",
   "metadata": {},
   "source": [
    "4) \\<string\\>.partition(<sub_string>) -> Splits string at first occurrence of sub string and returns a tuple of 3 elements."
   ]
  },
  {
   "cell_type": "code",
   "execution_count": 4,
   "id": "2c145ea4",
   "metadata": {},
   "outputs": [
    {
     "name": "stdout",
     "output_type": "stream",
     "text": [
      "('\"I could eat ', 'bananas', ' all day, bananas are my favorite fruit\"')\n"
     ]
    }
   ],
   "source": [
    "print('\"I could eat bananas all day, bananas are my favorite fruit\"'.partition('bananas'))"
   ]
  },
  {
   "cell_type": "markdown",
   "id": "1495ad93",
   "metadata": {},
   "source": [
    "5) \\<string\\>.rpartition(<sub_string>) -> Splits string at last occurance of sub string and returns a tuple of 3 elements."
   ]
  },
  {
   "cell_type": "code",
   "execution_count": 5,
   "id": "c7a856f4",
   "metadata": {},
   "outputs": [
    {
     "name": "stdout",
     "output_type": "stream",
     "text": [
      "('\"I could eat bananas all day, ', 'bananas', ' are my favorite fruit\"')\n"
     ]
    }
   ],
   "source": [
    "print('\"I could eat bananas all day, bananas are my favorite fruit\"'.rpartition('bananas'))"
   ]
  },
  {
   "cell_type": "markdown",
   "id": "ec3c508e",
   "metadata": {},
   "source": [
    "6) \\<string\\>.isidentifier() -> Returns True if give string is a valid identifier name"
   ]
  },
  {
   "cell_type": "code",
   "execution_count": 6,
   "id": "53672950",
   "metadata": {},
   "outputs": [
    {
     "name": "stdout",
     "output_type": "stream",
     "text": [
      "True\n",
      "False\n",
      "False\n",
      "True\n",
      "False\n"
     ]
    }
   ],
   "source": [
    "print('GeeksForFreaks'.isidentifier())\n",
    "print(''.isidentifier())\n",
    "print('Geeks For Geeks'.isidentifier())\n",
    "print('Geeks5For0Geeks'.isidentifier())\n",
    "print('54GeeksForGeeks'.isidentifier())"
   ]
  },
  {
   "cell_type": "markdown",
   "id": "3b993c55",
   "metadata": {},
   "source": [
    "7) len(\\<string\\>) -> Returns the length of the given string"
   ]
  },
  {
   "cell_type": "code",
   "execution_count": 7,
   "id": "7b21900b",
   "metadata": {},
   "outputs": [
    {
     "name": "stdout",
     "output_type": "stream",
     "text": [
      "17\n"
     ]
    }
   ],
   "source": [
    "print(len('Linear Regression'))"
   ]
  },
  {
   "cell_type": "markdown",
   "id": "8b3acba7",
   "metadata": {},
   "source": [
    "8) \\<string\\>.index(<sub_string>) -> Returns the lowest index of substring if substring is found in the string."
   ]
  },
  {
   "cell_type": "code",
   "execution_count": 8,
   "id": "cffdc0c3",
   "metadata": {},
   "outputs": [
    {
     "name": "stdout",
     "output_type": "stream",
     "text": [
      "1\n"
     ]
    }
   ],
   "source": [
    "print('Ineuron'.index('n'))"
   ]
  },
  {
   "cell_type": "markdown",
   "id": "0ac564fe",
   "metadata": {},
   "source": [
    "9) \\<string\\>.rindex(<sub_string>) -> Returns the highest index of substring if substring is found in the string."
   ]
  },
  {
   "cell_type": "code",
   "execution_count": 9,
   "id": "9585afae",
   "metadata": {},
   "outputs": [
    {
     "name": "stdout",
     "output_type": "stream",
     "text": [
      "6\n"
     ]
    }
   ],
   "source": [
    "print('Ineuron'.rindex('n'))"
   ]
  },
  {
   "cell_type": "markdown",
   "id": "01a2e927",
   "metadata": {},
   "source": [
    "10) max(\\<string\\>) -> Returns the highest Alphabetical Character in the string as per ASCII.                                   \n",
    "11) min(\\<string\\>) -> Returns the lowest Alphabetical Character in the string as per ASCII."
   ]
  },
  {
   "cell_type": "code",
   "execution_count": 10,
   "id": "c110dd52",
   "metadata": {},
   "outputs": [
    {
     "name": "stdout",
     "output_type": "stream",
     "text": [
      "t\n",
      "A\n"
     ]
    }
   ],
   "source": [
    "print(max('Data_Scientist'))\n",
    "print(min('Data_Analyst'))"
   ]
  },
  {
   "cell_type": "markdown",
   "id": "7c929a96",
   "metadata": {},
   "source": [
    "12) \\<string\\>.splitlines() -> Returns a list of lines in the string."
   ]
  },
  {
   "cell_type": "code",
   "execution_count": 11,
   "id": "f74f1fc5",
   "metadata": {},
   "outputs": [
    {
     "name": "stdout",
     "output_type": "stream",
     "text": [
      "['Ineuron ', ' Full Stack ', ' Data Science ', ' Course ']\n"
     ]
    }
   ],
   "source": [
    "print('Ineuron \\n Full Stack \\n Data Science \\n Course '.splitlines())"
   ]
  },
  {
   "cell_type": "markdown",
   "id": "e9bae3f8",
   "metadata": {},
   "source": [
    "13) \\<string\\>.capitalize() -> Returns the string with first character capitalized.                                           \n",
    "14) \\<string\\>.upper() -> Returns the string with all characters in uppercase.                                                 \n",
    "15) \\<string\\>.lower() -> Returns the string with all characters in lowercase.                                                \n",
    "16) \\<string\\>.casefold() -> Returns the string in lowercase which can be used for caseless comparisons."
   ]
  },
  {
   "cell_type": "code",
   "execution_count": 12,
   "id": "cb28daa6",
   "metadata": {},
   "outputs": [
    {
     "name": "stdout",
     "output_type": "stream",
     "text": [
      "Finding nemo\n",
      "DATAPIPELINES\n",
      "mlops\n",
      "doloris jane umbridge\n"
     ]
    }
   ],
   "source": [
    "print('finding nemo'.capitalize())\n",
    "print('datapipelines'.upper())\n",
    "print('MLOPS'.lower())\n",
    "print('Doloris Jane Umbridge'.casefold())"
   ]
  },
  {
   "cell_type": "markdown",
   "id": "33209c15",
   "metadata": {},
   "source": [
    "17) \\<string\\>.expandtabs(no_of_spaces) -> Replaces tabs in a string with specified no of spaces default is 8"
   ]
  },
  {
   "cell_type": "code",
   "execution_count": 13,
   "id": "3a4d6ffc",
   "metadata": {},
   "outputs": [
    {
     "name": "stdout",
     "output_type": "stream",
     "text": [
      "Data science    Data Analyst\n"
     ]
    }
   ],
   "source": [
    "print('Data science\\tData Analyst'.expandtabs(8))"
   ]
  },
  {
   "cell_type": "markdown",
   "id": "de722886",
   "metadata": {},
   "source": [
    "18) \\<string\\>.find(<sub_string>) -> Returns lowest index of substring if substring is found in the string else returns -1.     \n",
    "19) \\<string\\>.rfind(<sub_string>) -> Returns highest index of substring if substring is found in the string else returns -1."
   ]
  },
  {
   "cell_type": "code",
   "execution_count": 14,
   "id": "64b3a4ab",
   "metadata": {},
   "outputs": [
    {
     "name": "stdout",
     "output_type": "stream",
     "text": [
      "1\n",
      "6\n"
     ]
    }
   ],
   "source": [
    "print('Ineuron'.find('n'))\n",
    "print('Ineuron'.rfind('n'))"
   ]
  },
  {
   "cell_type": "markdown",
   "id": "87c15078",
   "metadata": {},
   "source": [
    "20) \\<string\\>.count(<char>) -> Returns the no of occurances of the char in the given string.                                   \n",
    "21) \\<string\\>.split(<sep>) -> Returns list of words seperated by given sep else seperated by whitespace.                       \n",
    "22) \\<string\\>.rsplit(<sep>) -> Returns list of words seperated by given sep else seperated by whitespace scanning from end.    \n",
    "23) \\<string\\>.lstrip() -> Returns a copy of where leading whitespaces are removed.                                            \n",
    "24) \\<string\\>.rstrip() -> Returns a copy of where trailed whitespaces are removed.                                             \n",
    "25) \\<string\\>.strip() -> Returns a copy of where both leading and trailing whitespaces are removed."
   ]
  },
  {
   "cell_type": "code",
   "execution_count": 15,
   "id": "2ffff5cb",
   "metadata": {},
   "outputs": [
    {
     "name": "stdout",
     "output_type": "stream",
     "text": [
      "2\n",
      "['i', 'euro', '']\n",
      "['i', 'euro', '  ']\n",
      "EDA \n",
      " EDA\n",
      "EDA\n"
     ]
    }
   ],
   "source": [
    "print('Transformers'.count('s'))\n",
    "print('ineuron'.split('n'))\n",
    "print('ineuron  '.rsplit('n'))\n",
    "print(' EDA '.lstrip())\n",
    "print(' EDA '.rstrip())\n",
    "print(' EDA '.strip())"
   ]
  },
  {
   "cell_type": "markdown",
   "id": "68eab9e9",
   "metadata": {},
   "source": [
    "26) \\<string\\>.swapcase() -> Swaps lowercase characters with uppercase and vice versa."
   ]
  },
  {
   "cell_type": "code",
   "execution_count": 16,
   "id": "af377a92",
   "metadata": {},
   "outputs": [
    {
     "name": "stdout",
     "output_type": "stream",
     "text": [
      "eXPLORATORY dATA aNALYSIS\n"
     ]
    }
   ],
   "source": [
    "print('Exploratory Data Analysis'.swapcase())"
   ]
  },
  {
   "cell_type": "markdown",
   "id": "380c205a",
   "metadata": {},
   "source": [
    "27) \\<sep\\>.join(\\<list\\>) -> Concatenates a list or tuple of words with intervening occuernces of sep."
   ]
  },
  {
   "cell_type": "code",
   "execution_count": 17,
   "id": "49d437e4",
   "metadata": {},
   "outputs": [
    {
     "name": "stdout",
     "output_type": "stream",
     "text": [
      "Iris_flower_Dataset\n"
     ]
    }
   ],
   "source": [
    "print('_'.join(['Iris','flower','Dataset']))"
   ]
  },
  {
   "cell_type": "markdown",
   "id": "2a68b92a",
   "metadata": {},
   "source": [
    "28) \\<string\\>.translate(\\<mapping_table\\>) -> translates the characters using table."
   ]
  },
  {
   "cell_type": "code",
   "execution_count": 18,
   "id": "9025fc27",
   "metadata": {},
   "outputs": [
    {
     "name": "stdout",
     "output_type": "stream",
     "text": [
      "Hello Pam!\n"
     ]
    }
   ],
   "source": [
    "mydict = {83:  80}  ## ASCII value for capital S is 83 and P is 80\n",
    "print(\"Hello Sam!\".translate(mydict))"
   ]
  },
  {
   "cell_type": "markdown",
   "id": "1454978d",
   "metadata": {},
   "source": [
    "29) \\<string\\>.maketrans(\\<dict\\>) -> Creating a mapping translation table usable for \\<string\\>.translate(\\<mapping_table\\>)"
   ]
  },
  {
   "cell_type": "code",
   "execution_count": 19,
   "id": "ffd39df4",
   "metadata": {},
   "outputs": [
    {
     "name": "stdout",
     "output_type": "stream",
     "text": [
      "Hello Pam!\n"
     ]
    }
   ],
   "source": [
    "txt = \"Hello Sam!\"\n",
    "mytable = txt.maketrans(\"S\", \"P\")\n",
    "print(txt.translate(mytable))"
   ]
  },
  {
   "cell_type": "markdown",
   "id": "784a859e",
   "metadata": {},
   "source": [
    "30) \\<string\\>.encode() -> Encodes string into any encoding supported by python. Default encoding is UTF-8."
   ]
  },
  {
   "cell_type": "code",
   "execution_count": 20,
   "id": "a982c8ce",
   "metadata": {},
   "outputs": [
    {
     "name": "stdout",
     "output_type": "stream",
     "text": [
      "b'Natural Language Processing'\n"
     ]
    }
   ],
   "source": [
    "print('Natural Language Processing'.encode())"
   ]
  },
  {
   "cell_type": "markdown",
   "id": "61c0c545",
   "metadata": {},
   "source": [
    "31) \\<string\\>.replace(\\<char_1\\>,\\<char_2\\>) -> Replace all occurances of char_1 with char_2 in string."
   ]
  },
  {
   "cell_type": "code",
   "execution_count": 21,
   "id": "30e42669",
   "metadata": {},
   "outputs": [
    {
     "name": "stdout",
     "output_type": "stream",
     "text": [
      "I2euro2\n"
     ]
    }
   ],
   "source": [
    "print('Ineuron'.replace('n','2'))"
   ]
  },
  {
   "cell_type": "markdown",
   "id": "ce36f078",
   "metadata": {},
   "source": [
    "32) \\<string\\>.ljust(\\<no_of_spaces\\>) -> Left-justify in a field of given width.                                               \n",
    "33) \\<string\\>.rjust(\\<no_of_spaces\\>) -> Right-justify in a field of given width.                                              \n",
    "34) \\<string\\>.center(\\<no_of_spaces\\>) -> Center-justify in a field of given width."
   ]
  },
  {
   "cell_type": "code",
   "execution_count": 22,
   "id": "bd8cd186",
   "metadata": {},
   "outputs": [
    {
     "name": "stdout",
     "output_type": "stream",
     "text": [
      "valli     \n",
      "     valli\n",
      "  valli   \n"
     ]
    }
   ],
   "source": [
    "print('valli'.ljust(10))\n",
    "print('valli'.rjust(10))\n",
    "print('valli'.center(10))"
   ]
  },
  {
   "cell_type": "markdown",
   "id": "f6e524e1",
   "metadata": {},
   "source": [
    "35) \\<string\\>.zfill(\\<length\\>) -> Zfill adds zeros to the begining of string until the specified length is reached."
   ]
  },
  {
   "cell_type": "code",
   "execution_count": 23,
   "id": "8a5c4338",
   "metadata": {},
   "outputs": [
    {
     "name": "stdout",
     "output_type": "stream",
     "text": [
      "00000Hello\n"
     ]
    }
   ],
   "source": [
    "print('Hello'.zfill(10))"
   ]
  },
  {
   "cell_type": "markdown",
   "id": "a8679961",
   "metadata": {},
   "source": [
    "\n",
    "# Q2. How do the string forms in Python 3.X vary in terms of operations?"
   ]
  },
  {
   "cell_type": "markdown",
   "id": "9e2f8676",
   "metadata": {},
   "source": [
    "Ans: In Python3 default format of strings is Unicode Whereas in Python2 we need to explicitly mention Unicode value using u.\n"
   ]
  },
  {
   "cell_type": "markdown",
   "id": "67263bb3",
   "metadata": {},
   "source": [
    "Python 2.7: It has ASCII string type, a separate unicode type, but there is no byte type."
   ]
  },
  {
   "cell_type": "markdown",
   "id": "a3fb18f3",
   "metadata": {},
   "source": [
    "Unicode Strings                                                                                                              \n",
    "By default, Python 3 stores strings as Unicode whereas Python 2 requires you to mark a string with a “u” if you want to store it as Unicode. Unicode strings are more versatile than ASCII strings, which are the Python 2 default, as they can store letters from foreign languages as well as emoji and the standard Roman letters and numerals"
   ]
  },
  {
   "cell_type": "markdown",
   "id": "b0c78396",
   "metadata": {},
   "source": [
    ">>> print type(unicode('this is like a python3 str type'))                                                                 \n",
    "<type 'unicode'>                                                                                                          \n",
    ">>> print type(b'byte type does not exist')                                                                                   \n",
    "<type 'str'>                                                                                                                 \n",
    ">>> print 'they are really' + b' the same'                                                                                   \n",
    "they are really the same"
   ]
  },
  {
   "cell_type": "code",
   "execution_count": 24,
   "id": "1cc59622",
   "metadata": {},
   "outputs": [
    {
     "name": "stdout",
     "output_type": "stream",
     "text": [
      "Requirement already satisfied: unicode in c:\\users\\vmuth\\anaconda3\\lib\\site-packages (2.9)\n",
      "Note: you may need to restart the kernel to use updated packages.\n"
     ]
    }
   ],
   "source": [
    "pip install unicode"
   ]
  },
  {
   "cell_type": "code",
   "execution_count": 27,
   "id": "4fe0f9fb",
   "metadata": {},
   "outputs": [
    {
     "ename": "ModuleNotFoundError",
     "evalue": "No module named 'unicode'",
     "output_type": "error",
     "traceback": [
      "\u001b[1;31m---------------------------------------------------------------------------\u001b[0m",
      "\u001b[1;31mModuleNotFoundError\u001b[0m                       Traceback (most recent call last)",
      "\u001b[1;32m<ipython-input-27-15293d0741a3>\u001b[0m in \u001b[0;36m<module>\u001b[1;34m\u001b[0m\n\u001b[1;32m----> 1\u001b[1;33m \u001b[1;32mimport\u001b[0m \u001b[0municode\u001b[0m\u001b[1;33m\u001b[0m\u001b[1;33m\u001b[0m\u001b[0m\n\u001b[0m",
      "\u001b[1;31mModuleNotFoundError\u001b[0m: No module named 'unicode'"
     ]
    }
   ],
   "source": [
    "import unicode"
   ]
  },
  {
   "cell_type": "code",
   "execution_count": 28,
   "id": "064cfbc1",
   "metadata": {},
   "outputs": [
    {
     "name": "stdout",
     "output_type": "stream",
     "text": [
      "<class 'str'>\n",
      "<class 'bytes'>\n"
     ]
    }
   ],
   "source": [
    "print(type(u'a'))\n",
    "print(type(b'a'))"
   ]
  },
  {
   "cell_type": "markdown",
   "id": "6ae97b8c",
   "metadata": {},
   "source": [
    "Python 3.x: We have unicode strings, and byte type."
   ]
  },
  {
   "cell_type": "code",
   "execution_count": 29,
   "id": "5f59672d",
   "metadata": {},
   "outputs": [
    {
     "ename": "NameError",
     "evalue": "name 'unicode' is not defined",
     "output_type": "error",
     "traceback": [
      "\u001b[1;31m---------------------------------------------------------------------------\u001b[0m",
      "\u001b[1;31mNameError\u001b[0m                                 Traceback (most recent call last)",
      "\u001b[1;32m<ipython-input-29-7092946bfbab>\u001b[0m in \u001b[0;36m<module>\u001b[1;34m\u001b[0m\n\u001b[1;32m----> 1\u001b[1;33m \u001b[0mtype\u001b[0m\u001b[1;33m(\u001b[0m\u001b[0municode\u001b[0m\u001b[1;33m(\u001b[0m\u001b[1;34m'a'\u001b[0m\u001b[1;33m)\u001b[0m\u001b[1;33m)\u001b[0m\u001b[1;33m\u001b[0m\u001b[1;33m\u001b[0m\u001b[0m\n\u001b[0m\u001b[0;32m      2\u001b[0m \u001b[1;31m# This returns an error\u001b[0m\u001b[1;33m\u001b[0m\u001b[1;33m\u001b[0m\u001b[1;33m\u001b[0m\u001b[0m\n",
      "\u001b[1;31mNameError\u001b[0m: name 'unicode' is not defined"
     ]
    }
   ],
   "source": [
    "type(unicode('a'))\n",
    "# This returns an error"
   ]
  },
  {
   "cell_type": "code",
   "execution_count": 6,
   "id": "5ccb992d",
   "metadata": {},
   "outputs": [
    {
     "name": "stdout",
     "output_type": "stream",
     "text": [
      "Python 3.8.8\n",
      "strings are now utf-8 μnicoΔé!\n",
      "Python 3.8.8 has <class 'bytes'>\n",
      "Python 3.8.8 also has <class 'bytearray'>\n"
     ]
    }
   ],
   "source": [
    "import sys\n",
    "print('Python %s.%s.%s' %sys.version_info[:3])\n",
    "print('strings are now utf-8 \\u03BCnico\\u0394é!')\n",
    "print('Python %s.%s.%s' %sys.version_info[:3], end=\"\")\n",
    "print(' has', type(b' bytes for storing data'))\n",
    "print('Python %s.%s.%s' %sys.version_info[:3], end=\"\")\n",
    "print(' also has', type(bytearray(b'bytearrays')))"
   ]
  },
  {
   "cell_type": "markdown",
   "id": "d83ed040",
   "metadata": {},
   "source": [
    "\n",
    "\n",
    "# Q3. In Python 3.X, how do you put non-ASCII Unicode characters in a string?"
   ]
  },
  {
   "cell_type": "markdown",
   "id": "3f0a7878",
   "metadata": {},
   "source": [
    "Ans: In Python 3.x unidecode() method from unidecode library can be used to put non-ASCII Unicode Characters in a string."
   ]
  },
  {
   "cell_type": "code",
   "execution_count": 1,
   "id": "94e08f7a",
   "metadata": {},
   "outputs": [
    {
     "name": "stdout",
     "output_type": "stream",
     "text": [
      "Requirement already satisfied: unidecode in c:\\users\\vmuth\\anaconda3\\lib\\site-packages (1.3.4)\n",
      "Note: you may need to restart the kernel to use updated packages.\n"
     ]
    }
   ],
   "source": [
    "pip install unidecode"
   ]
  },
  {
   "cell_type": "code",
   "execution_count": 2,
   "id": "a01d0bc7",
   "metadata": {},
   "outputs": [],
   "source": [
    "import unidecode"
   ]
  },
  {
   "cell_type": "code",
   "execution_count": 5,
   "id": "0883a4a0",
   "metadata": {},
   "outputs": [
    {
     "name": "stdout",
     "output_type": "stream",
     "text": [
      "puumiyaippoolp porrumai veennttum\n",
      "kozuscek\n",
      "aap niice apnii bhaassaa aur inputt upkrnn cuneN aur likhnaa aarNbh kreN\n",
      "Xie Xie Ni \n",
      "arigatou. \n",
      "ulybat'sia Vladimir Putin\n"
     ]
    }
   ],
   "source": [
    "from unidecode import unidecode\n",
    "print(unidecode(\"பூமியைப்போலப் பொறுமை வேண்டும்\"))\n",
    "print(unidecode(u'ko\\u017eu\\u0161\\u010dek'))\n",
    "print(unidecode(\"आप नीचे अपनी भाषा और इनपुट उपकरण चुनें और लिखना आरंभ करें\"))\n",
    "print(unidecode(\"谢谢你\"))\n",
    "print(unidecode(\"ありがとう。\"))\n",
    "print(unidecode(\"улыбаться Владимир Путин\"))"
   ]
  },
  {
   "cell_type": "markdown",
   "id": "e3b19238",
   "metadata": {},
   "source": [
    "\n",
    "\n",
    "# Q4. In Python 3.X, what are the key differences between text-mode and binary-mode files?"
   ]
  },
  {
   "cell_type": "markdown",
   "id": "67721671",
   "metadata": {},
   "source": [
    "Ans: The major difference between these two is that a text file contains textual information in the form of alphabets, digits and special characters or symbols. On the other hand, a binary file contains bytes or a compiled version of a text file.    \n",
    "\n",
    "When a file is opened in text mode, reading its data automatically decodes its content (as per the platform default or as per provided encoding), and returns it as a str; writing operation takes a str, and automatically encodes it before transferring to the file. Text mode files also support universal end-of-line translation, and encoding specification arguments.\n",
    "\n",
    "When a file is opened in binary mode by adding a b to the mode string argument in the open() call, reading its data does not decode it in any way, and simply returns its content raw and unchanged, as a bytes object; writing takes a bytes object and transfers it to the file unchanged. Binary-mode files also accept a bytearray object for the content to be written to the file."
   ]
  },
  {
   "cell_type": "markdown",
   "id": "41b95c82",
   "metadata": {},
   "source": [
    "This mode is about conversion of line endings.\n",
    "\n",
    "When reading in text mode, the platform's native line endings (\\r\\n on Windows) are converted to Python's Unix-style \\n line endings. When writing in text mode, the reverse happens.\n",
    "\n",
    "In binary mode, no such conversion is done.\n",
    "\n",
    "Other platforms usually do fine without the conversion, because they store line endings natively as \\n. (An exception is Mac OS, which used to use \\r in the old days.) Code relying on this, however, is not portable."
   ]
  },
  {
   "cell_type": "markdown",
   "id": "5e4b1ea1",
   "metadata": {},
   "source": [
    "\n",
    "\n",
    "# Q5. How can you interpret a Unicode text file containing text encoded in a different encoding than your platform's default?"
   ]
  },
  {
   "cell_type": "markdown",
   "id": "187cde8c",
   "metadata": {},
   "source": [
    "Ans: Use of encode() and decode() method can be used to you interpret a Unicode text file containing text encoded in a different encoding than your platform's default, by default encoding parameter is UTF-8"
   ]
  },
  {
   "cell_type": "code",
   "execution_count": 7,
   "id": "f632f24e",
   "metadata": {},
   "outputs": [
    {
     "name": "stdout",
     "output_type": "stream",
     "text": [
      "<class 'bytes'>\n"
     ]
    }
   ],
   "source": [
    "inp_string = 'Hello'\n",
    "bytes_encoded = inp_string.encode()\n",
    "print(type(bytes_encoded))"
   ]
  },
  {
   "cell_type": "code",
   "execution_count": 12,
   "id": "4145d9d3",
   "metadata": {},
   "outputs": [
    {
     "name": "stdout",
     "output_type": "stream",
     "text": [
      "Hello\n",
      "Hello\n"
     ]
    }
   ],
   "source": [
    "encoded = inp_string.encode()\n",
    "# Using decode()\n",
    "decoded = encoded.decode('ascii')\n",
    "print(decoded)\n",
    "decoded = encoded.decode('utf-8')\n",
    "print(decoded)"
   ]
  },
  {
   "cell_type": "markdown",
   "id": "18893ab4",
   "metadata": {},
   "source": [
    "\n",
    "\n",
    "# Q6. What is the best way to make a Unicode text file in a particular encoding format?"
   ]
  },
  {
   "cell_type": "markdown",
   "id": "f7f61d89",
   "metadata": {},
   "source": [
    "Ans: Use str.encode() and file.write() to make a Unicode text file in a particular encoding format, default encoding format is UTF-18.\n",
    "\n",
    "Call str.encode(encoding) with encoding set to utf8 to encode str.                                                            \n",
    "Call open(file, mode) to open a file with mode set to wb . wb writes to files in binary mode & preserves UTF-8 format.         \n",
    "Call file.write(data) to write data to the file."
   ]
  },
  {
   "cell_type": "code",
   "execution_count": 17,
   "id": "dd39db5c",
   "metadata": {},
   "outputs": [
    {
     "name": "stdout",
     "output_type": "stream",
     "text": [
      "b'\\xe0\\xae\\xaa\\xe0\\xae\\x9a\\xe0\\xae\\xbf\\xe0\\xae\\xaf\\xe0\\xaf\\x81\\xe0\\xae\\xb3\\xe0\\xaf\\x8d\\xe0\\xae\\xb3\\xe0\\xae\\xb5\\xe0\\xae\\xa9\\xe0\\xaf\\x8d \\xe0\\xae\\xb0\\xe0\\xaf\\x81\\xe0\\xae\\x9a\\xe0\\xae\\xbf \\xe0\\xae\\x85\\xe0\\xae\\xb1\\xe0\\xae\\xbf\\xe0\\xae\\xaf\\xe0\\xae\\xbe\\xe0\\xae\\xa9\\xe0\\xaf\\x8d'\n",
      "\n",
      "b'\\xe0\\xae\\xaa\\xe0\\xae\\x9a\\xe0\\xae\\xbf\\xe0\\xae\\xaf\\xe0\\xaf\\x81\\xe0\\xae\\xb3\\xe0\\xaf\\x8d\\xe0\\xae\\xb3\\xe0\\xae\\xb5\\xe0\\xae\\xa9\\xe0\\xaf\\x8d \\xe0\\xae\\xb0\\xe0\\xaf\\x81\\xe0\\xae\\x9a\\xe0\\xae\\xbf \\xe0\\xae\\x85\\xe0\\xae\\xb1\\xe0\\xae\\xbf\\xe0\\xae\\xaf\\xe0\\xae\\xbe\\xe0\\xae\\xa9\\xe0\\xaf\\x8d'\n"
     ]
    }
   ],
   "source": [
    "unicode_text = u\"பசியுள்ளவன் ருசி அறியான்\"\n",
    "encoded_unicode_text = unicode_text.encode(\"utf-8\")\n",
    "print(encoded_unicode_text,end=\"\\n\\n\")\n",
    "\n",
    "w_file = open(\"w_file.txt\",\"wb\")\n",
    "w_file.write(encoded_unicode_text)\n",
    "w_file.close()\n",
    "\n",
    "r_file = open(\"w_file.txt\",\"rb\")\n",
    "data = r_file.read()\n",
    "print(data)"
   ]
  },
  {
   "cell_type": "code",
   "execution_count": 18,
   "id": "b9550bd2",
   "metadata": {},
   "outputs": [
    {
     "data": {
      "text/plain": [
       "'பசியுள்ளவன் ருசி அறியான்'"
      ]
     },
     "execution_count": 18,
     "metadata": {},
     "output_type": "execute_result"
    }
   ],
   "source": [
    "encoded_unicode_text.decode()"
   ]
  },
  {
   "cell_type": "code",
   "execution_count": 19,
   "id": "fa8916cc",
   "metadata": {},
   "outputs": [
    {
     "data": {
      "text/plain": [
       "b'\\xe0\\xae\\xaa\\xe0\\xae\\x9a\\xe0\\xae\\xbf\\xe0\\xae\\xaf\\xe0\\xaf\\x81\\xe0\\xae\\xb3\\xe0\\xaf\\x8d\\xe0\\xae\\xb3\\xe0\\xae\\xb5\\xe0\\xae\\xa9\\xe0\\xaf\\x8d \\xe0\\xae\\xb0\\xe0\\xaf\\x81\\xe0\\xae\\x9a\\xe0\\xae\\xbf \\xe0\\xae\\x85\\xe0\\xae\\xb1\\xe0\\xae\\xbf\\xe0\\xae\\xaf\\xe0\\xae\\xbe\\xe0\\xae\\xa9\\xe0\\xaf\\x8d'"
      ]
     },
     "execution_count": 19,
     "metadata": {},
     "output_type": "execute_result"
    }
   ],
   "source": [
    "encoded_unicode_text"
   ]
  },
  {
   "cell_type": "markdown",
   "id": "2469c21e",
   "metadata": {},
   "source": [
    "\n",
    "\n",
    "# Q7. What qualifies ASCII text as a form of Unicode text?"
   ]
  },
  {
   "cell_type": "markdown",
   "id": "e1048062",
   "metadata": {},
   "source": [
    "For backward compatibility, the first 128 Unicode code points represent the equivalent ASCII characters. Since UTF-8 encodes each of these characters with a single byte, any ASCII text is also a UTF-8 text. Unicode is a superset of ASCII.\n",
    "\n",
    "ASCII Is Unicode, but Unicode Is Not ASCII"
   ]
  },
  {
   "cell_type": "markdown",
   "id": "4dda031d",
   "metadata": {},
   "source": [
    "\n",
    "\n",
    "# Q8. How much of an effect does the change in string types in Python 3.X have on your code?"
   ]
  },
  {
   "cell_type": "markdown",
   "id": "493d5418",
   "metadata": {},
   "source": [
    "It will have 100% effect."
   ]
  }
 ],
 "metadata": {
  "kernelspec": {
   "display_name": "Python 3",
   "language": "python",
   "name": "python3"
  },
  "language_info": {
   "codemirror_mode": {
    "name": "ipython",
    "version": 3
   },
   "file_extension": ".py",
   "mimetype": "text/x-python",
   "name": "python",
   "nbconvert_exporter": "python",
   "pygments_lexer": "ipython3",
   "version": "3.8.8"
  }
 },
 "nbformat": 4,
 "nbformat_minor": 5
}
