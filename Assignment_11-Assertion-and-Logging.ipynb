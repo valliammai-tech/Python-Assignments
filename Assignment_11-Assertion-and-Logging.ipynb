{
 "cells": [
  {
   "cell_type": "markdown",
   "id": "72278bb9",
   "metadata": {},
   "source": [
    "1. Create an assert statement that throws an AssertionError if the variable spam is a negative\n",
    "integer."
   ]
  },
  {
   "cell_type": "code",
   "execution_count": 1,
   "id": "d2926a91",
   "metadata": {},
   "outputs": [
    {
     "name": "stdout",
     "output_type": "stream",
     "text": [
      "Enter positive number: 7\n"
     ]
    }
   ],
   "source": [
    "spam = int(input('Enter positive number: '))\n",
    "assert (spam>0)"
   ]
  },
  {
   "cell_type": "code",
   "execution_count": 2,
   "id": "4578bba6",
   "metadata": {},
   "outputs": [
    {
     "name": "stdout",
     "output_type": "stream",
     "text": [
      "Enter Positve Integer: -7\n"
     ]
    },
    {
     "ename": "AssertionError",
     "evalue": "Invalid number",
     "output_type": "error",
     "traceback": [
      "\u001b[1;31m---------------------------------------------------------------------------\u001b[0m",
      "\u001b[1;31mAssertionError\u001b[0m                            Traceback (most recent call last)",
      "\u001b[1;32m<ipython-input-2-e2d420780e82>\u001b[0m in \u001b[0;36m<module>\u001b[1;34m\u001b[0m\n\u001b[0;32m      1\u001b[0m \u001b[0ma\u001b[0m \u001b[1;33m=\u001b[0m \u001b[0mint\u001b[0m\u001b[1;33m(\u001b[0m\u001b[0minput\u001b[0m\u001b[1;33m(\u001b[0m\u001b[1;34m'Enter Positve Integer: '\u001b[0m\u001b[1;33m)\u001b[0m\u001b[1;33m)\u001b[0m\u001b[1;33m\u001b[0m\u001b[1;33m\u001b[0m\u001b[0m\n\u001b[1;32m----> 2\u001b[1;33m \u001b[1;32massert\u001b[0m \u001b[0ma\u001b[0m\u001b[1;33m>\u001b[0m\u001b[1;36m0\u001b[0m\u001b[1;33m,\u001b[0m\u001b[1;34m'Invalid number'\u001b[0m\u001b[1;33m\u001b[0m\u001b[1;33m\u001b[0m\u001b[0m\n\u001b[0m",
      "\u001b[1;31mAssertionError\u001b[0m: Invalid number"
     ]
    }
   ],
   "source": [
    "spam = int(input('Enter Positve Integer: '))\n",
    "assert spam>0,'Invalid number'"
   ]
  },
  {
   "cell_type": "markdown",
   "id": "73ddb780",
   "metadata": {},
   "source": [
    "2. Write an assert statement that triggers an AssertionError if the variables eggs and bacon contain\n",
    "strings that are the same as each other, even if their cases are different (that is, &#39;hello&#39; and &#39;hello&#39; are\n",
    "considered the same, and &#39;goodbye&#39; and &#39;GOODbye&#39; are also considered the same)."
   ]
  },
  {
   "cell_type": "code",
   "execution_count": 23,
   "id": "b777e4d8",
   "metadata": {},
   "outputs": [
    {
     "name": "stdout",
     "output_type": "stream",
     "text": [
      "Enter value for eggs: goodbye\n",
      "Enter same value for bacon: GOODbye\n"
     ]
    },
    {
     "ename": "AssertionError",
     "evalue": "goodbye and GOODbye are same!!",
     "output_type": "error",
     "traceback": [
      "\u001b[1;31m---------------------------------------------------------------------------\u001b[0m",
      "\u001b[1;31mAssertionError\u001b[0m                            Traceback (most recent call last)",
      "\u001b[1;32m<ipython-input-23-47bc6a1d941c>\u001b[0m in \u001b[0;36m<module>\u001b[1;34m\u001b[0m\n\u001b[0;32m      1\u001b[0m \u001b[0meggs\u001b[0m\u001b[1;33m=\u001b[0m\u001b[0minput\u001b[0m\u001b[1;33m(\u001b[0m\u001b[1;34m'Enter value for eggs: '\u001b[0m\u001b[1;33m)\u001b[0m\u001b[1;33m\u001b[0m\u001b[1;33m\u001b[0m\u001b[0m\n\u001b[0;32m      2\u001b[0m \u001b[0mbacon\u001b[0m\u001b[1;33m=\u001b[0m \u001b[0minput\u001b[0m\u001b[1;33m(\u001b[0m\u001b[1;34m'Enter same value for bacon: '\u001b[0m\u001b[1;33m)\u001b[0m\u001b[1;33m\u001b[0m\u001b[1;33m\u001b[0m\u001b[0m\n\u001b[1;32m----> 3\u001b[1;33m \u001b[1;32massert\u001b[0m \u001b[1;33m(\u001b[0m\u001b[0meggs\u001b[0m\u001b[1;33m.\u001b[0m\u001b[0mlower\u001b[0m\u001b[1;33m(\u001b[0m\u001b[1;33m)\u001b[0m\u001b[1;33m!=\u001b[0m\u001b[0mbacon\u001b[0m\u001b[1;33m.\u001b[0m\u001b[0mlower\u001b[0m\u001b[1;33m(\u001b[0m\u001b[1;33m)\u001b[0m\u001b[1;33m)\u001b[0m\u001b[1;33m,\u001b[0m \u001b[1;34m'{} and {} are same!!'\u001b[0m\u001b[1;33m.\u001b[0m\u001b[0mformat\u001b[0m\u001b[1;33m(\u001b[0m\u001b[0meggs\u001b[0m\u001b[1;33m,\u001b[0m\u001b[0mbacon\u001b[0m\u001b[1;33m)\u001b[0m\u001b[1;33m\u001b[0m\u001b[1;33m\u001b[0m\u001b[0m\n\u001b[0m",
      "\u001b[1;31mAssertionError\u001b[0m: goodbye and GOODbye are same!!"
     ]
    }
   ],
   "source": [
    "eggs=input('Enter value for eggs: ')\n",
    "bacon= input('Enter same value for bacon: ')\n",
    "assert (eggs.lower()!=bacon.lower()), '{} and {} are same!!'.format(eggs,bacon)"
   ]
  },
  {
   "cell_type": "markdown",
   "id": "2a294a09",
   "metadata": {},
   "source": [
    "3. Create an assert statement that throws an AssertionError every time."
   ]
  },
  {
   "cell_type": "code",
   "execution_count": 38,
   "id": "64d0e15b",
   "metadata": {},
   "outputs": [
    {
     "ename": "AssertionError",
     "evalue": "invalid",
     "output_type": "error",
     "traceback": [
      "\u001b[1;31m---------------------------------------------------------------------------\u001b[0m",
      "\u001b[1;31mAssertionError\u001b[0m                            Traceback (most recent call last)",
      "\u001b[1;32m<ipython-input-38-c609f2b64d87>\u001b[0m in \u001b[0;36m<module>\u001b[1;34m\u001b[0m\n\u001b[1;32m----> 1\u001b[1;33m \u001b[1;32massert\u001b[0m \u001b[1;32mFalse\u001b[0m\u001b[1;33m,\u001b[0m \u001b[1;34m'invalid'\u001b[0m\u001b[1;33m\u001b[0m\u001b[1;33m\u001b[0m\u001b[0m\n\u001b[0m",
      "\u001b[1;31mAssertionError\u001b[0m: invalid"
     ]
    }
   ],
   "source": [
    "assert False, 'invalid'"
   ]
  },
  {
   "cell_type": "markdown",
   "id": "4990642d",
   "metadata": {},
   "source": [
    "4. What are the two lines that must be present in your software in order to call logging.debug()?\n",
    "\n",
    "Ans: - \n",
    "    1) import logging                                                                    \n",
    "    2) logging.basicConfig(level=logging.DEBUG, format=' %(asctime)s - %(levelname)s - %(message)s')                   \n",
    "    3) logging.debug(\"this is my debug log\")                                                                       \n",
    "    4) logging.shutdown()"
   ]
  },
  {
   "cell_type": "markdown",
   "id": "9db84c15",
   "metadata": {},
   "source": [
    "5. What are the two lines that your program must have in order to have logging.debug() send a logging message to a file named programLog.txt?\n",
    "\n",
    "Ans: -                                                                                                                            \n",
    "    1) import logging                                                                                                         \n",
    "    2) logging.basicConfig(filename=\"programLog.txt\",level=logging.DEBUG, format=' %(asctime)s - %(levelname)s - %(message)s')   \n",
    "    3) logging.debug(\"debug logging message\")                                                                                \n",
    "    4) logging.shutdown()"
   ]
  },
  {
   "cell_type": "markdown",
   "id": "c0786659",
   "metadata": {},
   "source": [
    "6. What are the five levels of logging?\n",
    "\n",
    "Ans: -\n",
    "Five level of loggings are listed below in higher to lower order severity preferences.                                        \n",
    "\n",
    "CRITICAL - A serious error, indicating that the program itself may not be able to continue executing.                          \n",
    "ERROR - A more serious problem due to which the program was unable to perform a function.                                     \n",
    "WARNING - Indication of something unexpected or a problem in the near future e.g. 'disk space low'.                             \n",
    "INFO - Confirmation of things working as expected.                                                                            \n",
    "DEBUG - Detailed information, typically of interest when diagnosing problems."
   ]
  },
  {
   "cell_type": "markdown",
   "id": "dc4fa05e",
   "metadata": {},
   "source": [
    "7. What line of code would you add to your software to disable all logging messages?\n",
    "\n",
    "Ans: -  logging.disable(logging.CRITICAL). This disables all level of logs under it also, as critical is given higher preference."
   ]
  },
  {
   "cell_type": "markdown",
   "id": "a6cfa69b",
   "metadata": {},
   "source": [
    "8.Why is using logging messages better than using print() to display the same message?\n",
    "\n",
    "Ans: -                                                                                                                                                            \n",
    "    1) Logging messages to log file can be used for later reference that highly supports re-usability compared to print statements.                                                                \n",
    "    2) More information on date, time, severity level information will be captured during runtime in the log file which will be portable. This is not possible with print statements.    \n",
    "    3) Logging messages in log file promotes user readability which can also be viewed even after program execution but in case of print statements user needs to pro-actively monitor during runtime itself creating a risk of missing out information.                                                                                                                                                         "
   ]
  },
  {
   "cell_type": "markdown",
   "id": "9110ce9f",
   "metadata": {},
   "source": [
    "9. What are the differences between the Step Over, Step In, and Step Out buttons in the debugger?\n",
    "\n",
    "Ans: -                                                                                                                            \n",
    "    1) The Step In button will move the debugger into a function call.                                                                 \n",
    "    2) The Step Over button will quickly execute the function call without stepping into it.                                                                      \n",
    "    3) The Step Out button will quickly execute the rest of the code until it steps out of the function it is currently in."
   ]
  },
  {
   "cell_type": "markdown",
   "id": "a618b5ab",
   "metadata": {},
   "source": [
    "10.After you click Continue, when will the debugger stop ?\n",
    "\n",
    "Ans: - After GO or Continue is clicked, debugger will stop until it finds any breakpoint otherwise it executes entire program."
   ]
  },
  {
   "cell_type": "markdown",
   "id": "4cd1b638",
   "metadata": {},
   "source": [
    "11. What is the concept of a breakpoint?\n",
    "\n",
    "Ans: -                                                                                                                                              \n",
    "    1) set a breakpoint on a specific line of code to force the debugger to pause whenever the program execution reaches that line.                                                        \n",
    "    2) Setting a breakpoint allows us to quickly place the debugger near the code we want to debug."
   ]
  }
 ],
 "metadata": {
  "kernelspec": {
   "display_name": "Python 3",
   "language": "python",
   "name": "python3"
  },
  "language_info": {
   "codemirror_mode": {
    "name": "ipython",
    "version": 3
   },
   "file_extension": ".py",
   "mimetype": "text/x-python",
   "name": "python",
   "nbconvert_exporter": "python",
   "pygments_lexer": "ipython3",
   "version": "3.8.8"
  }
 },
 "nbformat": 4,
 "nbformat_minor": 5
}
