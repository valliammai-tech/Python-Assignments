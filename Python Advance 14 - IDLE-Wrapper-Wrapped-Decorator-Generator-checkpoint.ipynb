{
 "cells": [
  {
   "cell_type": "markdown",
   "id": "390fcf52",
   "metadata": {},
   "source": [
    "# Q1. Is an assignment operator like += only for show? Is it possible that it would lead to faster results at the runtime ?"
   ]
  },
  {
   "cell_type": "markdown",
   "id": "3f7e87a5",
   "metadata": {},
   "source": [
    "<b>A=A+1</b> evaluates to finding <b>A</b>, adding 1 to it. Then storing the value again in variable <b>A</b>. This expression makes Python to look for memory holder of a twice. But <b>A+=1</b> simply means value of <b>A</b> is to incremented by <b>1</b>. As memory address has to be identified once, += leads to faster operation."
   ]
  },
  {
   "cell_type": "markdown",
   "id": "a4f2223e",
   "metadata": {},
   "source": [
    "# Q2. What is the smallest no of statements you'd have to write in most programming languages to replace the Python expr a, b = a + b, a ?"
   ]
  },
  {
   "cell_type": "code",
   "execution_count": 2,
   "id": "20925822",
   "metadata": {},
   "outputs": [
    {
     "name": "stdout",
     "output_type": "stream",
     "text": [
      "1 3\n",
      "4 1\n"
     ]
    }
   ],
   "source": [
    "a=1\n",
    "b=3\n",
    "print(a,b)\n",
    "a,b=a+b,a #1 liner\n",
    "print(a,b)"
   ]
  },
  {
   "cell_type": "markdown",
   "id": "0c327fc2",
   "metadata": {},
   "source": [
    "# Q3. In Python, what is the most effective way to set a list of 100 integers to 0?"
   ]
  },
  {
   "cell_type": "markdown",
   "id": "d8c345e8",
   "metadata": {},
   "source": [
    "Ans: The Most effective way to set a list of 100 integers to 0 in python is by using repition operator(*) or by using list comprehension."
   ]
  },
  {
   "cell_type": "code",
   "execution_count": 3,
   "id": "5fef69bb",
   "metadata": {},
   "outputs": [
    {
     "name": "stdout",
     "output_type": "stream",
     "text": [
      "[0, 0, 0, 0, 0, 0, 0, 0, 0, 0, 0, 0, 0, 0, 0, 0, 0, 0, 0, 0, 0, 0, 0, 0, 0, 0, 0, 0, 0, 0, 0, 0, 0, 0, 0, 0, 0, 0, 0, 0, 0, 0, 0, 0, 0, 0, 0, 0, 0, 0, 0, 0, 0, 0, 0, 0, 0, 0, 0, 0, 0, 0, 0, 0, 0, 0, 0, 0, 0, 0, 0, 0, 0, 0, 0, 0, 0, 0, 0, 0, 0, 0, 0, 0, 0, 0, 0, 0, 0, 0, 0, 0, 0, 0, 0, 0, 0, 0, 0, 0]\n",
      "[0, 0, 0, 0, 0, 0, 0, 0, 0, 0, 0, 0, 0, 0, 0, 0, 0, 0, 0, 0, 0, 0, 0, 0, 0, 0, 0, 0, 0, 0, 0, 0, 0, 0, 0, 0, 0, 0, 0, 0, 0, 0, 0, 0, 0, 0, 0, 0, 0, 0, 0, 0, 0, 0, 0, 0, 0, 0, 0, 0, 0, 0, 0, 0, 0, 0, 0, 0, 0, 0, 0, 0, 0, 0, 0, 0, 0, 0, 0, 0, 0, 0, 0, 0, 0, 0, 0, 0, 0, 0, 0, 0, 0, 0, 0, 0, 0, 0, 0, 0]\n"
     ]
    }
   ],
   "source": [
    "# Method 1\n",
    "list_zero=[0]*100\n",
    "print(list_zero)\n",
    "# Method 2\n",
    "zero_list = [0 for x in range(100)]\n",
    "print(zero_list)"
   ]
  },
  {
   "cell_type": "markdown",
   "id": "4d94e75f",
   "metadata": {},
   "source": [
    "# Q4. What is the most effective way to initialise a list of 99 integers that repeats the sequence 1, 2, 3?  If necessary, show step-by-step instructions on how to accomplish this."
   ]
  },
  {
   "cell_type": "code",
   "execution_count": 5,
   "id": "a97f27fa",
   "metadata": {},
   "outputs": [
    {
     "name": "stdout",
     "output_type": "stream",
     "text": [
      "[1, 2, 3, 1, 2, 3, 1, 2, 3, 1, 2, 3, 1, 2, 3, 1, 2, 3, 1, 2, 3, 1, 2, 3, 1, 2, 3, 1, 2, 3, 1, 2, 3, 1, 2, 3, 1, 2, 3, 1, 2, 3, 1, 2, 3, 1, 2, 3, 1, 2, 3, 1, 2, 3, 1, 2, 3, 1, 2, 3, 1, 2, 3, 1, 2, 3, 1, 2, 3, 1, 2, 3, 1, 2, 3, 1, 2, 3, 1, 2, 3, 1, 2, 3, 1, 2, 3, 1, 2, 3, 1, 2, 3, 1, 2, 3, 1, 2, 3]\n"
     ]
    }
   ],
   "source": [
    "my_list = [1,2,3]*33\n",
    "print(my_list)"
   ]
  },
  {
   "attachments": {
    "image.png": {
     "image/png": "[encoded data removed]"
    }
   },
   "cell_type": "markdown",
   "id": "2eed264b",
   "metadata": {},
   "source": [
    "# Q5. If you're using IDLE to run a Python application, explain how to print a multidimensional list as efficiently?\n",
    "\n",
    "![image.png](attachment:image.png)"
   ]
  },
  {
   "cell_type": "markdown",
   "id": "6eab1cf8",
   "metadata": {},
   "source": [
    "# Q6. Is it possible to use list comprehension with a string? If so, how can you go about doing it?"
   ]
  },
  {
   "cell_type": "markdown",
   "id": "d7f97cf4",
   "metadata": {},
   "source": [
    "List comprehension with string is possible."
   ]
  },
  {
   "cell_type": "code",
   "execution_count": 6,
   "id": "368ef4fe",
   "metadata": {},
   "outputs": [
    {
     "data": {
      "text/plain": [
       "['i', 'N', 'e', 'u', 'r', 'o', 'n']"
      ]
     },
     "execution_count": 6,
     "metadata": {},
     "output_type": "execute_result"
    }
   ],
   "source": [
    "[ele for ele in 'iNeuron']"
   ]
  },
  {
   "cell_type": "markdown",
   "id": "2e431f00",
   "metadata": {},
   "source": [
    "# Q7. From the command line, how do you get support with a user-written Python programme? Is this possible from inside IDLE?"
   ]
  },
  {
   "cell_type": "markdown",
   "id": "7612dfcf",
   "metadata": {},
   "source": [
    "<b>Ans: Get support with a user-written Python Programme</b>: Start a command prompt (Windows) or terminal window (Linux/Mac). If the current working directory is the same as the location in which you saved the file, you can simply specify the filename as a command-line argument to the Python interpreter.\n",
    "\n",
    "<b>Get support with a User-written Python Program from IDLE</b>: You can also create script files and run them in IDLE. From the Shell window menu, select File → New File. That should open an additional editing window. Type in the code to be executed. From the menu in that window, select File → Save or File → Save As… and save the file to disk. Then select Run → Run Module. The output should appear back in the interpreter"
   ]
  },
  {
   "cell_type": "markdown",
   "id": "725fe91e",
   "metadata": {},
   "source": [
    "# Q8. Functions are said to be “first-class objects” in Python but not in most other languages, such as C++ or Java. What can you do in Python with a function (callable object) that you can't do in C or C++?"
   ]
  },
  {
   "cell_type": "markdown",
   "id": "0b3cefab",
   "metadata": {},
   "source": [
    "In general, a callable is something that can be called. This built-in method in Python checks and returns True if the object passed appears to be callable, but may not be, otherwise False."
   ]
  },
  {
   "cell_type": "code",
   "execution_count": 7,
   "id": "642cd5e9",
   "metadata": {},
   "outputs": [
    {
     "name": "stdout",
     "output_type": "stream",
     "text": [
      "True\n",
      "False\n"
     ]
    }
   ],
   "source": [
    "# Python program to illustrate \n",
    "# callable()\n",
    "# a test function\n",
    "def Geek():\n",
    "    return 5\n",
    "  \n",
    "# an object is created of Geek()\n",
    "let = Geek\n",
    "print(callable(let))\n",
    "  \n",
    "# a test variable\n",
    "num = 5 * 5\n",
    "print(callable(num))"
   ]
  },
  {
   "cell_type": "markdown",
   "id": "0872e786",
   "metadata": {},
   "source": [
    "The tasks which can be performed with the functions in python are:\n",
    "    \n",
    "\n",
    "A function is an instance of the Object type.                                                                                   \n",
    "You can store the function in a variable.                                                                                       \n",
    "You can pass the function as a parameter to another function.                                                                 \n",
    "You can return the function from a function.                                                                                  \n",
    "You can store them in data structures such as hash tables, lists,                            "
   ]
  },
  {
   "cell_type": "markdown",
   "id": "fbfec5b5",
   "metadata": {},
   "source": [
    "# Q9. How do you distinguish between a wrapper, a wrapped feature, and a decorator?"
   ]
  },
  {
   "cell_type": "markdown",
   "id": "255dc065",
   "metadata": {},
   "source": [
    "wrappers are the functionality available in Python to wrap a function with another function to extend its behavior. Now, the reason to use wrappers in our code lies in the fact that we can modify a wrapped function without actually changing it. They are also known as decorators."
   ]
  },
  {
   "cell_type": "code",
   "execution_count": 9,
   "id": "87d0fa6a",
   "metadata": {},
   "outputs": [
    {
     "name": "stdout",
     "output_type": "stream",
     "text": [
      "This is wrapped function\n"
     ]
    },
    {
     "data": {
      "text/plain": [
       "'wrapper_function'"
      ]
     },
     "execution_count": 9,
     "metadata": {},
     "output_type": "execute_result"
    }
   ],
   "source": [
    "# defining decorator function\n",
    "def decorator_function(wrapped_function):\n",
    "    def wrapper_function():\n",
    "        return wrapped_function()\n",
    "    return wrapper_function\n",
    " \n",
    "@decorator_function\n",
    "def wrapped_function():\n",
    "    print(\"This is wrapped function\")\n",
    " \n",
    " \n",
    "wrapped_function()\n",
    "wrapped_function.__name__"
   ]
  },
  {
   "cell_type": "code",
   "execution_count": 11,
   "id": "32859e60",
   "metadata": {},
   "outputs": [
    {
     "name": "stdout",
     "output_type": "stream",
     "text": [
      "I am in wrapper1 and now in wrapper 2\n"
     ]
    }
   ],
   "source": [
    "def decorator1(func):\n",
    "    def wrapper1(a):\n",
    "        a = a+\"I am in wrapper1\"\n",
    "        return func(a)\n",
    "    return wrapper1\n",
    " \n",
    "def decorator2(func):\n",
    "    \"\"\"Comment\"\"\"\n",
    "    def wrapper2(a):\n",
    "        a = a+\" and now in wrapper 2\"\n",
    "        return func(a)\n",
    "    return wrapper2\n",
    " \n",
    "@decorator1\n",
    "@decorator2\n",
    "def func(a):\n",
    "    print(a)\n",
    " \n",
    " \n",
    "a = \"\"\n",
    "func(a)"
   ]
  },
  {
   "cell_type": "markdown",
   "id": "3c3568a5",
   "metadata": {},
   "source": [
    "# Q10. If a function is a generator function, what does it return?"
   ]
  },
  {
   "cell_type": "markdown",
   "id": "6b766fa7",
   "metadata": {},
   "source": [
    "<b>Ans</b>: Generator functions are a special kind of function that return a <b>lazy iterator</b>. These are objects that you can loop over like a list. However, unlike lists, lazy iterators do not store their contents in memory."
   ]
  },
  {
   "cell_type": "markdown",
   "id": "b98ad6fd",
   "metadata": {},
   "source": [
    "# Q11. What is the one improvement that must be made to a function in order for it to become a generator function in the Python language?"
   ]
  },
  {
   "cell_type": "markdown",
   "id": "00c61250",
   "metadata": {},
   "source": [
    "<b>Ans</b>: Generator is a written as normal function but uses <b>yield</b> keyword to return values instead of <b>return</b> keyword."
   ]
  },
  {
   "cell_type": "markdown",
   "id": "1c70662c",
   "metadata": {},
   "source": [
    "# Q12. Identify at least one benefit of generators."
   ]
  },
  {
   "cell_type": "markdown",
   "id": "408533bb",
   "metadata": {},
   "source": [
    "Complexity is reduced.                                                                                                       \n",
    "And it illustrates the other benefit of generators: encapsulation. It provides new and useful ways for you to package and isolate internal code dependencies. You can do the same thing with classes, but only by spreading state across several methods, in a way that’s not nearly as easy to understand."
   ]
  },
  {
   "cell_type": "markdown",
   "id": "210e8070",
   "metadata": {},
   "source": [
    "We should use generator when we want to iterate over a sequence, but don’t want to store the entire sequence in memory."
   ]
  }
 ],
 "metadata": {
  "kernelspec": {
   "display_name": "Python 3",
   "language": "python",
   "name": "python3"
  },
  "language_info": {
   "codemirror_mode": {
    "name": "ipython",
    "version": 3
   },
   "file_extension": ".py",
   "mimetype": "text/x-python",
   "name": "python",
   "nbconvert_exporter": "python",
   "pygments_lexer": "ipython3",
   "version": "3.8.8"
  }
 },
 "nbformat": 4,
 "nbformat_minor": 5
}
