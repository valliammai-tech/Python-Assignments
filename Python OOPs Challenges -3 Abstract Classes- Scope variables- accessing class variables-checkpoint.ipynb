{
 "cells": [
  {
   "cell_type": "markdown",
   "id": "fc8b9599",
   "metadata": {},
   "source": [
    "# 1. What is the concept of an abstract superclass?"
   ]
  },
  {
   "cell_type": "markdown",
   "id": "bb6d6bf0",
   "metadata": {},
   "source": [
    "Abstract classes can only be used via inheritance and their concrete child classes have to provide an implementation for all the abstract methods.A class that inherits an abstract class and implements all its abstract methods is called concrete class.\n",
    "\n",
    "<u>Detailed Explanation Below:</u>\n",
    "\n",
    "An Abstract class is a template that enforces a common interface and forces classes that inherit from it to implement a set of methods and properties. The Python abc module provides the functionalities to define and use abstract classes.\n",
    "\n",
    "Abstract classes give us a standard way of developing our code even if you have multiple developers working on a project.\n",
    "\n",
    "Let’s find out how to use them in your programs!                                                                             \n",
    "\n",
    "<u>A Simple Example of Abstract Class in Python</u>                                                                            \n",
    "\n",
    "Abstract Classes come from PEP 3119. PEP stands for Python Enhancement Proposal and it’s a type of design document used to explains new features to the Python community.\n",
    "\n",
    "Firstly, let’s start by defining a simple class called Aircraft:\n"
   ]
  },
  {
   "cell_type": "code",
   "execution_count": 1,
   "id": "035f7f47",
   "metadata": {},
   "outputs": [],
   "source": [
    "class Aircraft:\n",
    "  \n",
    "    def fly(self):\n",
    "        pass"
   ]
  },
  {
   "cell_type": "markdown",
   "id": "f8855735",
   "metadata": {},
   "source": [
    "I can create an instance of this class and call the fly method on it without any errors:"
   ]
  },
  {
   "cell_type": "code",
   "execution_count": 2,
   "id": "75904941",
   "metadata": {},
   "outputs": [],
   "source": [
    "aircraft1 = Aircraft()\n",
    "aircraft1.fly()"
   ]
  },
  {
   "cell_type": "markdown",
   "id": "53bd4605",
   "metadata": {},
   "source": [
    "Now, let’s say I want to convert this class into an abstract class because I want to use it as common interface for classes that represent different types of aircrafts.\n",
    "\n",
    "Here is how we can do it…\n",
    "\n",
    "1) Import ABC and abstractmethod from the Python abc module.                                                       \n",
    "2) Derive our Aircraft class from ABC.                                                                           \n",
    "3) Add the @abstractmethod decorator to the fly method.\n",
    "\n",
    "You can make a method abstract in Python by adding the @abstractmethod decorator to it."
   ]
  },
  {
   "cell_type": "code",
   "execution_count": 3,
   "id": "feb0ea21",
   "metadata": {},
   "outputs": [],
   "source": [
    "from abc import ABC, abstractmethod\n",
    "\n",
    "class Aircraft(ABC):\n",
    "  \n",
    "    @abstractmethod\n",
    "    def fly(self):\n",
    "        pass"
   ]
  },
  {
   "cell_type": "markdown",
   "id": "34233877",
   "metadata": {},
   "source": [
    "Now, when we create an instance of Aircraft we see the following error:"
   ]
  },
  {
   "cell_type": "code",
   "execution_count": 4,
   "id": "014f1ec1",
   "metadata": {},
   "outputs": [
    {
     "ename": "TypeError",
     "evalue": "Can't instantiate abstract class Aircraft with abstract methods fly",
     "output_type": "error",
     "traceback": [
      "\u001b[1;31m---------------------------------------------------------------------------\u001b[0m",
      "\u001b[1;31mTypeError\u001b[0m                                 Traceback (most recent call last)",
      "\u001b[1;32m<ipython-input-4-0c8f9aafcd57>\u001b[0m in \u001b[0;36m<module>\u001b[1;34m\u001b[0m\n\u001b[1;32m----> 1\u001b[1;33m \u001b[0maircraft1\u001b[0m \u001b[1;33m=\u001b[0m \u001b[0mAircraft\u001b[0m\u001b[1;33m(\u001b[0m\u001b[1;33m)\u001b[0m\u001b[1;33m\u001b[0m\u001b[1;33m\u001b[0m\u001b[0m\n\u001b[0m",
      "\u001b[1;31mTypeError\u001b[0m: Can't instantiate abstract class Aircraft with abstract methods fly"
     ]
    }
   ],
   "source": [
    "aircraft1 = Aircraft()"
   ]
  },
  {
   "cell_type": "markdown",
   "id": "17aab355",
   "metadata": {},
   "source": [
    "As you can see I’m not able to create an instance of our abstract class.\n",
    "\n",
    "An Abstract class is a class that contains one or more abstract methods. Abstract classes cannot be instantiated.\n",
    "\n",
    "This means that we cannot create an object from an abstract class…\n",
    "\n",
    "So, how can we use them?\n",
    "\n",
    "Abstract classes can only be used via inheritance and their concrete child classes have to provide an implementation for all the abstract methods.\n",
    "\n",
    "<B><u>Python Abstract Class Inheritance</u></B>                                                                                \n",
    "Let’s see what happens if instead of instantiating our abstract class we create a child class that derives from it."
   ]
  },
  {
   "cell_type": "code",
   "execution_count": 5,
   "id": "c5fcc83a",
   "metadata": {},
   "outputs": [],
   "source": [
    "from abc import ABC, abstractmethod\n",
    "\n",
    "class Aircraft(ABC):\n",
    "  \n",
    "    @abstractmethod\n",
    "    def fly(self):\n",
    "        pass\n",
    "\n",
    "class Jet(Aircraft):\n",
    "    pass"
   ]
  },
  {
   "cell_type": "markdown",
   "id": "22c0aa7b",
   "metadata": {},
   "source": [
    "Let’s try to create an instance of Jet:"
   ]
  },
  {
   "cell_type": "code",
   "execution_count": 6,
   "id": "52001cab",
   "metadata": {},
   "outputs": [
    {
     "ename": "TypeError",
     "evalue": "Can't instantiate abstract class Jet with abstract methods fly",
     "output_type": "error",
     "traceback": [
      "\u001b[1;31m---------------------------------------------------------------------------\u001b[0m",
      "\u001b[1;31mTypeError\u001b[0m                                 Traceback (most recent call last)",
      "\u001b[1;32m<ipython-input-6-bc5b23d524de>\u001b[0m in \u001b[0;36m<module>\u001b[1;34m\u001b[0m\n\u001b[1;32m----> 1\u001b[1;33m \u001b[0mjet1\u001b[0m \u001b[1;33m=\u001b[0m \u001b[0mJet\u001b[0m\u001b[1;33m(\u001b[0m\u001b[1;33m)\u001b[0m\u001b[1;33m\u001b[0m\u001b[1;33m\u001b[0m\u001b[0m\n\u001b[0m",
      "\u001b[1;31mTypeError\u001b[0m: Can't instantiate abstract class Jet with abstract methods fly"
     ]
    }
   ],
   "source": [
    "jet1 = Jet()"
   ]
  },
  {
   "cell_type": "markdown",
   "id": "9020c937",
   "metadata": {},
   "source": [
    "Hmmm…a similar error to the one we have seen before with the difference that now it refers to the Jet class.\n",
    "\n",
    "Why?\n",
    "\n",
    "That’s because to be able to create an object of type Jet we have to provide an implementation for the abstract method fly() in this class.\n",
    "\n",
    "Let’s give it a try:"
   ]
  },
  {
   "cell_type": "code",
   "execution_count": 7,
   "id": "7278172a",
   "metadata": {},
   "outputs": [],
   "source": [
    "class Jet(Aircraft):\n",
    "\n",
    "    def fly(self):\n",
    "        print(\"My jet is flying\")"
   ]
  },
  {
   "cell_type": "markdown",
   "id": "131fde0c",
   "metadata": {},
   "source": [
    "This time I can create an instance of type Jet and execute the fly method:"
   ]
  },
  {
   "cell_type": "code",
   "execution_count": 8,
   "id": "7312468e",
   "metadata": {},
   "outputs": [
    {
     "name": "stdout",
     "output_type": "stream",
     "text": [
      "My jet is flying\n"
     ]
    }
   ],
   "source": [
    "jet1 = Jet()\n",
    "jet1.fly()"
   ]
  },
  {
   "cell_type": "markdown",
   "id": "9a66a004",
   "metadata": {},
   "source": [
    "A class that inherits an abstract class and implements all its abstract methods is called concrete class. In a concrete class all the methods have an implementation while in an abstract class some or all the methods are abstract. Now I will add another abstract method called land() to our Aircraft abstract class and then try to create an instance of Jet again:"
   ]
  },
  {
   "cell_type": "code",
   "execution_count": 9,
   "id": "6608cdf2",
   "metadata": {},
   "outputs": [],
   "source": [
    "class Aircraft(ABC):\n",
    "\n",
    "    @abstractmethod\n",
    "    def fly(self):\n",
    "        pass\n",
    "\n",
    "    @abstractmethod\n",
    "    def land(self):\n",
    "        pass"
   ]
  },
  {
   "cell_type": "markdown",
   "id": "3155585f",
   "metadata": {},
   "source": [
    "Here’s what happens when I create an instance of the class Jet whose implementation hasn’t changed:"
   ]
  },
  {
   "cell_type": "code",
   "execution_count": 13,
   "id": "ea82ff5f",
   "metadata": {},
   "outputs": [],
   "source": [
    "class Jet(Aircraft):\n",
    "\n",
    "    def fly(self):\n",
    "        print(\"My jet is flying\")"
   ]
  },
  {
   "cell_type": "code",
   "execution_count": 14,
   "id": "7cccf8c9",
   "metadata": {},
   "outputs": [
    {
     "ename": "TypeError",
     "evalue": "Can't instantiate abstract class Jet with abstract methods land",
     "output_type": "error",
     "traceback": [
      "\u001b[1;31m---------------------------------------------------------------------------\u001b[0m",
      "\u001b[1;31mTypeError\u001b[0m                                 Traceback (most recent call last)",
      "\u001b[1;32m<ipython-input-14-bc5b23d524de>\u001b[0m in \u001b[0;36m<module>\u001b[1;34m\u001b[0m\n\u001b[1;32m----> 1\u001b[1;33m \u001b[0mjet1\u001b[0m \u001b[1;33m=\u001b[0m \u001b[0mJet\u001b[0m\u001b[1;33m(\u001b[0m\u001b[1;33m)\u001b[0m\u001b[1;33m\u001b[0m\u001b[1;33m\u001b[0m\u001b[0m\n\u001b[0m",
      "\u001b[1;31mTypeError\u001b[0m: Can't instantiate abstract class Jet with abstract methods land"
     ]
    }
   ],
   "source": [
    "jet1 = Jet()"
   ]
  },
  {
   "cell_type": "markdown",
   "id": "c4e7f8ba",
   "metadata": {},
   "source": [
    "The error is caused by the fact that we haven’t provided a concrete implementation for the land method in the Jet subclass. This demonstrates that to instantiate a class that derives from an abstract class we have to provide an implementation for all the abstract methods inherited from the parent abstract class.\n",
    "\n",
    "<B>A child class of an abstract class can be instantiated only if it overrides all the abstract methods in the parent class.</B>\n",
    "\n",
    "The term override in Python inheritance indicates that a child class implements a method with the same name as a method implemented in its parent class. This is a basic concept in object oriented programming.\n",
    "\n",
    "So, let’s implement the land() method in the Jet class:"
   ]
  },
  {
   "cell_type": "code",
   "execution_count": 15,
   "id": "c50e0efc",
   "metadata": {},
   "outputs": [],
   "source": [
    "class Jet(Aircraft):\n",
    "\n",
    "    def fly(self):\n",
    "        print(\"My jet is flying\")\n",
    "\n",
    "    def land(self):\n",
    "        print(\"My jet has landed\")"
   ]
  },
  {
   "cell_type": "markdown",
   "id": "0a4f3e65",
   "metadata": {},
   "source": [
    "I will run both methods in the Jet class to make sure everything works as expected:"
   ]
  },
  {
   "cell_type": "code",
   "execution_count": 16,
   "id": "542ade91",
   "metadata": {},
   "outputs": [
    {
     "name": "stdout",
     "output_type": "stream",
     "text": [
      "My jet is flying\n",
      "My jet has landed\n"
     ]
    }
   ],
   "source": [
    "jet1 = Jet()\n",
    "jet1.fly()\n",
    "jet1.land()"
   ]
  },
  {
   "cell_type": "markdown",
   "id": "166e03fb",
   "metadata": {},
   "source": [
    "# Using Super to Call a Method From an Abstract Class"
   ]
  },
  {
   "cell_type": "markdown",
   "id": "2f33f3c6",
   "metadata": {},
   "source": [
    "An abstract method in Python doesn’t necessarily have to be completely empty.\n",
    "\n",
    "It can contain some implementation that can be reused by child classes by calling the abstract method with super(). This doesn’t exclude the fact that child classes still have to implement the abstract method.\n",
    "\n",
    "Here is an example…\n",
    "\n",
    "We will make the following changes:\n",
    "\n",
    "->Add a print statement to the land method of the Aircraft abstract class.                                                  \n",
    "->Call the land method of the abstract class from the Jet child class before printing the message “My jet has landed”."
   ]
  },
  {
   "cell_type": "code",
   "execution_count": 17,
   "id": "20709c03",
   "metadata": {},
   "outputs": [],
   "source": [
    "from abc import ABC, abstractmethod\n",
    "\n",
    "class Aircraft(ABC):\n",
    "\n",
    "    @abstractmethod\n",
    "    def fly(self):\n",
    "        pass\n",
    "\n",
    "    @abstractmethod\n",
    "    def land(self):\n",
    "        print(\"All checks completed\")\n",
    "\n",
    "class Jet(Aircraft):\n",
    "\n",
    "    def fly(self):\n",
    "        print(\"My jet is flying\")\n",
    "\n",
    "    def land(self):\n",
    "        super().land()\n",
    "        print(\"My jet has landed\")"
   ]
  },
  {
   "cell_type": "code",
   "execution_count": 18,
   "id": "c2b74201",
   "metadata": {},
   "outputs": [
    {
     "name": "stdout",
     "output_type": "stream",
     "text": [
      "All checks completed\n",
      "My jet has landed\n"
     ]
    }
   ],
   "source": [
    "jet1 = Jet()\n",
    "jet1.land()"
   ]
  },
  {
   "cell_type": "markdown",
   "id": "3560ee11",
   "metadata": {},
   "source": [
    "From the output you can see that the jet1 instance of the concrete class Jet calls the land method of the abstract class first using super() and then prints its own message.\n",
    "\n",
    "This can be handy to avoid repeating the same code in all the child classes of our abstract class."
   ]
  },
  {
   "cell_type": "markdown",
   "id": "16de65b8",
   "metadata": {},
   "source": [
    "# How to Implement an Abstract Property in Python"
   ]
  },
  {
   "cell_type": "markdown",
   "id": "cb18d467",
   "metadata": {},
   "source": [
    "In the same way we have defined abstract methods we can also define abstract properties in our abstract class.\n",
    "\n",
    "Let’s add an attribute called speed to our abstract base class Aircraft and also property methods to read and modify its value.\n",
    "\n",
    "A way in Python to define property methods to read and modify the value of speed would be the following:  "
   ]
  },
  {
   "cell_type": "code",
   "execution_count": 20,
   "id": "842c8d8c",
   "metadata": {},
   "outputs": [],
   "source": [
    "class MyClass:\n",
    "    ...\n",
    "    ...\n",
    "    @property\n",
    "    def speed(self):\n",
    "        return self.__speed\n",
    "\n",
    "    @speed.setter\n",
    "    def speed(self, value):\n",
    "        self.__speed = value"
   ]
  },
  {
   "cell_type": "markdown",
   "id": "550f4f8e",
   "metadata": {},
   "source": [
    "The method with the @property decorator is used to get the value of speed (getter). The method with the @speed.setter decorator allows to update the value of speed (setter).  \n",
    "\n",
    "In this case we want these two methods to be abstract in order to enforce their implementation in every subclass of Aircraft. Also, considering that they are abstract we don’t want to have any implementation for them…\n",
    "\n",
    "…we will use the pass statement.\n",
    "\n",
    "We are also adding an abstract constructor that can be called by its subclasses.\n",
    "\n",
    "To be fair I’m tempted to remove this constructor considering that an abstract class is not supposed to be instantiated.\n",
    "\n",
    "At the same time the constructor can be used as a guidance for the subclasses that will have to implement it. I will keep it for now.\n",
    "\n",
    "So, the Aircraft class looks like this:"
   ]
  },
  {
   "cell_type": "code",
   "execution_count": 27,
   "id": "5da417a8",
   "metadata": {},
   "outputs": [],
   "source": [
    "class Aircraft(ABC):\n",
    "\n",
    "    @abstractmethod\n",
    "    def __init__(self, speed):\n",
    "        self.__speed = speed\n",
    "\n",
    "    @property\n",
    "    @abstractmethod\n",
    "    def speed(self):\n",
    "        pass\n",
    "\n",
    "    @speed.setter\n",
    "    @abstractmethod\n",
    "    def speed(self, value):\n",
    "        pass\n",
    "\n",
    "    @abstractmethod\n",
    "    def fly(self):\n",
    "        pass\n",
    "\n",
    "    @abstractmethod\n",
    "    def land(self):\n",
    "        print(\"All checks completed\")"
   ]
  },
  {
   "attachments": {
    "image.png": {
     "image/png": "[encoded data removed]"
    }
   },
   "cell_type": "markdown",
   "id": "1b63ee0b",
   "metadata": {},
   "source": [
    "Note: it’s important to specify the @abstractmethod decorator after the @property and @speed.setter decorators. If I don’t do that I get the following error:\n",
    "\n",
    "![image.png](attachment:image.png)\n",
    "\n",
    "Let’s also override the constructor in the Jet class:"
   ]
  },
  {
   "cell_type": "code",
   "execution_count": 28,
   "id": "6b4ae991",
   "metadata": {},
   "outputs": [],
   "source": [
    "class Jet(Aircraft):\n",
    "\n",
    "    def __init__(self, speed):\n",
    "        self.__speed = speed\n",
    "\n",
    "    def fly(self):\n",
    "        print(\"My jet is flying\")"
   ]
  },
  {
   "cell_type": "markdown",
   "id": "81ae3408",
   "metadata": {},
   "source": [
    "I’m curious to see what happens if we try to create an instance of the Jet class after adding the abstract property methods to its parent abstract class.\n",
    "\n",
    "Notice that I’m passing the speed when I create an instance of Jet considering that we have just added a constructor to it that takes the speed as argument:"
   ]
  },
  {
   "cell_type": "code",
   "execution_count": 29,
   "id": "5e5061ce",
   "metadata": {},
   "outputs": [
    {
     "ename": "TypeError",
     "evalue": "Can't instantiate abstract class Jet with abstract methods land, speed",
     "output_type": "error",
     "traceback": [
      "\u001b[1;31m---------------------------------------------------------------------------\u001b[0m",
      "\u001b[1;31mTypeError\u001b[0m                                 Traceback (most recent call last)",
      "\u001b[1;32m<ipython-input-29-92841ce16cc0>\u001b[0m in \u001b[0;36m<module>\u001b[1;34m\u001b[0m\n\u001b[1;32m----> 1\u001b[1;33m \u001b[0mjet1\u001b[0m \u001b[1;33m=\u001b[0m \u001b[0mJet\u001b[0m\u001b[1;33m(\u001b[0m\u001b[1;36m900\u001b[0m\u001b[1;33m)\u001b[0m\u001b[1;33m\u001b[0m\u001b[1;33m\u001b[0m\u001b[0m\n\u001b[0m",
      "\u001b[1;31mTypeError\u001b[0m: Can't instantiate abstract class Jet with abstract methods land, speed"
     ]
    }
   ],
   "source": [
    "jet1 = Jet(900)"
   ]
  },
  {
   "cell_type": "markdown",
   "id": "1cedec1d",
   "metadata": {},
   "source": [
    "The error message is telling us that we need to implement the property methods in the concrete class Jet if we want to instantiate it.\n",
    "\n",
    "Let’s do it!"
   ]
  },
  {
   "cell_type": "code",
   "execution_count": 30,
   "id": "4da03af3",
   "metadata": {},
   "outputs": [],
   "source": [
    "class Jet(Aircraft):\n",
    "\n",
    "    def __init__(self, speed):\n",
    "        self.__speed = speed\n",
    "\n",
    "    @property\n",
    "    def speed(self):\n",
    "        return self.__speed\n",
    "\n",
    "    @speed.setter\n",
    "    def speed(self, value):\n",
    "        self.__speed = value\n",
    "\n",
    "    def fly(self):\n",
    "        print(\"My jet is flying\")\n",
    "\n",
    "    def land(self):\n",
    "        super().land()\n",
    "        print(\"My jet has landed\")"
   ]
  },
  {
   "cell_type": "markdown",
   "id": "7824e1a7",
   "metadata": {},
   "source": [
    "And here is the output when we use the concrete property methods in the Jet class to read and update the value of the speed:"
   ]
  },
  {
   "cell_type": "code",
   "execution_count": 31,
   "id": "5f446c73",
   "metadata": {},
   "outputs": [
    {
     "name": "stdout",
     "output_type": "stream",
     "text": [
      "900\n",
      "950\n"
     ]
    }
   ],
   "source": [
    "jet1 = Jet(900)\n",
    "print(jet1.speed)\n",
    "jet1.speed = 950\n",
    "print(jet1.speed)"
   ]
  },
  {
   "cell_type": "markdown",
   "id": "51ae6342",
   "metadata": {},
   "source": [
    "The code works fine!\n",
    "\n",
    "Python also provides a decorator called @abstractproperty. Do we need it?\n",
    "\n",
    "According to the official Python documentation this decorator is deprecated since version 3.3 and you can stick to what we have seen so far."
   ]
  },
  {
   "cell_type": "markdown",
   "id": "003ae088",
   "metadata": {},
   "source": [
    "# 2. What happens when a class statement&#39;s top level contains a basic assignment statement?"
   ]
  },
  {
   "cell_type": "markdown",
   "id": "f2d385fb",
   "metadata": {},
   "source": [
    "When a Class statement's top level contains a basic assignment statement, its usually treated as a class attribute or class level variable.\n",
    "\n",
    "where as assignment statements inside methods are treated as instance attributes or local attributes.\n",
    "\n",
    "When an instance of a class is created a single copy of class attributes is maintained and shared to all instances of class. where as each instance object maintains its own copy of instance variables."
   ]
  },
  {
   "cell_type": "code",
   "execution_count": 32,
   "id": "7a25dfa8",
   "metadata": {},
   "outputs": [],
   "source": [
    "class Person:\n",
    "    species = 'Homesapiens' # class attribute\n",
    "    def __init__(self,name,gender):\n",
    "        self.name = name # instance attributes\n",
    "        self.gender = gender"
   ]
  },
  {
   "cell_type": "markdown",
   "id": "d9decc05",
   "metadata": {},
   "source": [
    "# 3. Why does a class need to manually call a superclass&#39;s __init__ method?"
   ]
  },
  {
   "cell_type": "markdown",
   "id": "2c7118e8",
   "metadata": {},
   "source": [
    "If a child class has __init__ method, then it will not inherit the __init__ method of the parent class.                         \n",
    "In other words the __init__ method of the child class overrides the __init__ method of the parent class.                        \n",
    "so we have to manually call a parent superclass's __init__ using super() method."
   ]
  },
  {
   "cell_type": "code",
   "execution_count": 34,
   "id": "97838c50",
   "metadata": {},
   "outputs": [
    {
     "name": "stdout",
     "output_type": "stream",
     "text": [
      "{'name': 'Valli', 'age': 30, 'salary': 20000}\n"
     ]
    }
   ],
   "source": [
    "class Person:\n",
    "    def __init__(self,name,age):\n",
    "        self.name = name\n",
    "        self.age = age       \n",
    "class Employee(Person):\n",
    "    def __init__(self,name,age,salary):\n",
    "        super().__init__(name,age)\n",
    "        self.salary = salary\n",
    "emp_1 = Employee('Valli',30,20000)\n",
    "print(emp_1.__dict__)"
   ]
  },
  {
   "cell_type": "markdown",
   "id": "165ad605",
   "metadata": {},
   "source": [
    "\n",
    "# 4. How can you augment, instead of completely replacing, an inherited method?"
   ]
  },
  {
   "cell_type": "markdown",
   "id": "a05eb5e5",
   "metadata": {},
   "source": [
    "somehow augment the original class attributes, instead of replacing it altogether. The good way to do that in Python is by calling to the original version directly, with augmented arguments. Variables inside class needs to be declared as Public class members."
   ]
  },
  {
   "cell_type": "code",
   "execution_count": 49,
   "id": "c6be0ec9",
   "metadata": {},
   "outputs": [
    {
     "name": "stdout",
     "output_type": "stream",
     "text": [
      "Valli Ammai\n",
      "Mike Olsen\n"
     ]
    }
   ],
   "source": [
    "class Person:\n",
    "    def __init__(self, fname, lname):\n",
    "        self.firstname = fname\n",
    "        self.lastname = lname\n",
    "\n",
    "    def printname(self):\n",
    "        print(self.firstname, self.lastname)\n",
    "\n",
    "class Student(Person):\n",
    "    pass\n",
    "\n",
    "#Use the Person class to create an object, and then execute the printname method:\n",
    "\n",
    "x = Person(\"Valli\", \"Ammai\") #Example for Augmenting without replacing inherited method\n",
    "x.printname()\n",
    "x = Student(\"Mike\", \"Olsen\") #Example for replacing inherited method\n",
    "x.printname()"
   ]
  },
  {
   "cell_type": "code",
   "execution_count": 53,
   "id": "988c84d6",
   "metadata": {},
   "outputs": [
    {
     "name": "stdout",
     "output_type": "stream",
     "text": [
      "Mike\n",
      "Olsen\n"
     ]
    }
   ],
   "source": [
    "print(x.firstname)\n",
    "print(x.lastname)"
   ]
  },
  {
   "cell_type": "code",
   "execution_count": 40,
   "id": "b94341b7",
   "metadata": {},
   "outputs": [],
   "source": [
    "Person.firstname=\"Valli\"\n",
    "Person.lastname=\"Ammai\""
   ]
  },
  {
   "cell_type": "code",
   "execution_count": 46,
   "id": "7b5d7130",
   "metadata": {},
   "outputs": [
    {
     "name": "stdout",
     "output_type": "stream",
     "text": [
      "Valli\n",
      "Ammai\n"
     ]
    }
   ],
   "source": [
    "print(Person.firstname)\n",
    "print(Person.lastname)"
   ]
  },
  {
   "cell_type": "markdown",
   "id": "3e456545",
   "metadata": {},
   "source": [
    "This code leverages the fact that a class method can always be called either through an instance (the usual way, where Python sends the instance to the self argument automatically) or through the class (the less common scheme, where you must pass the instance manually). In more symbolic terms, recall that a normal method call of this form:\n",
    "\n",
    "instance.method(args...) is automatically translated by Python into this equivalent form:\n",
    "\n",
    "class.method(instance, args...)\n",
    "\n",
    "where the class containing the method to be run is determined by the inheritance search rule applied to the method's name. You can code either form in your script, but there is a slight asymmetry between the two—you must remember to pass along the instance manually if you call through the class directly. The method always needs a subject instance one way or another, and Python provides it automatically only for calls made through an instance. For calls through the class name, you need to send an instance to self yourself; for code inside a method like printname, self already is the subject of the call, and hence the instance to pass along.\n",
    "\n",
    "Calling through the class directly effectively subverts inheritance and kicks the call higher up the class tree to run a specific version."
   ]
  },
  {
   "cell_type": "markdown",
   "id": "8c7d22e3",
   "metadata": {},
   "source": [
    "# 5. How is the local scope of a class different from that of a function?"
   ]
  },
  {
   "cell_type": "markdown",
   "id": "b3af08b8",
   "metadata": {},
   "source": [
    "Local scope: variables you create within a function are only available within the function.                                    \n",
    "Global scope: variables you create outside of a function belong to the global scope and can be used everywhere."
   ]
  },
  {
   "cell_type": "markdown",
   "id": "aea855e2",
   "metadata": {},
   "source": [
    "The local scope in a python program is defined for a block of code such as function. Each function in a python program has its own local scope in which all its variables and object names are defined. The local scope of a function is loaded when the function is called by any other function. Once the function terminates, the local scope associated with it is also terminated.\n",
    "To understand the concept of local scope, look at the following example."
   ]
  },
  {
   "cell_type": "code",
   "execution_count": 54,
   "id": "13acc5f6",
   "metadata": {},
   "outputs": [],
   "source": [
    "myNum1 = 10\n",
    "myNum2 = 10\n",
    "\n",
    "\n",
    "def add(num1, num2):\n",
    "    temp = num1 + num2\n",
    "\n",
    "    def print_sum():\n",
    "        print(temp)\n",
    "\n",
    "    return temp"
   ]
  },
  {
   "cell_type": "markdown",
   "id": "60bce485",
   "metadata": {},
   "source": [
    "In the above program, variables num1, num2 and temp exist in the local scope of add() function. These names exists only till the function add() is being executed."
   ]
  },
  {
   "cell_type": "markdown",
   "id": "d5111bf9",
   "metadata": {},
   "source": [
    "What is a scope in Python?\n",
    "\n",
    "When we define a variable, a function or a class name in a program, It is accessible in only a certain region of the program. This certain region in which a name, once defined, can be used to identify an object, a variable or a function is called scope.  The scope may extend from a single block of code like a function to the entire runtime environment depending on the definition of variable or function names.\n",
    "\n",
    "The concept of scope is closely related to namespaces and scopes are implemented as namespaces. We can consider a namespace as a python dictionary that maps object names to objects. The keys of the dictionary correspond to the names and the values correspond to the objects in python.\n",
    "\n",
    "In python, there are four types of scope definitions, namely in-built scope, global scope,local scope and enclosing scope. We will study about all of these in the following sections."
   ]
  },
  {
   "cell_type": "markdown",
   "id": "fda73041",
   "metadata": {},
   "source": [
    "<B><u>What is the in-built scope in Python?</u></B>\n",
    "\n",
    "The built-in scope in python contains built-in object and function definitions. It is implemented using the builtins module in recent versions of python. \n",
    "\n",
    "Whenever we start the python interpreter, the builtins module is automatically loaded into our runtime environment. As a result, we can access all the functions and objects defined in the module in our program without any need to import them.\n",
    "\n",
    "The functions like print(),abs(),input(),int(), float(), string(),sum(),max(),sorted() and other similar functions which are not needed to be imported before being used are defined in the built-in scope. We can have a look at the functions and object definitions which are available in the built-in scope as follows."
   ]
  },
  {
   "cell_type": "code",
   "execution_count": 55,
   "id": "23d87d05",
   "metadata": {},
   "outputs": [
    {
     "name": "stdout",
     "output_type": "stream",
     "text": [
      "ArithmeticError\n",
      "AssertionError\n",
      "AttributeError\n",
      "BaseException\n",
      "BlockingIOError\n",
      "BrokenPipeError\n",
      "BufferError\n",
      "BytesWarning\n",
      "ChildProcessError\n",
      "ConnectionAbortedError\n",
      "ConnectionError\n",
      "ConnectionRefusedError\n",
      "ConnectionResetError\n",
      "DeprecationWarning\n",
      "EOFError\n",
      "Ellipsis\n",
      "EnvironmentError\n",
      "Exception\n",
      "False\n",
      "FileExistsError\n",
      "FileNotFoundError\n",
      "FloatingPointError\n",
      "FutureWarning\n",
      "GeneratorExit\n",
      "IOError\n",
      "ImportError\n",
      "ImportWarning\n",
      "IndentationError\n",
      "IndexError\n",
      "InterruptedError\n",
      "IsADirectoryError\n",
      "KeyError\n",
      "KeyboardInterrupt\n",
      "LookupError\n",
      "MemoryError\n",
      "ModuleNotFoundError\n",
      "NameError\n",
      "None\n",
      "NotADirectoryError\n",
      "NotImplemented\n",
      "NotImplementedError\n",
      "OSError\n",
      "OverflowError\n",
      "PendingDeprecationWarning\n",
      "PermissionError\n",
      "ProcessLookupError\n",
      "RecursionError\n",
      "ReferenceError\n",
      "ResourceWarning\n",
      "RuntimeError\n",
      "RuntimeWarning\n",
      "StopAsyncIteration\n",
      "StopIteration\n",
      "SyntaxError\n",
      "SyntaxWarning\n",
      "SystemError\n",
      "SystemExit\n",
      "TabError\n",
      "TimeoutError\n",
      "True\n",
      "TypeError\n",
      "UnboundLocalError\n",
      "UnicodeDecodeError\n",
      "UnicodeEncodeError\n",
      "UnicodeError\n",
      "UnicodeTranslateError\n",
      "UnicodeWarning\n",
      "UserWarning\n",
      "ValueError\n",
      "Warning\n",
      "WindowsError\n",
      "ZeroDivisionError\n",
      "__IPYTHON__\n",
      "__build_class__\n",
      "__debug__\n",
      "__doc__\n",
      "__import__\n",
      "__loader__\n",
      "__name__\n",
      "__package__\n",
      "__spec__\n",
      "abs\n",
      "all\n",
      "any\n",
      "ascii\n",
      "bin\n",
      "bool\n",
      "breakpoint\n",
      "bytearray\n",
      "bytes\n",
      "callable\n",
      "chr\n",
      "classmethod\n",
      "compile\n",
      "complex\n",
      "copyright\n",
      "credits\n",
      "delattr\n",
      "dict\n",
      "dir\n",
      "display\n",
      "divmod\n",
      "enumerate\n",
      "eval\n",
      "exec\n",
      "filter\n",
      "float\n",
      "format\n",
      "frozenset\n",
      "get_ipython\n",
      "getattr\n",
      "globals\n",
      "hasattr\n",
      "hash\n",
      "help\n",
      "hex\n",
      "id\n",
      "input\n",
      "int\n",
      "isinstance\n",
      "issubclass\n",
      "iter\n",
      "len\n",
      "license\n",
      "list\n",
      "locals\n",
      "map\n",
      "max\n",
      "memoryview\n",
      "min\n",
      "next\n",
      "object\n",
      "oct\n",
      "open\n",
      "ord\n",
      "pow\n",
      "print\n",
      "property\n",
      "range\n",
      "repr\n",
      "reversed\n",
      "round\n",
      "set\n",
      "setattr\n",
      "slice\n",
      "sorted\n",
      "staticmethod\n",
      "str\n",
      "sum\n",
      "super\n",
      "tuple\n",
      "type\n",
      "vars\n",
      "zip\n"
     ]
    }
   ],
   "source": [
    "builtin_names = dir(__builtins__)\n",
    "for name in builtin_names:\n",
    "    print(name)"
   ]
  },
  {
   "cell_type": "markdown",
   "id": "f74e06ef",
   "metadata": {},
   "source": [
    "The built-in scope is created once the interpreter is loaded and is destroyed with the closing of the python interpreter. All the names defined in the builtins module are in the built-in scope of the program."
   ]
  },
  {
   "cell_type": "markdown",
   "id": "6c725955",
   "metadata": {},
   "source": [
    "<B>What is a global scope?</B>\n",
    "\n",
    "The python script in which we write our code is termed as __main__ module by the python interpreter. The scope associated with the __main__ module is termed as a global scope. \n",
    "\n",
    "For any python program, there can be only one global scope. The global scope is created once the program starts and gets destroyed with the termination of the python program.\n",
    "\n",
    "We can understand the notion of global scope from the following program."
   ]
  },
  {
   "cell_type": "code",
   "execution_count": 57,
   "id": "949aa769",
   "metadata": {},
   "outputs": [],
   "source": [
    "myNum1 = 10\n",
    "myNum2 = 10\n",
    "\n",
    "\n",
    "def add(num1, num2):\n",
    "    temp = num1 + num2\n",
    "\n",
    "    def print_sum():\n",
    "        print(temp)\n",
    "\n",
    "    return temp"
   ]
  },
  {
   "cell_type": "markdown",
   "id": "bf1ca758",
   "metadata": {},
   "source": [
    "In the above program, myNum1 and myNum2 are in the global scope of the program. \n",
    "Objects which are present in global scope are defined outside of any code block."
   ]
  },
  {
   "cell_type": "markdown",
   "id": "cbffd36e",
   "metadata": {},
   "source": [
    "<B>What is an enclosing scope in Python?</B>\n",
    "\n",
    "Whenever a function is defined inside any other function, the scope of the inner function is defined inside the scope of the outer function. Due to this, The scope of the outer function is termed as the enclosing scope of the inner function. \n",
    "\n",
    "We can access all the variable names in a function that has been defined in its enclosing scope. However, we cannot access the variable names inside the outer function which are defined in the inner function. This can be more clear from the following example."
   ]
  },
  {
   "cell_type": "code",
   "execution_count": 58,
   "id": "b4dec915",
   "metadata": {},
   "outputs": [],
   "source": [
    "myNum1 = 10\n",
    "myNum2 = 10\n",
    "\n",
    "\n",
    "def add(num1, num2):\n",
    "    temp = num1 + num2\n",
    "\n",
    "    def print_sum():\n",
    "        print(temp)\n",
    "\n",
    "    return temp"
   ]
  },
  {
   "cell_type": "markdown",
   "id": "419803e4",
   "metadata": {},
   "source": [
    "Here, the print_sum() function exists in the local scope of add() function. Due to this, the variable names num1, num2 and temp which are defined in add() function are accessible in the scope of print_sum() function."
   ]
  }
 ],
 "metadata": {
  "kernelspec": {
   "display_name": "Python 3",
   "language": "python",
   "name": "python3"
  },
  "language_info": {
   "codemirror_mode": {
    "name": "ipython",
    "version": 3
   },
   "file_extension": ".py",
   "mimetype": "text/x-python",
   "name": "python",
   "nbconvert_exporter": "python",
   "pygments_lexer": "ipython3",
   "version": "3.8.8"
  }
 },
 "nbformat": 4,
 "nbformat_minor": 5
}
