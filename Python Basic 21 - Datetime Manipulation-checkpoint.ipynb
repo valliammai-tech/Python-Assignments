{
 "cells": [
  {
   "cell_type": "markdown",
   "id": "a3e146ae",
   "metadata": {},
   "source": [
    "# 1. Add the current date to the text file today.txt as a string."
   ]
  },
  {
   "cell_type": "code",
   "execution_count": 6,
   "id": "7a237152",
   "metadata": {},
   "outputs": [
    {
     "name": "stdout",
     "output_type": "stream",
     "text": [
      "2022-06-12\n"
     ]
    },
    {
     "data": {
      "text/plain": [
       "datetime.date(2022, 6, 12)"
      ]
     },
     "execution_count": 6,
     "metadata": {},
     "output_type": "execute_result"
    }
   ],
   "source": [
    "from datetime import date\n",
    "day=date.today()\n",
    "print(day)\n",
    "day"
   ]
  },
  {
   "cell_type": "code",
   "execution_count": 7,
   "id": "525cbc7c",
   "metadata": {},
   "outputs": [
    {
     "data": {
      "text/plain": [
       "'2022-06-12'"
      ]
     },
     "execution_count": 7,
     "metadata": {},
     "output_type": "execute_result"
    }
   ],
   "source": [
    "day.isoformat() #The return type of this method is a string in ISO 8601 format of date and time."
   ]
  },
  {
   "cell_type": "code",
   "execution_count": 11,
   "id": "90c6e88d",
   "metadata": {},
   "outputs": [],
   "source": [
    "today_str=day.isoformat()\n",
    "file=open('today.txt','w')\n",
    "file.write(today_str)\n",
    "file.close()"
   ]
  },
  {
   "attachments": {
    "image.png": {
     "image/png": "[encoded data removed]"
    }
   },
   "cell_type": "markdown",
   "id": "f0499f02",
   "metadata": {},
   "source": [
    "![image.png](attachment:image.png)"
   ]
  },
  {
   "cell_type": "markdown",
   "id": "ee851492",
   "metadata": {},
   "source": [
    "\n",
    "# 2. Read the text file today.txt into the string today_string"
   ]
  },
  {
   "cell_type": "code",
   "execution_count": 16,
   "id": "0175be1a",
   "metadata": {},
   "outputs": [
    {
     "name": "stdout",
     "output_type": "stream",
     "text": [
      "<class 'str'>\n"
     ]
    },
    {
     "data": {
      "text/plain": [
       "'2022-06-12'"
      ]
     },
     "execution_count": 16,
     "metadata": {},
     "output_type": "execute_result"
    }
   ],
   "source": [
    "file=open(\"today.txt\",'r')\n",
    "today_string=file.readline()\n",
    "print(type(today_string))\n",
    "today_string"
   ]
  },
  {
   "cell_type": "markdown",
   "id": "9451856d",
   "metadata": {},
   "source": [
    "\n",
    "# 3. Parse the date from today_string."
   ]
  },
  {
   "cell_type": "code",
   "execution_count": 26,
   "id": "882283b1",
   "metadata": {},
   "outputs": [
    {
     "name": "stdout",
     "output_type": "stream",
     "text": [
      "2022-06-12\n"
     ]
    },
    {
     "data": {
      "text/plain": [
       "datetime.datetime(2022, 6, 12, 0, 0)"
      ]
     },
     "execution_count": 26,
     "metadata": {},
     "output_type": "execute_result"
    }
   ],
   "source": [
    "print(today_string)\n",
    "from datetime import datetime\n",
    "datetime.strptime(today_string,'%Y-%m-%d') #converts string into datetime format"
   ]
  },
  {
   "cell_type": "code",
   "execution_count": 30,
   "id": "508e292a",
   "metadata": {},
   "outputs": [
    {
     "data": {
      "text/plain": [
       "datetime.date(2022, 6, 12)"
      ]
     },
     "execution_count": 30,
     "metadata": {},
     "output_type": "execute_result"
    }
   ],
   "source": [
    "datetime_values = datetime.strptime(today_string,'%Y-%m-%d')\n",
    "datetime.date(datetime_values) # gets only the date from datetime format"
   ]
  },
  {
   "cell_type": "markdown",
   "id": "1409104a",
   "metadata": {},
   "source": [
    "\n",
    "# 4. List the files in your current directory"
   ]
  },
  {
   "cell_type": "code",
   "execution_count": 34,
   "id": "14b8c505",
   "metadata": {},
   "outputs": [
    {
     "data": {
      "text/plain": [
       "['.anaconda',\n",
       " '.conda',\n",
       " '.condarc',\n",
       " '.continuum',\n",
       " '.gitconfig',\n",
       " '.ipynb_checkpoints',\n",
       " '.ipython',\n",
       " '.jupyter',\n",
       " '.lesshst',\n",
       " '.matplotlib',\n",
       " '.python_history',\n",
       " '.vscode',\n",
       " '19th - 23rd dec class exercise.ipynb',\n",
       " '22 Jan live class assignment.ipynb',\n",
       " '23rd-dec-live-class-exercise-solutions.ipynb',\n",
       " '26Mar2022-homework.jpg',\n",
       " '3D Objects',\n",
       " '9th Jan - Live Class Assignment - File System - text file manipulation.ipynb',\n",
       " 'anaconda3',\n",
       " 'AppData',\n",
       " 'Application Data',\n",
       " 'areallyourpetsnamederic',\n",
       " 'Assignment_11-Assertion-and-Logging.ipynb',\n",
       " 'books.csv',\n",
       " 'books.db',\n",
       " 'cassandra class.ipynb',\n",
       " 'color_image.jpg',\n",
       " 'Contacts',\n",
       " 'Cookies',\n",
       " 'cropped_image.jpg',\n",
       " 'csv file manipulation 13.ipynb',\n",
       " 'Desktop',\n",
       " 'Dictionary Flattening with complex json.ipynb',\n",
       " 'Dictionary Parser.ipynb',\n",
       " 'Documents',\n",
       " 'Downloads',\n",
       " 'EDA- Part 1.ipynb',\n",
       " 'Favorites',\n",
       " 'final_text_file.txt',\n",
       " 'FlightPrediction.ipynb',\n",
       " 'greyscale_monochrome.jpg',\n",
       " 'Hierarichal Means.ipynb',\n",
       " 'Hypothesis_Testing.ipynb',\n",
       " 'Image Processing using Pillow Module - Assignment 14.ipynb',\n",
       " 'IntelGraphicsProfiles',\n",
       " 'K MEans Clustering.ipynb',\n",
       " 'Lassoand Regression.ipynb',\n",
       " 'Links',\n",
       " 'Local Settings',\n",
       " 'MongoDb Class notes',\n",
       " 'MongoDb.ipynb',\n",
       " 'Music',\n",
       " 'My Documents',\n",
       " 'MySQL connector with Python Basic Tasks.ipynb',\n",
       " 'NetHood',\n",
       " 'NTUSER.DAT',\n",
       " 'ntuser.dat.LOG1',\n",
       " 'ntuser.dat.LOG2',\n",
       " 'NTUSER.DAT{1c2b59c5-c5f5-11eb-bacb-000d3a96488e}.TxR.0.regtrans-ms',\n",
       " 'NTUSER.DAT{1c2b59c5-c5f5-11eb-bacb-000d3a96488e}.TxR.1.regtrans-ms',\n",
       " 'NTUSER.DAT{1c2b59c5-c5f5-11eb-bacb-000d3a96488e}.TxR.2.regtrans-ms',\n",
       " 'NTUSER.DAT{1c2b59c5-c5f5-11eb-bacb-000d3a96488e}.TxR.blf',\n",
       " 'NTUSER.DAT{1c2b59c6-c5f5-11eb-bacb-000d3a96488e}.TM.blf',\n",
       " 'NTUSER.DAT{1c2b59c6-c5f5-11eb-bacb-000d3a96488e}.TMContainer00000000000000000001.regtrans-ms',\n",
       " 'NTUSER.DAT{1c2b59c6-c5f5-11eb-bacb-000d3a96488e}.TMContainer00000000000000000002.regtrans-ms',\n",
       " 'ntuser.ini',\n",
       " 'OneDrive',\n",
       " 'PdfFileReader_12.ipynb',\n",
       " 'Pictures',\n",
       " 'Postman',\n",
       " 'PrintHood',\n",
       " 'PycharmProjects',\n",
       " 'Python Basic 14 - Image Processing Using Pillow Method.ipynb',\n",
       " 'Python Basic 15 - Interactive Python Interpreter.ipynb',\n",
       " 'Python Basic 16 - List-set-dict Manipulation.ipynb',\n",
       " 'Python Basic 17 - Generator-whileLoop-dictComprehension-Exception.ipynb',\n",
       " 'Python Basic 18-Module-import-OrderedDict-defaultdict.ipynb',\n",
       " 'Python Basic 19 -Class-Objects-Instance-PrivateClassVariables.ipynb',\n",
       " 'Python Basic 20 - File-Manipulation-with-sqlite-redis-db-connection.ipynb',\n",
       " 'Recent',\n",
       " 'resized_picture.png',\n",
       " 'Saved Games',\n",
       " 'saved_image.jpg',\n",
       " 'seaborn-data',\n",
       " 'Searches',\n",
       " 'SendTo',\n",
       " 'Silhoutte Scoring.ipynb',\n",
       " 'Start Menu',\n",
       " 'Templates',\n",
       " 'test.txt',\n",
       " 'test1.txt',\n",
       " 'test2.txt',\n",
       " 'today.txt',\n",
       " 'Tracing',\n",
       " 'Untitled.ipynb',\n",
       " 'Untitled1.ipynb',\n",
       " 'Untitled2.ipynb',\n",
       " 'Untitled3.ipynb',\n",
       " 'Untitled4.ipynb',\n",
       " 'Untitled5.ipynb',\n",
       " 'Videos',\n",
       " 'zoo.py',\n",
       " '__pycache__']"
      ]
     },
     "execution_count": 34,
     "metadata": {},
     "output_type": "execute_result"
    }
   ],
   "source": [
    "import os\n",
    "os.listdir()"
   ]
  },
  {
   "cell_type": "markdown",
   "id": "524567f4",
   "metadata": {},
   "source": [
    "\n",
    "# 5. Create a list of all of the files in your parent directory (minimum five files should be available)."
   ]
  },
  {
   "cell_type": "code",
   "execution_count": 37,
   "id": "a43e0b6b",
   "metadata": {},
   "outputs": [
    {
     "data": {
      "text/plain": [
       "['All Users', 'Default', 'Default User', 'desktop.ini', 'Public', 'vmuth']"
      ]
     },
     "execution_count": 37,
     "metadata": {},
     "output_type": "execute_result"
    }
   ],
   "source": [
    "os.listdir('..')"
   ]
  },
  {
   "cell_type": "markdown",
   "id": "fc0a1483",
   "metadata": {},
   "source": [
    "\n",
    "# 6. Use multiprocessing to create three separate processes. Make each one wait a random number of seconds between one and five, print the current time, and then exit."
   ]
  },
  {
   "cell_type": "code",
   "execution_count": 55,
   "id": "08b3f46e",
   "metadata": {},
   "outputs": [],
   "source": [
    "import multiprocessing\n",
    "from datetime import datetime\n",
    "from time import sleep\n",
    "from random import randint\n",
    "\n",
    "def sleep_time(seconds):\n",
    "    sleep(seconds)\n",
    "    print(\"wait for \", seconds, \" seconds and the datetime now is\", datetime())\n",
    "\n",
    "if __name__=='__main__':\n",
    "    for i in range(3):\n",
    "        seconds=randint(1,5)\n",
    "        threads=multiprocessing.Process(target=sleep_time, args=(seconds,))\n",
    "        threads.start() \n",
    "#Above Program is saved to file -> multiprocessing.py"
   ]
  },
  {
   "cell_type": "code",
   "execution_count": 56,
   "id": "74876334",
   "metadata": {},
   "outputs": [
    {
     "name": "stdout",
     "output_type": "stream",
     "text": [
      "wait for  2  seconds and the datetime is now 2022-06-12 17:00:48.600886\n",
      "wait for  5  seconds and the datetime is now 2022-06-12 17:00:51.610153\n",
      "wait for  5  seconds and the datetime is now 2022-06-12 17:00:51.610153\n"
     ]
    }
   ],
   "source": [
    "!python multiprocessing.py.txt"
   ]
  },
  {
   "cell_type": "code",
   "execution_count": 57,
   "id": "95db97d9",
   "metadata": {},
   "outputs": [
    {
     "name": "stdout",
     "output_type": "stream",
     "text": [
      "wait for  1  seconds and the datetime is now 2022-06-12 17:00:52.801784\n",
      "wait for  3  seconds and the datetime is now 2022-06-12 17:00:54.823554\n",
      "wait for  4  seconds and the datetime is now 2022-06-12 17:00:55.822655\n"
     ]
    }
   ],
   "source": [
    "!python multiprocessing.py.txt"
   ]
  },
  {
   "cell_type": "code",
   "execution_count": 58,
   "id": "b6553619",
   "metadata": {},
   "outputs": [
    {
     "name": "stdout",
     "output_type": "stream",
     "text": [
      "wait for  1  seconds and the datetime is now 2022-06-12 17:00:57.033037\n",
      "wait for  3  seconds and the datetime is now 2022-06-12 17:00:59.058610\n",
      "wait for  5  seconds and the datetime is now 2022-06-12 17:01:01.040261\n"
     ]
    }
   ],
   "source": [
    "!python multiprocessing.py.txt"
   ]
  },
  {
   "cell_type": "markdown",
   "id": "570f7716",
   "metadata": {},
   "source": [
    "\n",
    "# 7. Create a date object of your day of birth."
   ]
  },
  {
   "cell_type": "code",
   "execution_count": 59,
   "id": "606bf067",
   "metadata": {},
   "outputs": [
    {
     "data": {
      "text/plain": [
       "datetime.date(1992, 9, 7)"
      ]
     },
     "execution_count": 59,
     "metadata": {},
     "output_type": "execute_result"
    }
   ],
   "source": [
    "my_birthday=date(1992,9,7)\n",
    "my_birthday"
   ]
  },
  {
   "cell_type": "markdown",
   "id": "1362d698",
   "metadata": {},
   "source": [
    "\n",
    "# 8. What day of the week was your day of birth?"
   ]
  },
  {
   "cell_type": "code",
   "execution_count": 60,
   "id": "e35d3de7",
   "metadata": {},
   "outputs": [
    {
     "data": {
      "text/plain": [
       "0"
      ]
     },
     "execution_count": 60,
     "metadata": {},
     "output_type": "execute_result"
    }
   ],
   "source": [
    "my_birthday.weekday()"
   ]
  },
  {
   "cell_type": "code",
   "execution_count": 62,
   "id": "c1221f75",
   "metadata": {},
   "outputs": [
    {
     "data": {
      "text/plain": [
       "1"
      ]
     },
     "execution_count": 62,
     "metadata": {},
     "output_type": "execute_result"
    }
   ],
   "source": [
    "my_birthday.isoweekday()"
   ]
  },
  {
   "cell_type": "markdown",
   "id": "201b31d1",
   "metadata": {},
   "source": [
    "As per weekday(), Monday is 0 and Sunday is 6. \n",
    "\n",
    "As per isoweekday(), Monday is 1 and Sunday is 7. \n",
    "\n",
    "Therefore, this day of the week was on Monday."
   ]
  },
  {
   "cell_type": "markdown",
   "id": "a2380320",
   "metadata": {},
   "source": [
    "\n",
    "# 9. When will you be (or when were you) 10,000 days old?"
   ]
  },
  {
   "cell_type": "code",
   "execution_count": 64,
   "id": "11826f6b",
   "metadata": {},
   "outputs": [
    {
     "data": {
      "text/plain": [
       "datetime.timedelta(days=10000)"
      ]
     },
     "execution_count": 64,
     "metadata": {},
     "output_type": "execute_result"
    }
   ],
   "source": [
    "from datetime import timedelta\n",
    "timedelta(days=10000)"
   ]
  },
  {
   "cell_type": "code",
   "execution_count": 67,
   "id": "bf7f47e0",
   "metadata": {},
   "outputs": [
    {
     "name": "stdout",
     "output_type": "stream",
     "text": [
      "1992-09-07\n"
     ]
    },
    {
     "data": {
      "text/plain": [
       "datetime.date(2020, 1, 24)"
      ]
     },
     "execution_count": 67,
     "metadata": {},
     "output_type": "execute_result"
    }
   ],
   "source": [
    "print(my_birthday)\n",
    "my_birthday+timedelta(days=10000)"
   ]
  },
  {
   "cell_type": "markdown",
   "id": "ba14f58d",
   "metadata": {},
   "source": [
    "On 24th Jan 2020, I was 10,000 days older!!"
   ]
  },
  {
   "cell_type": "code",
   "execution_count": null,
   "id": "43532f01",
   "metadata": {},
   "outputs": [],
   "source": []
  }
 ],
 "metadata": {
  "kernelspec": {
   "display_name": "Python 3",
   "language": "python",
   "name": "python3"
  },
  "language_info": {
   "codemirror_mode": {
    "name": "ipython",
    "version": 3
   },
   "file_extension": ".py",
   "mimetype": "text/x-python",
   "name": "python",
   "nbconvert_exporter": "python",
   "pygments_lexer": "ipython3",
   "version": "3.8.8"
  }
 },
 "nbformat": 4,
 "nbformat_minor": 5
}
