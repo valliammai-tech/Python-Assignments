{
 "cells": [
  {
   "cell_type": "markdown",
   "id": "9e7a9c74",
   "metadata": {},
   "source": [
    "# Q1. What is the meaning of multiple inheritance?"
   ]
  },
  {
   "attachments": {
    "image.png": {
     "image/png": "[encoded data removed]"
    }
   },
   "cell_type": "markdown",
   "id": "b0021738",
   "metadata": {},
   "source": [
    "Inheritance is the mechanism to achieve the re-usability of code as one class(child class) can derive the properties of another class(parent class). It also provides transitivity ie. if class C inherits from P then all the sub-classes of C would also inherit from P.\n",
    "\n",
    "Multiple Inheritance \n",
    "When a class is derived from more than one base class it is called multiple Inheritance. The derived class inherits all the features of the base case.\n",
    " \n",
    "![image.png](attachment:image.png)"
   ]
  },
  {
   "cell_type": "code",
   "execution_count": 1,
   "id": "b9aa1d1e",
   "metadata": {},
   "outputs": [],
   "source": [
    "class Parent_one:\n",
    "    pass\n",
    "class Parent_two:\n",
    "    pass\n",
    "class child(Parent_one,Parent_two):\n",
    "    pass"
   ]
  },
  {
   "cell_type": "markdown",
   "id": "c596f707",
   "metadata": {},
   "source": [
    "# Q2. What is the concept of delegation?"
   ]
  },
  {
   "cell_type": "markdown",
   "id": "f145d436",
   "metadata": {},
   "source": [
    "Delegation refers to delegating responsibility of one class to another class. This can be done be 2 ways -> one way of delegation is along with inheritance where is-a relationship exists and other type is delegation along with composition where has-a relationship exists. Example for delegation along with inheritance is method overriding. Let us see example for delegation using composition below,"
   ]
  },
  {
   "cell_type": "code",
   "execution_count": 2,
   "id": "b7b4a5f8",
   "metadata": {},
   "outputs": [],
   "source": [
    "class Faculty:\n",
    "    def __init__(self,insem,prac,endsem):\n",
    "        self.insem=insem\n",
    "        self.prac=prac\n",
    "        self.endsem=endsem\n",
    "        \n",
    "    def marks(self):\n",
    "        return self.insem+self.prac+self.endsem\n",
    "\n",
    "class Student:\n",
    "    def __init__(self,sname, year, insem, prac,endsem):\n",
    "        self.sname=sname\n",
    "        self.year=year\n",
    "        self.obj_faculty=Faculty(insem,prac,endsem)\n",
    "        \n",
    "    def tmarks(self):\n",
    "        return self.obj_faculty.marks()"
   ]
  },
  {
   "cell_type": "code",
   "execution_count": 3,
   "id": "8dc93cd4",
   "metadata": {},
   "outputs": [
    {
     "data": {
      "text/plain": [
       "100"
      ]
     },
     "execution_count": 3,
     "metadata": {},
     "output_type": "execute_result"
    }
   ],
   "source": [
    "s=Student(\"valli\",2014,25,25,50)\n",
    "s.tmarks()"
   ]
  },
  {
   "cell_type": "markdown",
   "id": "9f5dd3e1",
   "metadata": {},
   "source": [
    "In above example, responsibity of marks calculation from student class has been delegated to Faculty class. Here, Student is called container that contains Faculty. This concept is called containership. It is proved that delegation by composition is more powerful than delegation by inheritance. Delegation class also referred as wrapper class."
   ]
  },
  {
   "cell_type": "markdown",
   "id": "d5d3cd56",
   "metadata": {},
   "source": [
    "# Q3. What is the concept of composition?"
   ]
  },
  {
   "cell_type": "markdown",
   "id": "aaca1cdf",
   "metadata": {},
   "source": [
    "In the concept of Composition, a class refers to one or more other classes by using instances of those classes as a instance variable. Irrespective of inheritence in this approach all the parent class members are not inherited into child class, but only required methods from a class are used by using class instances."
   ]
  },
  {
   "cell_type": "code",
   "execution_count": 4,
   "id": "244bf040",
   "metadata": {},
   "outputs": [
    {
     "name": "stdout",
     "output_type": "stream",
     "text": [
      "Total Salary : 9600\n"
     ]
    }
   ],
   "source": [
    "class Salary:\n",
    "    def __init__(self,pay):\n",
    "        self.pay = pay\n",
    "    def get_total(self):\n",
    "        return self.pay*12\n",
    "    \n",
    "class Employee:\n",
    "    def __init__(self,pay,bonus):\n",
    "        self.pay = pay\n",
    "        self.bonus = bonus\n",
    "        self.obj_salary = Salary(self.pay)\n",
    "    def annual_salary(self):\n",
    "        return f'Total Salary : {str(self.obj_salary.get_total())}'\n",
    "\n",
    "obj_emp = Employee(800,500)\n",
    "print(obj_emp.annual_salary())"
   ]
  },
  {
   "cell_type": "markdown",
   "id": "a0bbda3e",
   "metadata": {},
   "source": [
    "# Q4. What are bound methods and how do we use them?"
   ]
  },
  {
   "cell_type": "markdown",
   "id": "ea1ad8c1",
   "metadata": {},
   "source": [
    "A bound method is the one which is dependent on the instance of the class as the first argument. It passes the instance as the first argument which is used to access the variables and functions. In Python 3 and newer versions of python, all functions in the class are by default bound methods.\n",
    "\n",
    "Methods in Python are like functions except that it is attached to an object.The methods are called on objects and it possibly make changes to that object. These methods can be Bound, Unbound or Static method. The static methods are one of the types of Unbound method. These types are explained in detail below.\n",
    "\n",
    "Bound methods\n",
    "\n",
    "If a function is an attribute of class and it is accessed via the instances, they are called bound methods. A bound method is one that has ‘self‘ as its first argument. Since these are dependent on the instance of classes, these are also known as instance methods.\n",
    "\n",
    "Need for these bound methods\n",
    "\n",
    "The methods inside the classes would take at least one argument. To make them zero-argument methods, ‘decorators‘ has to be used. Different instances of a class have different values associated with them.\n",
    "\n",
    "For example, if there is a class “Fruits”, and instances like apple, orange, mango are possible. Each instance may have different size, color, taste, and nutrients in it. Thus to alter any value for a specific instance, the method must have ‘self’ as an argument that allows it to alter only its property.\n",
    "\n",
    "The Bound methods are the methods defined in a class. The bound methods are bound to the class in which they are defined. They take an instance of their class along with the other arguments as its parameters. Bound methods differ from the other unbound methods in their first parameter. Bound methods’ first parameter must be the instance, whereas, for unbound methods, the parameters are optional. If the parameters exist, the first one can be of any type."
   ]
  },
  {
   "cell_type": "code",
   "execution_count": 5,
   "id": "2d341094",
   "metadata": {},
   "outputs": [
    {
     "name": "stdout",
     "output_type": "stream",
     "text": [
      "I'm a method bound to Class. Here is my Class's Reference: <__main__.Class object at 0x00000128E95BD490> Parameter: 10\n"
     ]
    }
   ],
   "source": [
    "class Class:\n",
    "    def boundMethod(self,param1):\n",
    "        print(\"I'm a method bound to Class. Here is my Class's Reference:\", self,'Parameter:',param1)\n",
    "instance = Class()\n",
    "instance.boundMethod(10) # same as Class.boundMethod(instance,10)"
   ]
  },
  {
   "cell_type": "markdown",
   "id": "e549d8df",
   "metadata": {},
   "source": [
    "If the first argument is skipped, Python will raise a TypeError:"
   ]
  },
  {
   "cell_type": "code",
   "execution_count": 6,
   "id": "0501d462",
   "metadata": {},
   "outputs": [
    {
     "ename": "TypeError",
     "evalue": "boundMethod() takes 0 positional arguments but 1 was given",
     "output_type": "error",
     "traceback": [
      "\u001b[1;31m---------------------------------------------------------------------------\u001b[0m",
      "\u001b[1;31mTypeError\u001b[0m                                 Traceback (most recent call last)",
      "\u001b[1;32m<ipython-input-6-935da217c92d>\u001b[0m in \u001b[0;36m<module>\u001b[1;34m\u001b[0m\n\u001b[0;32m      3\u001b[0m         \u001b[0mprint\u001b[0m\u001b[1;33m(\u001b[0m\u001b[1;34m\"I'm a method bound to Class\"\u001b[0m\u001b[1;33m)\u001b[0m\u001b[1;33m\u001b[0m\u001b[1;33m\u001b[0m\u001b[0m\n\u001b[0;32m      4\u001b[0m \u001b[0minstance\u001b[0m \u001b[1;33m=\u001b[0m \u001b[0mClass\u001b[0m\u001b[1;33m(\u001b[0m\u001b[1;33m)\u001b[0m\u001b[1;33m\u001b[0m\u001b[1;33m\u001b[0m\u001b[0m\n\u001b[1;32m----> 5\u001b[1;33m \u001b[0minstance\u001b[0m\u001b[1;33m.\u001b[0m\u001b[0mboundMethod\u001b[0m\u001b[1;33m(\u001b[0m\u001b[1;33m)\u001b[0m \u001b[1;31m# same as Class.boundMethod(instance)\u001b[0m\u001b[1;33m\u001b[0m\u001b[1;33m\u001b[0m\u001b[0m\n\u001b[0m",
      "\u001b[1;31mTypeError\u001b[0m: boundMethod() takes 0 positional arguments but 1 was given"
     ]
    }
   ],
   "source": [
    "class Class:\n",
    "    def boundMethod():\n",
    "        print(\"I'm a method bound to Class\")\n",
    "instance = Class()\n",
    "instance.boundMethod() # same as Class.boundMethod(instance)"
   ]
  },
  {
   "cell_type": "markdown",
   "id": "99ff3e8b",
   "metadata": {},
   "source": [
    "To fix the error, parameters and arguments have to be passed correctly. It can also be fixed using a @staticmethod decorator. If @staticmethod decorator is used, it becomes a static method, where instead of one method for an instance of a class, one method for the entire class would be created."
   ]
  },
  {
   "cell_type": "code",
   "execution_count": 7,
   "id": "2bee6340",
   "metadata": {},
   "outputs": [
    {
     "name": "stdout",
     "output_type": "stream",
     "text": [
      "I'm a method bound to Class, Parameter: 10\n"
     ]
    }
   ],
   "source": [
    "class Class:\n",
    "    @staticmethod\n",
    "    def boundMethod(param1):\n",
    "        print(\"I'm a method bound to Class,\",'Parameter:',param1)\n",
    "instance = Class()\n",
    "instance.boundMethod(10) # same as Class.boundMethod(10)"
   ]
  },
  {
   "cell_type": "code",
   "execution_count": 8,
   "id": "d2fe1d2f",
   "metadata": {},
   "outputs": [
    {
     "name": "stdout",
     "output_type": "stream",
     "text": [
      "Called method_one\n",
      "Called method_two\n",
      "Called method_two\n",
      "Called method_three\n"
     ]
    }
   ],
   "source": [
    "class Test:\n",
    "    def method_one(self): # bound method\n",
    "        print(\"Called method_one\")\n",
    "    @classmethod\n",
    "    def method_two(cls): # unbound method\n",
    "        print(\"Called method_two\")\n",
    "    @staticmethod\n",
    "    def method_three(): # static method\n",
    "        print(\"Called method_three\")\n",
    "\n",
    "test = Test()\n",
    "test.method_one() # accessing through instance object\n",
    "test.method_two() # accessing through instance object\n",
    "Test.method_two() # accessing directly through class\n",
    "Test.method_three() # accessing directly through class"
   ]
  },
  {
   "cell_type": "markdown",
   "id": "dc603b9a",
   "metadata": {},
   "source": [
    "# Q5. What is the purpose of pseudo-private attributes?"
   ]
  },
  {
   "cell_type": "markdown",
   "id": "5c7c394c",
   "metadata": {},
   "source": [
    "What is a pseudo-private attribute? \n",
    "\n",
    "In Python, there is no keyword like private to declare private methods or properties.\n",
    "\n",
    "To declare a private attribute in Python, you need to add a double underscore before the attribute (but there can be no double underscore at the end), such as self.__a. However, such a method is not really private, but \"pseudo-private.\"\n",
    "\n",
    "Python's pseudo-private attributes actually implement variable name localization through variable name compression (mangling). The rule of variable name compression: add an underscore to the head of the initial variable name, plus the name of the class, and finally the name of the initial variable name.\n",
    "\n",
    "Execute the following code to verify:"
   ]
  },
  {
   "cell_type": "code",
   "execution_count": 9,
   "id": "2839e75b",
   "metadata": {},
   "outputs": [
    {
     "name": "stdout",
     "output_type": "stream",
     "text": [
      "{'__module__': '__main__', '_A__func': <function A.__func at 0x00000128E9F238B0>, '__dict__': <attribute '__dict__' of 'A' objects>, '__weakref__': <attribute '__weakref__' of 'A' objects>, '__doc__': None}\n"
     ]
    }
   ],
   "source": [
    "class A(object):\n",
    "    def __func(self):pass\n",
    "\n",
    "if __name__ == '__main__':\n",
    "    print(A.__dict__)"
   ]
  },
  {
   "cell_type": "markdown",
   "id": "233f5f3c",
   "metadata": {},
   "source": [
    "We use the __dict__ attribute of the class to print out all the attributes of class A. From the printed results, we can find that: the originally defined pseudo-private attributes (methods): __func does not exist in __dict__, instead it is _A_func In this method, the variable name of the method __func is compressed.\n",
    "\n",
    "When the __func method of class A is called externally, it will prompt that it cannot be found. Modify the code for testing:"
   ]
  },
  {
   "cell_type": "code",
   "execution_count": 10,
   "id": "f5a35098",
   "metadata": {},
   "outputs": [
    {
     "ename": "AttributeError",
     "evalue": "'A' object has no attribute '__func'",
     "output_type": "error",
     "traceback": [
      "\u001b[1;31m---------------------------------------------------------------------------\u001b[0m",
      "\u001b[1;31mAttributeError\u001b[0m                            Traceback (most recent call last)",
      "\u001b[1;32m<ipython-input-10-03b5aa5e3b7f>\u001b[0m in \u001b[0;36m<module>\u001b[1;34m\u001b[0m\n\u001b[0;32m      4\u001b[0m \u001b[1;32mif\u001b[0m \u001b[0m__name__\u001b[0m \u001b[1;33m==\u001b[0m \u001b[1;34m'__main__'\u001b[0m\u001b[1;33m:\u001b[0m\u001b[1;33m\u001b[0m\u001b[1;33m\u001b[0m\u001b[0m\n\u001b[0;32m      5\u001b[0m     \u001b[0ma\u001b[0m \u001b[1;33m=\u001b[0m \u001b[0mA\u001b[0m\u001b[1;33m(\u001b[0m\u001b[1;33m)\u001b[0m\u001b[1;33m\u001b[0m\u001b[1;33m\u001b[0m\u001b[0m\n\u001b[1;32m----> 6\u001b[1;33m     \u001b[0ma\u001b[0m\u001b[1;33m.\u001b[0m\u001b[0m__func\u001b[0m\u001b[1;33m(\u001b[0m\u001b[1;33m)\u001b[0m\u001b[1;33m\u001b[0m\u001b[1;33m\u001b[0m\u001b[0m\n\u001b[0m",
      "\u001b[1;31mAttributeError\u001b[0m: 'A' object has no attribute '__func'"
     ]
    }
   ],
   "source": [
    "class A(object):\n",
    "    def __func(self):pass\n",
    "\n",
    "if __name__ == '__main__':\n",
    "    a = A()\n",
    "    a.__func()"
   ]
  },
  {
   "cell_type": "markdown",
   "id": "8ba29a2c",
   "metadata": {},
   "source": [
    "An exception occurs after running, prompting that A has no attribute __func, so as to achieve a function similar to a private attribute.\n",
    "\n",
    "It is said to be \"pseudo-private\" because after understanding the variable name compression rules of pseudo-private variables, it can be called according to the compression rules.\n",
    "\n",
    "Modify the code again to verify:"
   ]
  },
  {
   "cell_type": "code",
   "execution_count": 11,
   "id": "ad3d7db1",
   "metadata": {},
   "outputs": [
    {
     "name": "stdout",
     "output_type": "stream",
     "text": [
      "Hello Python\n"
     ]
    }
   ],
   "source": [
    "class A(object):\n",
    "    def __func(self):print('Hello Python')\n",
    "\n",
    "if __name__ == '__main__':\n",
    "    a = A()\n",
    "    a._A__func()"
   ]
  },
  {
   "cell_type": "markdown",
   "id": "e75dfa5d",
   "metadata": {},
   "source": [
    "The result of the operation is normal, and the string \"Hello Python\" is successfully printed."
   ]
  },
  {
   "cell_type": "markdown",
   "id": "86dc7dd7",
   "metadata": {},
   "source": [
    "Therefore, there are no existing private attributes in Python classes. The pseudo-private attributes implemented through double underscores essentially compress variable names so that they cannot be called directly from the outside. \n",
    "\n",
    "Why use pseudo-private attributes?\n",
    "\n",
    "The use of pseudo-private attributes is to avoid conflicts caused by multiple classes assigning the same attributes in the class tree.\n",
    "\n",
    "Suppose there are two classes, C1 and C2, they all have the same attribute X."
   ]
  },
  {
   "cell_type": "code",
   "execution_count": 12,
   "id": "00caa671",
   "metadata": {},
   "outputs": [
    {
     "name": "stdout",
     "output_type": "stream",
     "text": [
      "Hello World\n"
     ]
    }
   ],
   "source": [
    "class C1():\n",
    "    def meth1(self):\n",
    "        self.x = 'Hello World'\n",
    "    def meth2(self):\n",
    "        print(self.x)\n",
    "c1 = C1()\n",
    "c1.meth1()\n",
    "c1.meth2()"
   ]
  },
  {
   "cell_type": "code",
   "execution_count": 13,
   "id": "4700dc94",
   "metadata": {},
   "outputs": [
    {
     "name": "stdout",
     "output_type": "stream",
     "text": [
      "Hello Python\n"
     ]
    }
   ],
   "source": [
    "class C2():\n",
    "    def meth3(self):\n",
    "        self.x = 'Hello Python'\n",
    "    def meth4(self):\n",
    "        print(self.x)\n",
    "c2 = C2()\n",
    "c2.meth3()\n",
    "c2.meth4()"
   ]
  },
  {
   "cell_type": "markdown",
   "id": "bcfbba12",
   "metadata": {},
   "source": [
    "When the classes C1 and C2 are called individually, the output results are no problem and meet expectations: when the meth2 method is called, the assignment result of meth1 is printed; when the meth4 method is called, the assignment result of meth3 is printed.\n",
    "\n",
    "At this time, add a new class C3, inherited from C1, C2 (multiple inheritance):"
   ]
  },
  {
   "cell_type": "code",
   "execution_count": 14,
   "id": "adb2ae38",
   "metadata": {},
   "outputs": [
    {
     "name": "stdout",
     "output_type": "stream",
     "text": [
      "Hello Python\n",
      "Hello Python\n"
     ]
    }
   ],
   "source": [
    "class C1():\n",
    "    def meth1(self):\n",
    "        self.x = 'Hello World'\n",
    "    def meth2(self):\n",
    "        print(self.x)\n",
    "\n",
    "class C2():\n",
    "    def meth3(self):\n",
    "        self.x = 'Hello Python'\n",
    "    def meth4(self):\n",
    "        print(self.x)\n",
    "\n",
    "class C3(C1, C2):\n",
    "    pass\n",
    "\n",
    "c3 = C3()\n",
    "c3.meth1()\n",
    "c3.meth3()\n",
    "c3.meth2()\n",
    "c3.meth4()"
   ]
  },
  {
   "cell_type": "markdown",
   "id": "5128a4c4",
   "metadata": {},
   "source": [
    "It can be seen from the running results that the content of each print(self.x) depends on the content of the last assignment of self.x.\n",
    "\n",
    "In the sample code, first call c3.meth1() for assignment, the value of self.x is \"Hello World\", and then call c3.meth3() for assignment, the value of self.x is overwritten, and the current value is \" Hello Python\".\n",
    "\n",
    "When c3.meth2() is subsequently called to print the value of self.x, it actually prints the result of the last assignment, which in some cases is contrary to the original intention of the class: in C1, meth2 hopes to print The content assigned in meth1: \"Hello World\".\n",
    "\n",
    " \n",
    "\n",
    "After using pseudo-private attributes, the problem of mutual coverage of variable names self.x can be solved (because self.__x is compressed into self._C1__x and self._C2__x, variable names are different and will not cover each other):"
   ]
  },
  {
   "cell_type": "code",
   "execution_count": 15,
   "id": "d76fe6e9",
   "metadata": {},
   "outputs": [
    {
     "name": "stdout",
     "output_type": "stream",
     "text": [
      "Hello World\n",
      "Hello Python\n"
     ]
    }
   ],
   "source": [
    "class C1():\n",
    "    def meth1(self):\n",
    "        self.__x = 'Hello World'\n",
    "    def meth2(self):\n",
    "        print(self.__x)\n",
    "\n",
    "class C2():\n",
    "    def meth3(self):\n",
    "        self.__x = 'Hello Python'\n",
    "    def meth4(self):\n",
    "        print(self.__x)\n",
    "\n",
    "class C3(C1, C2):\n",
    "    pass\n",
    "\n",
    "c3 = C3()\n",
    "c3.meth1()\n",
    "c3.meth3()\n",
    "c3.meth2()\n",
    "c3.meth4()"
   ]
  },
  {
   "cell_type": "markdown",
   "id": "b914b725",
   "metadata": {},
   "source": [
    "The operation result is in line with the original intention of C1: when calling meth2, the assignment result of meth1 should be printed out."
   ]
  }
 ],
 "metadata": {
  "kernelspec": {
   "display_name": "Python 3",
   "language": "python",
   "name": "python3"
  },
  "language_info": {
   "codemirror_mode": {
    "name": "ipython",
    "version": 3
   },
   "file_extension": ".py",
   "mimetype": "text/x-python",
   "name": "python",
   "nbconvert_exporter": "python",
   "pygments_lexer": "ipython3",
   "version": "3.8.8"
  }
 },
 "nbformat": 4,
 "nbformat_minor": 5
}
