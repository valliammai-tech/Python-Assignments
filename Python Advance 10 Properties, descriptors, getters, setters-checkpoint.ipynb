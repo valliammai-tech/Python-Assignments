{
 "cells": [
  {
   "cell_type": "markdown",
   "id": "0953aa88",
   "metadata": {},
   "source": [
    "\n",
    "\n",
    "# Q1. What is the difference between __getattr__ and __getattribute__?"
   ]
  },
  {
   "cell_type": "markdown",
   "id": "94bcb3ac",
   "metadata": {},
   "source": [
    "A key difference between \\_\\_getattr\\_\\_ and \\_\\_getattribute__ is that \\_\\_getattr__ is only invoked if the attribute wasn't found the usual ways. It's good for implementing a fallback for missing attributes, and is probably the one of two you want.\n",
    "\n",
    "\\_\\_getattribute__ is invoked before looking at the actual attributes on the object, and so can be tricky to implement correctly. You can end up in infinite recursions very easily."
   ]
  },
  {
   "cell_type": "code",
   "execution_count": 2,
   "id": "f098dbbb",
   "metadata": {},
   "outputs": [
    {
     "name": "stdout",
     "output_type": "stream",
     "text": [
      "ace value\n",
      "hahaha-ace2\n",
      "{'ace': 'ace value'}\n"
     ]
    }
   ],
   "source": [
    "class A:\n",
    "    def __getattr__(self, name):\n",
    "        return ('hahaha-'+name)\n",
    "\n",
    "a = A()\n",
    "a.ace = 'ace value'\n",
    "\n",
    "print(a.ace)\n",
    "print(a.ace2)\n",
    "print(a.__dict__)"
   ]
  },
  {
   "cell_type": "code",
   "execution_count": 5,
   "id": "377d35b3",
   "metadata": {},
   "outputs": [
    {
     "name": "stdout",
     "output_type": "stream",
     "text": [
      "jajaja-ace\n",
      "jajaja-ace2\n",
      "jajaja-__dict__\n"
     ]
    }
   ],
   "source": [
    "class A:\n",
    "    def __getattr__(self, name):\n",
    "        return (\"hahaha-\"+name)\n",
    "    def __getattribute__(self,name):\n",
    "        return (\"jajaja-\"+name)\n",
    "\n",
    "a = A()\n",
    "a.ace = \"ace value\"\n",
    "\n",
    "print(a.ace)\n",
    "print(a.ace2)\n",
    "print(a.__dict__)"
   ]
  },
  {
   "cell_type": "markdown",
   "id": "c964ad8b",
   "metadata": {},
   "source": [
    "\n",
    "\n",
    "# Q2. What is the difference between properties and descriptors?"
   ]
  },
  {
   "cell_type": "markdown",
   "id": "cb1debc7",
   "metadata": {},
   "source": [
    "A descriptor is an object that:\n",
    "\n",
    "implements the Descriptor Protocol and                                                                                 \n",
    "is assigned to an attribute.                                                                                    \n",
    "In simple terms, the object needs to define any of the following methods:\n",
    "\n",
    "\\_\\_get__(self, instance, owner=None) -> value                                                                       \n",
    "\\_\\_set__(self, instance, value) -> None                                                                                \n",
    "\\_\\_delete__(self, instance) -> value"
   ]
  },
  {
   "cell_type": "markdown",
   "id": "c09eb2ba",
   "metadata": {},
   "source": [
    "Descriptor Example :\n",
    "\n",
    "In this Example a data descriptor sets and returns values normally and prints a message logging their access."
   ]
  },
  {
   "cell_type": "code",
   "execution_count": 7,
   "id": "db51e8a0",
   "metadata": {},
   "outputs": [
    {
     "name": "stdout",
     "output_type": "stream",
     "text": [
      "ValliforValli\n"
     ]
    }
   ],
   "source": [
    "class Descriptor(object):\n",
    "\n",
    "\tdef __init__(self, name =''):\n",
    "\t\tself.name = name\n",
    "\n",
    "\tdef __get__(self, obj, objtype):\n",
    "\t\treturn \"{}for{}\".format(self.name, self.name)\n",
    "\n",
    "\tdef __set__(self, obj, name):\n",
    "\t\tif isinstance(name, str):\n",
    "\t\t\tself.name = name\n",
    "\t\telse:\n",
    "\t\t\traise TypeError(\"Name should be string\")\n",
    "\t\t\n",
    "class GFG(object):\n",
    "\tname = Descriptor()\n",
    "\t\n",
    "g = GFG()\n",
    "g.name = \"Valli\"\n",
    "print(g.name)"
   ]
  },
  {
   "cell_type": "markdown",
   "id": "0a0cc0a3",
   "metadata": {},
   "source": [
    "<B>Creating a Descriptor using property() :</B>\n",
    "\n",
    "property(), it is easy to create a usable descriptor for any attribute. Syntax for creating property()\n",
    "\n",
    "property(fget=None, fset=None, fdel=None, doc=None)"
   ]
  },
  {
   "cell_type": "code",
   "execution_count": 10,
   "id": "71f97478",
   "metadata": {},
   "outputs": [
    {
     "name": "stdout",
     "output_type": "stream",
     "text": [
      "Getting value\n",
      "Valli\n",
      "Setting value to Valliammai\n",
      "Deleting value\n"
     ]
    }
   ],
   "source": [
    "# Python program to explain property() function\n",
    "\t\n",
    "# Alphabet class\n",
    "class Alphabet:\n",
    "\tdef __init__(self, value):\n",
    "\t\tself._value = value\n",
    "\t\t\t\n",
    "\t# getting the values\n",
    "\tdef getValue(self):\n",
    "\t\tprint('Getting value')\n",
    "\t\treturn self._value\n",
    "\t\t\t\n",
    "\t# setting the values\n",
    "\tdef setValue(self, value):\n",
    "\t\tprint('Setting value to ' + value)\n",
    "\t\tself._value = value\n",
    "\t\t\t\n",
    "\t# deleting the values\n",
    "\tdef delValue(self):\n",
    "\t\tprint('Deleting value')\n",
    "\t\tdel self._value\n",
    "\t\t\n",
    "\tvalue = property(getValue, setValue, delValue, )\n",
    "\t\n",
    "# passing the value\n",
    "x = Alphabet('Valli')\n",
    "print(x.value)\n",
    "\t\n",
    "x.value = 'Valliammai'\n",
    "\t\n",
    "del x.value"
   ]
  },
  {
   "cell_type": "markdown",
   "id": "fa70bfb7",
   "metadata": {},
   "source": [
    "<B>Creating a Descriptor using @property Decorator :</B>\n",
    "    \n",
    "In this we use the power of property decorators which are a combination of property type method and Python decorators."
   ]
  },
  {
   "cell_type": "code",
   "execution_count": 11,
   "id": "e3034b91",
   "metadata": {},
   "outputs": [
    {
     "name": "stdout",
     "output_type": "stream",
     "text": [
      "Getting value\n",
      "Peter\n",
      "Setting value to Diesel\n",
      "Deleting value\n"
     ]
    }
   ],
   "source": [
    "class Alphabet:\n",
    "\tdef __init__(self, value):\n",
    "\t\tself._value = value\n",
    "\t\t\t\n",
    "\t# getting the values\t\n",
    "\t@property\n",
    "\tdef value(self):\n",
    "\t\tprint('Getting value')\n",
    "\t\treturn self._value\n",
    "\t\t\t\n",
    "\t# setting the values\t\n",
    "\t@value.setter\n",
    "\tdef value(self, value):\n",
    "\t\tprint('Setting value to ' + value)\n",
    "\t\tself._value = value\n",
    "\t\t\t\n",
    "\t# deleting the values\n",
    "\t@value.deleter\n",
    "\tdef value(self):\n",
    "\t\tprint('Deleting value')\n",
    "\t\tdel self._value\n",
    "\t\n",
    "\t\n",
    "# passing the value\n",
    "x = Alphabet('Peter')\n",
    "print(x.value)\n",
    "\t\n",
    "x.value = 'Diesel'\n",
    "\t\n",
    "del x.value"
   ]
  },
  {
   "cell_type": "markdown",
   "id": "12e39a62",
   "metadata": {},
   "source": [
    "\n",
    "\n",
    "# Q3. What are the key differences in functionality between __getattr__ and __getattribute__, as well as properties and descriptors?"
   ]
  },
  {
   "cell_type": "markdown",
   "id": "c098722a",
   "metadata": {},
   "source": [
    "\\_\\_getattr__ is [only] invoked if the attribute is not defined in the instance and it was not found.\n",
    "\n",
    "\\_\\_getattribute__ is invoked before looking for the attribute in the object instance. It has precedence over \\_\\_getattr__"
   ]
  },
  {
   "cell_type": "markdown",
   "id": "d927937e",
   "metadata": {},
   "source": [
    "Descriptors allow us to intercept an instance's get/set/delete calls. If we omit the \\_\\_get__ or the \\_\\_delete__ we will be effectively removing such operation. Note that if you want to make the attribute read only, you should implement \\_\\_set__ and just pass."
   ]
  },
  {
   "cell_type": "code",
   "execution_count": null,
   "id": "1ac8c80f",
   "metadata": {},
   "outputs": [],
   "source": []
  }
 ],
 "metadata": {
  "kernelspec": {
   "display_name": "Python 3",
   "language": "python",
   "name": "python3"
  },
  "language_info": {
   "codemirror_mode": {
    "name": "ipython",
    "version": 3
   },
   "file_extension": ".py",
   "mimetype": "text/x-python",
   "name": "python",
   "nbconvert_exporter": "python",
   "pygments_lexer": "ipython3",
   "version": "3.8.8"
  }
 },
 "nbformat": 4,
 "nbformat_minor": 5
}
