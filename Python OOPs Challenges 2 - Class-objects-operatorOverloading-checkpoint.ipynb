{
 "cells": [
  {
   "cell_type": "markdown",
   "id": "7ded7455",
   "metadata": {},
   "source": [
    "# Q1. What is the relationship between classes and modules?"
   ]
  },
  {
   "cell_type": "markdown",
   "id": "6cfb1db0",
   "metadata": {},
   "source": [
    "Classes in python are templates for creating objects. They contain variables and functions which define the class objects. At the same time, modules are python programs that can be imported into another python program. Importing a module enables the usage of the module’s functions and variables into another program. Although modules and classes are very different, sometimes one may get confused between their functionalities."
   ]
  },
  {
   "cell_type": "markdown",
   "id": "3b7176b3",
   "metadata": {},
   "source": [
    "<u>Classes in Python</u>                                                                                                       \n",
    "Classes in python act as a blueprint based on which objects are created. Objects are the very basis for object-oriented programming. The objects are the real-world entities, and class acts as a template that defines those objects.                \n",
    "\n",
    "These real-world entities have behavior associated with them, and classes define that behavior. A class contains variables and functions which act on the objects.                                                                                   \n",
    "\n",
    "To define a class, we use the keyword class to do so. A class can be defined in the following manner:"
   ]
  },
  {
   "cell_type": "code",
   "execution_count": 2,
   "id": "74851895",
   "metadata": {},
   "outputs": [],
   "source": [
    "class class_name:\n",
    "    var = 'Class variable'\n",
    " \n",
    "    def class_function1(self):\n",
    "        #function1 body\n",
    "        pass"
   ]
  },
  {
   "cell_type": "markdown",
   "id": "135217a9",
   "metadata": {},
   "source": [
    "How we use a class?                                                                                                        \n",
    "For any object, when we want to define its functionalities, we include that inside the class. The functionalities are characteristics of that object. Let us understand the purpose behind building a class using an example.                      \n",
    "\n",
    "We shall define a class named ‘Person’ which will define characteristics of each person – such as name, age, and gender."
   ]
  },
  {
   "cell_type": "markdown",
   "id": "df10afe0",
   "metadata": {},
   "source": [
    "First, we define using the __init__() function – name, age, and gender variables for a given object. We accept four arguments – self, name, age, and gender.                                                                  \n",
    "\n",
    "When we do self.name = name, we are actually initializing the argument passed while creating the object to the object itself. It will bind the variable to the current instance of the class. Then, we have another function named ‘person_details()’, which prints the person’s characteristics. It accepts only one argument, which is self. \n",
    "\n",
    "We have defined two objects – person1 and person2. Here each person is the real-world entity we are defining using objects. Using the class, we are defining the characteristics of that object. Then, using each object, we are calling the person_details() object."
   ]
  },
  {
   "cell_type": "code",
   "execution_count": 3,
   "id": "2c2a1d6b",
   "metadata": {},
   "outputs": [
    {
     "name": "stdout",
     "output_type": "stream",
     "text": [
      "Person Name: Andrew \n",
      "Person Age: 34 \n",
      "Person Gender: Male\n",
      "\n",
      "Person Name: Liam \n",
      "Person Age: 21 \n",
      "Person Gender: Male\n",
      "\n"
     ]
    }
   ],
   "source": [
    "class Person:\n",
    " \n",
    "  def __init__(self,name,age,gender):\n",
    "    self.name = name\n",
    "    self.age = age\n",
    "    self.gender = gender\n",
    " \n",
    "  def person_details(self):\n",
    "    print(f'Person Name: {self.name} \\nPerson Age: {self.age} \\nPerson Gender: {self.gender}\\n')\n",
    " \n",
    "person1 = Person('Andrew',34, 'Male')\n",
    "person2 = Person('Liam', 21, 'Male')\n",
    " \n",
    "person1.person_details()\n",
    "person2.person_details()"
   ]
  },
  {
   "cell_type": "markdown",
   "id": "e2e4cc15",
   "metadata": {},
   "source": [
    "<B><u>Modules in Python</u></B>\n",
    "    \n",
    "Modules in Python are files with a .py extension using which we can reuse elements inside that file. When we create a python program, the program may contain inside it functions, variables, and even classes.\n",
    "\n",
    "If we want to reuse the same piece of function code or the same class, rewriting it would make our code redundant and repetitive. Instead, we can import that entire file as a module into another program.\n",
    "\n",
    "Doing so makes our code reusable and improves its readability. An entire project can then be broken down into smaller sections, and thus the code becomes more manageable."
   ]
  },
  {
   "cell_type": "markdown",
   "id": "9140d612",
   "metadata": {},
   "source": [
    "<B><U>Python Class vs Module</U></B>                                                                                   \n",
    "The difference between a class and a module in python is that a class is used to define a blueprint for a given object, whereas a module is used to reuse a given piece of code inside another program.\n",
    "\n",
    "A class can have its own instance, but a module cannot be instantiated. We use the ‘class’ keyword to define a class, whereas to use modules, we use the ‘import’ keyword. We can inherit a particular class and modify it using inheritance. But while using modules, it is simply a code containing variables, functions, and classes.\n",
    "\n",
    "Modules are files present inside a package, whereas a class is used to encapsulate data and functions together inside the same unit."
   ]
  },
  {
   "cell_type": "markdown",
   "id": "18a2ad7d",
   "metadata": {},
   "source": [
    "\n",
    "# Q2. How do you make instances and classes?"
   ]
  },
  {
   "cell_type": "markdown",
   "id": "e7ebd2ce",
   "metadata": {},
   "source": [
    "Unlike C++, classes in Python are objects in their own right, even without instances. They are just self-contained namespaces. Therefore, as long as we have a reference to a class, we can set or change its attributes anytime we want.                      \n",
    "\n",
    "Defining Classes                                                                                                  \n",
    "The following statement makes a class with no attributes attached, and in fact, it's an empty namespace object:"
   ]
  },
  {
   "cell_type": "code",
   "execution_count": 4,
   "id": "81980588",
   "metadata": {},
   "outputs": [],
   "source": [
    "class Student: \n",
    "    pass"
   ]
  },
  {
   "cell_type": "markdown",
   "id": "c285cfb7",
   "metadata": {},
   "source": [
    "The name of this class is Student, and it doesn't inherit from any other class. Class names are usually capitalized, but this is only a convention, not a requirement. Everything in a class is indented, just like the code within a function, if statement, for loop, or any other block of code. The first line not indented is outside the class.\n",
    "\n",
    "In the code, the pass is the no-operation statement. This Student class doesn't define any methods or attributes, but syntactically, there needs to be something in the definition, thus the pass statement. This is a Python reserved word that just means move along, nothing to see here. It's a statement that does nothing, and it's a good placeholder when we're stubbing out functions or classes. The pass statement in Python is like an empty set of curly braces {} in Java or C."
   ]
  },
  {
   "cell_type": "code",
   "execution_count": 7,
   "id": "f01986a1",
   "metadata": {},
   "outputs": [],
   "source": [
    "Student.name = \"Valli\"\n",
    "Student.id = 20001"
   ]
  },
  {
   "cell_type": "markdown",
   "id": "cef98669",
   "metadata": {},
   "source": [
    "Then, we attached attributes to the class by assigning name to it outside of the class. In this case, the class is basically an objec with field names attached to it."
   ]
  },
  {
   "cell_type": "code",
   "execution_count": 8,
   "id": "03047e8e",
   "metadata": {},
   "outputs": [
    {
     "name": "stdout",
     "output_type": "stream",
     "text": [
      "Valli\n"
     ]
    }
   ],
   "source": [
    "print(Student.name)"
   ]
  },
  {
   "cell_type": "markdown",
   "id": "f8d85e7d",
   "metadata": {},
   "source": [
    "Note that this is working even though there are no instances of the class yet."
   ]
  },
  {
   "cell_type": "markdown",
   "id": "1e672b46",
   "metadata": {},
   "source": [
    "The __init__() method                                                                                                        \n",
    "Many classes are inherited from other classes, but the one in the example is not. Many classes define methods, but this one does not. There is nothing that a Python class absolutely must have, other than a name. In particular, C++ programmers may find it odd that Python classes don't have explicit constructors and destructors. Although it's not required, Python classes can have something similar to a constructor: the __init__() method.\n",
    "\n",
    "In Python, objects are created in two steps:                                                                                \n",
    "\n",
    "Constructs an object                                                                               \n",
    "__new()__                                                                                                         \n",
    "Initializes the object                                                                                            \n",
    "__init()__                                                                                                                   \n",
    "However, it's very rare to actually need to implement __new()__ because Python constructs our objects for us. So, in most of the cases, we usually only implement the special method, __init()__.                                                    \n",
    "\n",
    "Let's create a class that stores a string and a number:                      "
   ]
  },
  {
   "cell_type": "code",
   "execution_count": 12,
   "id": "1c3ca88f",
   "metadata": {},
   "outputs": [],
   "source": [
    "class Student(object):\n",
    "    '''Classes can (and should) have docstrings too, just like modules and functions'''\n",
    "    def __init__(self, name, id = 20001):\n",
    "        self.name = name\n",
    "        self.id = id"
   ]
  },
  {
   "cell_type": "markdown",
   "id": "3c87018e",
   "metadata": {},
   "source": [
    "When a def appears inside a class, it is usually known as a method. It automatically receives a special first argument, self, that provides a handle back to the instance to be processed. Methods with two underscores at the start and end of names are special methods.\n",
    "\n",
    "The __init__() method is called immediately after an instance of the class is created. It would be tempting to call this the constructor of the class. It's really tempting, because it looks like a C++ constructor, and by convention, the __init__() method is the first method defined for the class. It appears to be acting like a constructor because it's the first piece of code executed in a newly created instance of the class. However, it's not like a constructor, because the object has already been constructed by the time the __init()__ method is called, and we already have a valid reference to the new instance of the class.                                                                                                                 \n",
    "\n",
    "The first parameter of __init()__ method, self, is equivalent to this of C++. Though we do not have to pass it since Python will do it for us, we must put self as the first parameter of nonstatic methods. But the self is always explicit in Python to make attribute access more obvious.\n",
    "\n",
    "The self is always a reference to the current instance of the class. Though this argument fills the role of the reserved word this in c++ or Java, but self is not a reserved word in Python, merely a naming convention. Nonetheless, please don't call it anything but self; this is a very strong convention.\n",
    "\n",
    "When a method assigns to a self attribute, it creates an attribute in an instance because self refers to the instance being processed.\n",
    "\n",
    "Instantiating classes\n",
    "\n",
    "To instantiate a class, simply call the class as if it were a function, passing the arguments that the __init__() method requires. The return value will be the newly created object. In Python, there is no explicit new operator like there is in c++ or Java. So, we simply call a class as if it were a function to create a new instance of the class:\n",
    "\n",
    "s = Student(args)\n",
    "\n",
    "We are creating an instance of the Student class and assigning the newly created instance to the variable s. We are passing one parameter, args, which will end up as the argument in Student's __init__() method.\n",
    "\n",
    "s is now an instance of the Student class. Every class instance has a built-in attribute, __class__, which is the object's class.\n",
    "\n"
   ]
  },
  {
   "cell_type": "markdown",
   "id": "4edaa3f6",
   "metadata": {},
   "source": [
    "We can access the instance's docstring just as with a function or a module. All instances of a class share the same docstring.\n",
    "\n",
    "We can use the Student class defined above as following:\n",
    "    \n",
    "studentA = Student(\"Jack\")\n",
    "studentB = Student(\"Judy\", 10005)\n",
    "\n",
    "Unlike C++, the attributes of Python object are public, we can access them using the dot(.) operator:\n",
    "\n",
    "studentA.name\n",
    "'Jack'\n",
    "\n",
    "studentB.id\n",
    "10005\n",
    "\n",
    "We can also assign a new value to the attribute:\n",
    "\n",
    "studentB.id = 80001\n",
    "studentB.id\n",
    "80001\n",
    "\n",
    "How about the object destruction?                                                                                           \n",
    "Python has automatic garbage collection. Actually, when an object is about to be garbage-collected, its __del()__ method is called, with self as its only argument. But we rarely use this method.\n",
    "\n"
   ]
  },
  {
   "cell_type": "markdown",
   "id": "e800acce",
   "metadata": {},
   "source": [
    "<b><u>Instance vairables</u></b>\n",
    "\n",
    "Let's look at another example:"
   ]
  },
  {
   "cell_type": "code",
   "execution_count": 19,
   "id": "813fc2e8",
   "metadata": {},
   "outputs": [],
   "source": [
    "class Student:\n",
    "    def __init__(self, id):\n",
    "        self.id = id\n",
    "    def setData(self, value):\n",
    "        self.data = value\n",
    "    def display(self):\n",
    "        print(self.data)"
   ]
  },
  {
   "cell_type": "markdown",
   "id": "a78ee0da",
   "metadata": {},
   "source": [
    "What is self.id?                                                                                                       \n",
    "It's an instance variable. It is completely separate from id, which was passed into the __init__() method as an argument. self.id is global to the instance. That means that we can access it from other methods. Instance variables are specific to one instance of a class. For example, if we create two Student instances with different id values, they will each remember their own values."
   ]
  },
  {
   "cell_type": "markdown",
   "id": "8d9f2441",
   "metadata": {},
   "source": [
    "\n",
    "# Q3. Where and how should be class attributes created?"
   ]
  },
  {
   "cell_type": "markdown",
   "id": "682b640d",
   "metadata": {},
   "source": [
    "Class attributes belong to the class itself they will be shared by all the instances. Such attributes are defined in the class body parts usually at the top, for legibility."
   ]
  },
  {
   "cell_type": "code",
   "execution_count": 20,
   "id": "70a34526",
   "metadata": {},
   "outputs": [
    {
     "name": "stdout",
     "output_type": "stream",
     "text": [
      "1\n",
      "2\n",
      "2\n"
     ]
    }
   ],
   "source": [
    "# Write Python code here\n",
    "class sampleclass:\n",
    "    count = 0     # class attribute\n",
    "  \n",
    "    def increase(self):\n",
    "        sampleclass.count += 1\n",
    "  \n",
    "# Calling increase() on an object\n",
    "s1 = sampleclass()\n",
    "s1.increase()        \n",
    "print(s1.count)\n",
    "  \n",
    "# Calling increase on one more\n",
    "# object\n",
    "s2 = sampleclass()\n",
    "s2.increase()\n",
    "print(s2.count)\n",
    "  \n",
    "print(sampleclass.count)"
   ]
  },
  {
   "cell_type": "markdown",
   "id": "d19ec714",
   "metadata": {},
   "source": [
    "\n",
    "# Q4. Where and how are instance attributes created?"
   ]
  },
  {
   "cell_type": "markdown",
   "id": "39ace4b0",
   "metadata": {},
   "source": [
    "Unlike class attributes, instance attributes are not shared by objects. Every object has its own copy of the instance attribute (In case of class attributes all object refer to single copy).\n",
    "\n",
    "To list the attributes of an instance/object, we have two functions:-\n",
    "1. vars()– This function displays the attribute of an instance in the form of an dictionary.\n",
    "2. dir()– This function displays more attributes than vars function,as it is not limited to instance. It displays the class attributes as well. It also displays the attributes of its ancestor classes."
   ]
  },
  {
   "cell_type": "code",
   "execution_count": 21,
   "id": "22fd53aa",
   "metadata": {},
   "outputs": [
    {
     "name": "stdout",
     "output_type": "stream",
     "text": [
      "Dictionary form : {'name': 'xyz', 'salary': 4000}\n",
      "['__class__', '__delattr__', '__dict__', '__dir__', '__doc__', '__eq__', '__format__', '__ge__', '__getattribute__', '__gt__', '__hash__', '__init__', '__init_subclass__', '__le__', '__lt__', '__module__', '__ne__', '__new__', '__reduce__', '__reduce_ex__', '__repr__', '__setattr__', '__sizeof__', '__str__', '__subclasshook__', '__weakref__', 'name', 'salary', 'show']\n"
     ]
    }
   ],
   "source": [
    "# Python program to demonstrate\n",
    "# instance attributes.\n",
    "class emp:\n",
    "    def __init__(self):\n",
    "        self.name = 'xyz'\n",
    "        self.salary = 4000\n",
    "  \n",
    "    def show(self):\n",
    "        print(self.name)\n",
    "        print(self.salary)\n",
    "  \n",
    "e1 = emp()\n",
    "print(\"Dictionary form :\", vars(e1))\n",
    "print(dir(e1))"
   ]
  },
  {
   "cell_type": "markdown",
   "id": "9f6479c3",
   "metadata": {},
   "source": [
    "\n",
    "# Q5. What does the term &quot;self&quot; in a Python class mean?"
   ]
  },
  {
   "cell_type": "markdown",
   "id": "dd4f4b88",
   "metadata": {},
   "source": [
    "self represents the instance of the class. By using the “self”  we can access the attributes and methods of the class in python. It binds the attributes with the given arguments."
   ]
  },
  {
   "cell_type": "markdown",
   "id": "e9ba1137",
   "metadata": {},
   "source": [
    "\n",
    "# Q6. How does a Python class handle operator overloading?"
   ]
  },
  {
   "cell_type": "markdown",
   "id": "c553ae9d",
   "metadata": {},
   "source": [
    "Operator Overloading means giving extended meaning beyond their predefined operational meaning. For example operator + is used to add two integers as well as join two strings and merge two lists. It is achievable because ‘+’ operator is overloaded by int class and str class. You might have noticed that the same built-in operator or function shows different behavior for objects of different classes, this is called Operator Overloading. "
   ]
  },
  {
   "cell_type": "code",
   "execution_count": 23,
   "id": "b826c7c6",
   "metadata": {},
   "outputs": [
    {
     "name": "stdout",
     "output_type": "stream",
     "text": [
      "3\n",
      "Valliammai\n",
      "12\n",
      "ValliValliValliValli\n"
     ]
    }
   ],
   "source": [
    "# Python program to show use of\n",
    "# + operator for different purposes.\n",
    " \n",
    "print(1 + 2)\n",
    " \n",
    "# concatenate two strings\n",
    "print(\"Valli\"+\"ammai\")\n",
    " \n",
    "# Product two numbers\n",
    "print(3 * 4)\n",
    " \n",
    "# Repeat the String\n",
    "print(\"Valli\"*4)"
   ]
  },
  {
   "cell_type": "markdown",
   "id": "84b668b8",
   "metadata": {},
   "source": [
    "How to overload the operators in Python?                    \n",
    "\n",
    "Consider that we have two objects which are a physical representation of a class (user-defined data type) and we have to add two objects with binary ‘+’ operator it throws an error, because compiler don’t know how to add two objects. So we define a method for an operator and that process is called operator overloading. We can overload all existing operators but we can’t create a new operator. To perform operator overloading, Python provides some special function or magic function that is automatically invoked when it is associated with that particular operator. For example, when we use + operator, the magic method __add__ is automatically invoked in which the operation for + operator is defined.\n",
    "\n",
    "<u>Overloading binary + operator in Python :</u>\n",
    "\n",
    "When we use an operator on user defined data types then automatically a special function or magic function associated with that operator is invoked. Changing the behavior of operator is as simple as changing the behavior of method or function. You define methods in your class and operators work according to that behavior defined in methods. When we use + operator, the magic method __add__ is automatically invoked in which the operation for + operator is defined. There by changing this magic method’s code, we can give extra meaning to the + operator. "
   ]
  },
  {
   "cell_type": "code",
   "execution_count": 25,
   "id": "3ccbbe60",
   "metadata": {},
   "outputs": [
    {
     "name": "stdout",
     "output_type": "stream",
     "text": [
      "3\n",
      "Valliammai\n"
     ]
    }
   ],
   "source": [
    "# Python Program illustrate how\n",
    "# to overload an binary + operator\n",
    " \n",
    "class A:\n",
    "    def __init__(self, a):\n",
    "        self.a = a\n",
    " \n",
    "    # adding two objects\n",
    "    def __add__(self, o):\n",
    "        return self.a + o.a\n",
    "ob1 = A(1)\n",
    "ob2 = A(2)\n",
    "ob3 = A(\"Valli\")\n",
    "ob4 = A(\"ammai\")\n",
    " \n",
    "print(ob1 + ob2)\n",
    "print(ob3 + ob4)"
   ]
  },
  {
   "cell_type": "code",
   "execution_count": 26,
   "id": "d3989abf",
   "metadata": {},
   "outputs": [
    {
     "name": "stdout",
     "output_type": "stream",
     "text": [
      "(3, 5)\n"
     ]
    }
   ],
   "source": [
    "# Python Program to perform addition\n",
    "# of two complex numbers using binary\n",
    "# + operator overloading.\n",
    " \n",
    "class complex:\n",
    "    def __init__(self, a, b):\n",
    "        self.a = a\n",
    "        self.b = b\n",
    " \n",
    "     # adding two objects\n",
    "    def __add__(self, other):\n",
    "        return self.a + other.a, self.b + other.b\n",
    " \n",
    "Ob1 = complex(1, 2)\n",
    "Ob2 = complex(2, 3)\n",
    "Ob3 = Ob1 + Ob2\n",
    "print(Ob3)"
   ]
  },
  {
   "cell_type": "markdown",
   "id": "5a897cf1",
   "metadata": {},
   "source": [
    "Overloading comparison operators in Python : "
   ]
  },
  {
   "cell_type": "code",
   "execution_count": 27,
   "id": "2a1d1263",
   "metadata": {},
   "outputs": [
    {
     "name": "stdout",
     "output_type": "stream",
     "text": [
      "ob2 is greater than ob1\n"
     ]
    }
   ],
   "source": [
    "# Python program to overload\n",
    "# a comparison operators\n",
    " \n",
    "class A:\n",
    "    def __init__(self, a):\n",
    "        self.a = a\n",
    "    def __gt__(self, other):\n",
    "        if(self.a>other.a):\n",
    "            return True\n",
    "        else:\n",
    "            return False\n",
    "ob1 = A(2)\n",
    "ob2 = A(3)\n",
    "if(ob1>ob2):\n",
    "    print(\"ob1 is greater than ob2\")\n",
    "else:\n",
    "    print(\"ob2 is greater than ob1\")"
   ]
  },
  {
   "cell_type": "markdown",
   "id": "f1516791",
   "metadata": {},
   "source": [
    "Overloading equality and less than operators : "
   ]
  },
  {
   "cell_type": "code",
   "execution_count": 28,
   "id": "1335fd9f",
   "metadata": {},
   "outputs": [
    {
     "name": "stdout",
     "output_type": "stream",
     "text": [
      "ob1 is lessthan ob2\n"
     ]
    }
   ],
   "source": [
    "# Python program to overload equality\n",
    "# and less than operators\n",
    " \n",
    "class A:\n",
    "    def __init__(self, a):\n",
    "        self.a = a\n",
    "    def __lt__(self, other):\n",
    "        if(self.a<other.a):\n",
    "            return \"ob1 is lessthan ob2\"\n",
    "        else:\n",
    "            return \"ob2 is less than ob1\"\n",
    "    def __eq__(self, other):\n",
    "        if(self.a == other.a):\n",
    "            return \"Both are equal\"\n",
    "        else:\n",
    "            return \"Not equal\"\n",
    "                 \n",
    "ob1 = A(2)\n",
    "ob2 = A(3)\n",
    "print(ob1 < ob2)"
   ]
  },
  {
   "cell_type": "markdown",
   "id": "154632f1",
   "metadata": {},
   "source": [
    "Note: It is not possible to change the number of operands of an operator. For ex. you cannot overload a unary operator as a binary operator. The following code will throw a syntax error."
   ]
  },
  {
   "cell_type": "code",
   "execution_count": 29,
   "id": "fb6c20a6",
   "metadata": {},
   "outputs": [
    {
     "ename": "SyntaxError",
     "evalue": "invalid syntax (<ipython-input-29-e3af4760b719>, line 15)",
     "output_type": "error",
     "traceback": [
      "\u001b[1;36m  File \u001b[1;32m\"<ipython-input-29-e3af4760b719>\"\u001b[1;36m, line \u001b[1;32m15\u001b[0m\n\u001b[1;33m    print(ob1~ob2)\u001b[0m\n\u001b[1;37m             ^\u001b[0m\n\u001b[1;31mSyntaxError\u001b[0m\u001b[1;31m:\u001b[0m invalid syntax\n"
     ]
    }
   ],
   "source": [
    "# Python program which attempts to\n",
    "# overload ~ operator as binary operator\n",
    " \n",
    "class A:\n",
    "    def __init__(self, a):\n",
    "        self.a = a\n",
    " \n",
    "    # Overloading ~ operator, but with two operands\n",
    "    def __invert__(self, other):\n",
    "        return \"This is the ~ operator, overloaded as binary operator.\"\n",
    "    \n",
    "ob1 = A(2)\n",
    "ob2 = A(3)\n",
    " \n",
    "print(ob1~ob2)"
   ]
  },
  {
   "cell_type": "markdown",
   "id": "d9e28647",
   "metadata": {},
   "source": [
    "\n",
    "# Q7. When do you consider allowing operator overloading of your classes?"
   ]
  },
  {
   "cell_type": "markdown",
   "id": "9d4a6cca",
   "metadata": {},
   "source": [
    "The operator overloading assign new functionality to existing operators so that they do what you want. Operator overloading lets objects coded with classes intercept and respond to operations that work on built-in types: addition, subtraction, multiplication, slicing, comparision and so on.\n",
    "\n",
    "Using this special method, you will be able to change the built-in behavior of the operator such as: +, -, /, or *. This special method is surrounded by double underscores (__).\n",
    "\n",
    "It needs to be considered when we need to change the built-ib behavior of the operators."
   ]
  },
  {
   "cell_type": "code",
   "execution_count": 30,
   "id": "088f6958",
   "metadata": {},
   "outputs": [
    {
     "name": "stdout",
     "output_type": "stream",
     "text": [
      "10\n",
      "314.1592653589793\n",
      "15\n",
      "314.1592653589793\n",
      "25\n",
      "5\n",
      "150\n",
      "True\n",
      "False\n"
     ]
    }
   ],
   "source": [
    "import math\n",
    " \n",
    "class Circle:\n",
    " \n",
    "    def __init__(self, radius):\n",
    "        self.radius = radius\n",
    " \n",
    "    def get_result(self):\n",
    "        return self.radius\n",
    " \n",
    "    def area(self):\n",
    "        return math.pi * self.radius ** 2\n",
    " \n",
    "    def __add__(self, another_circle):\n",
    "        return Circle(self.radius + another_circle.radius)\n",
    " \n",
    "    def __sub__(self, another_circle):\n",
    "        return Circle(self.radius - another_circle.radius)\n",
    " \n",
    "    def __mul__(self, another_circle):\n",
    "        return Circle(self.radius * another_circle.radius)\n",
    " \n",
    "    def __gt__(self, another_circle):\n",
    "        return Circle(self.radius > another_circle.radius)\n",
    " \n",
    "    def __lt__(self, another_circle):\n",
    "        return Circle(self.radius < another_circle.radius)\n",
    " \n",
    "    def __ge__(self, another_circle):\n",
    "        return Circle(self.radius >= another_circle.radius)\n",
    " \n",
    "    def __le__(self, another_circle):\n",
    "        return Circle(self.radius <= another_circle.radius)\n",
    " \n",
    "    def __eq__(self, another_circle):\n",
    "        return Circle(self.radius == another_circle.radius)\n",
    " \n",
    "    def __ne__(self, another_circle):\n",
    "        return Circle(self.radius != another_circle.radius)\n",
    " \n",
    " \n",
    "c1 = Circle(10)\n",
    "print(c1.get_result())\n",
    "print(c1.area())\n",
    " \n",
    "c2 = Circle(15)\n",
    "print(c2.get_result())\n",
    "print(c1.area())\n",
    " \n",
    "c3 = c1 + c2\n",
    "print(c3.get_result())\n",
    " \n",
    "c3 = c2 - c1\n",
    "print(c3.get_result())\n",
    " \n",
    "c4 = c1 * c2\n",
    "print(c4.get_result())\n",
    " \n",
    "c5 = c1 < c2\n",
    "print(c5.get_result())\n",
    " \n",
    "c5 = c2 < c1\n",
    "print(c5.get_result())"
   ]
  },
  {
   "cell_type": "markdown",
   "id": "a4077892",
   "metadata": {},
   "source": [
    "\n",
    "# Q8. What is the most popular form of operator overloading?"
   ]
  },
  {
   "cell_type": "markdown",
   "id": "8e1231a5",
   "metadata": {},
   "source": [
    "1) Plus operator overload\n",
    "2) Multiplication operator overload\n",
    "3) Greater than and Less than Operator Overloaded\n",
    "4) Equal to Operator Overloaded"
   ]
  },
  {
   "cell_type": "markdown",
   "id": "e4ea1278",
   "metadata": {},
   "source": [
    "\n",
    "# Q9. What are the two most important concepts to grasp in order to comprehend Python OOP code?"
   ]
  },
  {
   "cell_type": "markdown",
   "id": "f5642846",
   "metadata": {},
   "source": [
    "encapsulation, inheritance, polymorphism, abstraction and object association"
   ]
  }
 ],
 "metadata": {
  "kernelspec": {
   "display_name": "Python 3",
   "language": "python",
   "name": "python3"
  },
  "language_info": {
   "codemirror_mode": {
    "name": "ipython",
    "version": 3
   },
   "file_extension": ".py",
   "mimetype": "text/x-python",
   "name": "python",
   "nbconvert_exporter": "python",
   "pygments_lexer": "ipython3",
   "version": "3.8.8"
  }
 },
 "nbformat": 4,
 "nbformat_minor": 5
}
