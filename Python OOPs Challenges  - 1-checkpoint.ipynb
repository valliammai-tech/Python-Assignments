{
 "cells": [
  {
   "cell_type": "markdown",
   "id": "7466c101",
   "metadata": {},
   "source": [
    "# Q1. What is the purpose of Python&#39;s OOP?"
   ]
  },
  {
   "cell_type": "markdown",
   "id": "1f0281e7",
   "metadata": {},
   "source": [
    "Object-oriented programming is a way in Python to deal with the problem using objects.                                   \n",
    "The objects are bound together to perform a real-world solution.                                                      \n",
    "You need to use the OOP in Python to solve a complex problem.\n",
    "For example, you need to trace the breed, age and colour of the thousands of dogs. It’s hard to trace.\n",
    "In that case, you can use Object-oriented programming in Python.\n",
    "\n",
    "OOP will create many objects for the breed and the ages of the dog.\n",
    "To trace every property of a dog it’s easy to do."
   ]
  },
  {
   "cell_type": "markdown",
   "id": "0975fa30",
   "metadata": {},
   "source": [
    "you can use the OOP in the Python with help of its components.                                                     \n",
    "Here are components of the OOP in Python:                                                                            \n",
    "• object                                                                                                        \n",
    "• class                                                                                                               \n",
    "• Encapsulation                                                                                                       \n",
    "• polymorphism                                                                                                             \n",
    "• Inheritance"
   ]
  },
  {
   "cell_type": "markdown",
   "id": "2ac85efb",
   "metadata": {},
   "source": [
    "1. <u>object</u>                                                                                                      \n",
    "Objects in Python using to create a variable or entity that holds different values.                                      \n",
    "For example,"
   ]
  },
  {
   "cell_type": "code",
   "execution_count": 2,
   "id": "5686d5f4",
   "metadata": {},
   "outputs": [
    {
     "name": "stdout",
     "output_type": "stream",
     "text": [
      "30\n"
     ]
    }
   ],
   "source": [
    "class Myclass():     \n",
    "    age = 30    \n",
    "\n",
    "# Creating the object to call the age of the Person   \n",
    "# P is an object     \n",
    "P = Myclass()     \n",
    "print(P.age)"
   ]
  },
  {
   "cell_type": "markdown",
   "id": "46da3fbc",
   "metadata": {},
   "source": [
    "2. <u>class</u>                                                                                            \n",
    "You can define the class using the class keyword. class is a blueprint of the objects.                                        \n",
    "For example, a building has a blueprint    that is the design of the building. In that design, you can build the building.        You can define the class using the class keyword.      "
   ]
  },
  {
   "cell_type": "markdown",
   "id": "981feecc",
   "metadata": {},
   "source": [
    "3. <u>Encapsulation in Python</u>                                                                                               \n",
    "Encapsulation is a way in OOP to bundle unit the data in one unit. \n",
    "For example, when you’re creating a building you’re making it with bundling using the blueprint.                                \n",
    "That means the class is a single unit that binds the data together.                                                            \n",
    "For example,                         "
   ]
  },
  {
   "cell_type": "code",
   "execution_count": 4,
   "id": "6d13a522",
   "metadata": {},
   "outputs": [
    {
     "name": "stdout",
     "output_type": "stream",
     "text": [
      "Name is Valli\n"
     ]
    }
   ],
   "source": [
    "class employee:     \n",
    "    def __init__(self, name):   \n",
    "        # creating a variable that’ll hold the value.       \n",
    "        self.name = name    \n",
    "\n",
    "    def show(self):     \n",
    "        print(\"Name is\",self.name)      \n",
    "\n",
    "# Creating a object of the class     \n",
    "emp = employee(\"Valli\")      \n",
    "emp.show()"
   ]
  },
  {
   "cell_type": "markdown",
   "id": "379e055c",
   "metadata": {},
   "source": [
    "In the above example, you can see that data can only access using the class.                                                 \n",
    "\n",
    "The outside of the class you can’t access it.                                                                              \n",
    "That’s the use of encapsulation.                                                                                              "
   ]
  },
  {
   "cell_type": "markdown",
   "id": "f2826c67",
   "metadata": {},
   "source": [
    "4. <u>Polymorphism in Python OOP</u>                                                                                           \n",
    "Polymorphism means many form of the one function. That means using the one same function name in different classes.   "
   ]
  },
  {
   "cell_type": "code",
   "execution_count": 6,
   "id": "ada95031",
   "metadata": {},
   "outputs": [
    {
     "name": "stdout",
     "output_type": "stream",
     "text": [
      "Tesla\n",
      "Red\n",
      "Air india\n",
      "white\n"
     ]
    }
   ],
   "source": [
    "class car():    \n",
    "     def type(self):    \n",
    "       print(\"Tesla\")    \n",
    "\n",
    "     def color(self):    \n",
    "       print(\"Red\")   \n",
    "\n",
    "class Airways():   \n",
    "     def type(self):   \n",
    "       print(\"Air india\")  \n",
    "\n",
    "     def color(self):   \n",
    "       print(\"white\")   \n",
    "\n",
    "def func(obj): \n",
    "       obj.type() \n",
    "       obj.color()  \n",
    "\n",
    "obj_car = car() \n",
    "obj_airways = Airways()   \n",
    "\n",
    "func(obj_car) \n",
    "func(obj_airways)\n"
   ]
  },
  {
   "cell_type": "markdown",
   "id": "88d99863",
   "metadata": {},
   "source": [
    "So, In the above example, you can see that I’ve called the different classes with the same function name.\n",
    "In polymorphism, you can use the same function name with different classes."
   ]
  },
  {
   "cell_type": "markdown",
   "id": "aed7de49",
   "metadata": {},
   "source": [
    "5. <u>Inheritance in the Python</u>                                                                                            \n",
    "You can use inheritance to inherit some properties from the base class.                                                        \n",
    "Inheritance uses two classes. First-class is a Parent class and the second class is a child class.                              \n",
    "Using inheritance you can inherit the properties of the parent into the child class.                                            \n",
    "So, what are the benefits of Python inheritance?                                                                              \n",
    "\n",
    "Python inheritance allows you to                                                                                               \n",
    "• reuse the code                                                                                                            \n",
    "• access the different properties on the child class                                                                            \n",
    "• No need to define the same properties for the different class                                                               \n",
    "• You don’t need to change the parent class for the new class                                                                 \n",
    "\n",
    "Let’s see the example of the Python inheritance."
   ]
  },
  {
   "cell_type": "code",
   "execution_count": 8,
   "id": "ca85bcab",
   "metadata": {},
   "outputs": [
    {
     "name": "stdout",
     "output_type": "stream",
     "text": [
      "Geek1\n",
      "Geek2 True\n"
     ]
    }
   ],
   "source": [
    "# A Python program to prove inheritance    \n",
    "# Base or Superclass. Note object in the bracket.  \n",
    "# (Generally, the object is made the ancestor of all classes)   \n",
    "# In Python 3.x \"class Person\" is    \n",
    "# equivalent to \"class Person(object)\"     \n",
    "\n",
    "\n",
    "class Person(object):   \n",
    "\n",
    "\n",
    "# Constructor  \n",
    "\n",
    "\n",
    "    def __init__(self, name):      \n",
    "        self.name = name      \n",
    "        # To get the name       \n",
    "\n",
    "    def getName(self):       \n",
    "        return self.name   \n",
    "        # Inherited or Subclass (Note Person in bracket)   \n",
    "\n",
    "class Employee(Person):         \n",
    "# Here we return true      \n",
    "    def isEmployee(self):        \n",
    "        return True       \n",
    "\n",
    "# Driver code   \n",
    "emp = Person(\"Geek1\") # An Object of Person      \n",
    "print(emp.getName())     \n",
    "\n",
    "emp = Employee(\"Geek2\") # An Object of Employee      \n",
    "print(emp.getName(), emp.isEmployee())\n"
   ]
  },
  {
   "cell_type": "markdown",
   "id": "ef3106f6",
   "metadata": {},
   "source": [
    "In the above example, you can see that the Employee class has taken the properties from the Person class.                        \n",
    "I’ve also added the isemployee() function in the child class. That shows us that we don’t need to change the original class.    \n",
    "You can reuse the python code. At last, you’ve seen the basics of Object-oriented programming in Python.                        \n",
    "In python, you need to create the objects and use them as a constructor."
   ]
  },
  {
   "cell_type": "markdown",
   "id": "1a0a7f28",
   "metadata": {},
   "source": [
    "# Q2. Where does an inheritance search look for an attribute?"
   ]
  },
  {
   "cell_type": "markdown",
   "id": "d1415f35",
   "metadata": {},
   "source": [
    "<b><u>Inheritance Searches Namespace Trees</u></b>\n",
    "\n",
    "The whole point of a namespace tool like the class statement is to support name inheritance.                               \n",
    "In Python, inheritance happens when an object is qualified, and involves searching an attribute definition tree (one or more namespaces). Every time you use an expression of the form <b>object.attr</b> where object is an instance or class object, Python searches the namespace tree <b>at and above object, for the first attr it can find</b>. Because lower definitions in the tree override higher ones, inheritance forms the basis of specialization."
   ]
  },
  {
   "cell_type": "markdown",
   "id": "5436a2c5",
   "metadata": {},
   "source": [
    "<u><b>Attribute Tree Construction</b></u>\n",
    "\n",
    "In general:\n",
    "\n",
    "Instance attributes are generated by assignments to self attributes in methods.\n",
    "\n",
    "Class attributes are created by statements (assignments) in class statements.\n",
    "\n",
    "Superclass links are made by listing classes in parentheses in a class statement header.\n",
    "\n",
    "The net result is a tree of attribute namespaces, which grows from an instance, to the class it was generated from, to all the superclasses listed in the class headers. Python searches upward in this tree from instances to superclasses, each time you use qualification to fetch an attribute name from an instance object."
   ]
  },
  {
   "attachments": {
    "image.png": {
     "image/png": "[encoded data removed]"
    }
   },
   "cell_type": "markdown",
   "id": "437a5c63",
   "metadata": {},
   "source": [
    "![image.png](attachment:image.png)"
   ]
  },
  {
   "cell_type": "code",
   "execution_count": 29,
   "id": "d7b0f1fd",
   "metadata": {},
   "outputs": [
    {
     "ename": "AttributeError",
     "evalue": "'B' object has no attribute 'name'",
     "output_type": "error",
     "traceback": [
      "\u001b[1;31m---------------------------------------------------------------------------\u001b[0m",
      "\u001b[1;31mAttributeError\u001b[0m                            Traceback (most recent call last)",
      "\u001b[1;32m<ipython-input-29-8018e78e8cf3>\u001b[0m in \u001b[0;36m<module>\u001b[1;34m\u001b[0m\n\u001b[0;32m     10\u001b[0m \u001b[1;33m\u001b[0m\u001b[0m\n\u001b[0;32m     11\u001b[0m \u001b[0mobject\u001b[0m \u001b[1;33m=\u001b[0m \u001b[0mB\u001b[0m\u001b[1;33m(\u001b[0m\u001b[1;36m23\u001b[0m\u001b[1;33m)\u001b[0m\u001b[1;33m\u001b[0m\u001b[1;33m\u001b[0m\u001b[0m\n\u001b[1;32m---> 12\u001b[1;33m \u001b[0mprint\u001b[0m \u001b[1;33m(\u001b[0m\u001b[0mobject\u001b[0m\u001b[1;33m.\u001b[0m\u001b[0mname\u001b[0m\u001b[1;33m)\u001b[0m\u001b[1;33m\u001b[0m\u001b[1;33m\u001b[0m\u001b[0m\n\u001b[0m",
      "\u001b[1;31mAttributeError\u001b[0m: 'B' object has no attribute 'name'"
     ]
    }
   ],
   "source": [
    "# Python program to demonstrate error if we\n",
    "# forget to invoke __init__() of the parent.\n",
    " \n",
    "class A:\n",
    "      def __init__(self, n = 'Rahul'):\n",
    "              self.name = n\n",
    "class B(A):\n",
    "      def __init__(self, roll):\n",
    "              self.roll = roll\n",
    " \n",
    "object = B(23)\n",
    "print (object.name)"
   ]
  },
  {
   "cell_type": "code",
   "execution_count": 31,
   "id": "6b38f7b6",
   "metadata": {},
   "outputs": [],
   "source": [
    "class A:\n",
    "      def __init__(self, n = 'Valli'):\n",
    "              self.name = n"
   ]
  },
  {
   "cell_type": "code",
   "execution_count": 30,
   "id": "281571a8",
   "metadata": {},
   "outputs": [],
   "source": [
    "class B(A):\n",
    "      def __init__(self, roll):\n",
    "              self.roll = roll\n",
    "              A.__init__(self, n = 'Valli')"
   ]
  },
  {
   "cell_type": "code",
   "execution_count": 32,
   "id": "d118d920",
   "metadata": {},
   "outputs": [
    {
     "name": "stdout",
     "output_type": "stream",
     "text": [
      "Valli\n"
     ]
    }
   ],
   "source": [
    "object = B(23)\n",
    "print (object.name)"
   ]
  },
  {
   "cell_type": "markdown",
   "id": "46f03e86",
   "metadata": {},
   "source": [
    "\n",
    "# Q3) How do you distinguish between a class object and an instance object?"
   ]
  },
  {
   "cell_type": "markdown",
   "id": "4d61f9da",
   "metadata": {},
   "source": [
    "Class : a specification, blueprint for an object                                                       \n",
    "Object : physical presence of the class in memory                                                                               \n",
    "Instance : an unique copy of the object (same structure, different data)                       "
   ]
  },
  {
   "cell_type": "code",
   "execution_count": 2,
   "id": "bf4a2416",
   "metadata": {},
   "outputs": [],
   "source": [
    "class car:\n",
    "    def __init__(self,brand_name):\n",
    "        self.brand_name=brand_name\n",
    "        self.colour=\"Red\""
   ]
  },
  {
   "cell_type": "code",
   "execution_count": 6,
   "id": "217cfb23",
   "metadata": {},
   "outputs": [
    {
     "data": {
      "text/plain": [
       "'Red'"
      ]
     },
     "execution_count": 6,
     "metadata": {},
     "output_type": "execute_result"
    }
   ],
   "source": [
    "car(\"Audi\").colour # This is class object"
   ]
  },
  {
   "cell_type": "code",
   "execution_count": 15,
   "id": "a58fcb80",
   "metadata": {},
   "outputs": [
    {
     "data": {
      "text/plain": [
       "<__main__.car at 0x15233a0e910>"
      ]
     },
     "execution_count": 15,
     "metadata": {},
     "output_type": "execute_result"
    }
   ],
   "source": [
    "Ins1=car(\"BMW\") #instance object\n",
    "Ins2=car(\"Maruthi\") # instance object\n",
    "Ins1"
   ]
  },
  {
   "cell_type": "code",
   "execution_count": 16,
   "id": "92a167a2",
   "metadata": {},
   "outputs": [
    {
     "name": "stdout",
     "output_type": "stream",
     "text": [
      "The point is at: (0, 0)\n"
     ]
    }
   ],
   "source": [
    "class Point1:\n",
    "    def __init__(self, x=0, y=0):\n",
    "        self.x = x\n",
    "        self.y = y\n",
    "    def coords(self):\n",
    "        print(\"The point is at: ({}, {})\".format(self.x, self.y))\n",
    " \n",
    "# Create object of class Point1 with default parameters\n",
    "Q = Point1()\n",
    "Q.coords()"
   ]
  },
  {
   "cell_type": "markdown",
   "id": "6f15898b",
   "metadata": {},
   "source": [
    "\n",
    "# Q4) What makes the first argument in a class’s method function special?"
   ]
  },
  {
   "cell_type": "markdown",
   "id": "ad517e64",
   "metadata": {},
   "source": [
    "First Argument in the class's init method is a pointer. It is not a keyword and hence, it can be any name. class and init parameter or arguments to be class will not be in sync until and unless it is accessed using this first argument in the class's init method. Hence, Class accesses the variables/arguments using this pointer. Always very first name in the init method is considered as pointer."
   ]
  },
  {
   "cell_type": "markdown",
   "id": "f5df9caa",
   "metadata": {},
   "source": [
    "# Q5) What is the purpose of the __init__ method?"
   ]
  },
  {
   "cell_type": "markdown",
   "id": "0b4719c9",
   "metadata": {},
   "source": [
    "__init__ method in class is an inbuilt constructor. It is an entity that helps pass data or arguments to the class.            \n",
    "                                                                                                          \n",
    "What is __init__ in Python?                                                                                       \n",
    "The Default __init__ Constructor in C++ and Java. Constructors are used to initializing the object’s state. The task of constructors is to initialize(assign values) to the data members of the class when an object of the class is created. Like methods, a constructor also contains a collection of statements(i.e. instructions) that are executed at the time of Object creation. It is run as soon as an object of a class is instantiated. The method is useful to do any initialization you want to do with your object."
   ]
  },
  {
   "cell_type": "code",
   "execution_count": 17,
   "id": "5e9fb215",
   "metadata": {},
   "outputs": [
    {
     "name": "stdout",
     "output_type": "stream",
     "text": [
      "Hello, my name is Nikhil\n"
     ]
    }
   ],
   "source": [
    "# A Sample class with init method\n",
    "class Person:\n",
    " \n",
    "    # init method or constructor\n",
    "    def __init__(self, name):\n",
    "        self.name = name\n",
    " \n",
    "    # Sample Method\n",
    "    def say_hi(self):\n",
    "        print('Hello, my name is', self.name)\n",
    " \n",
    " \n",
    "p = Person('Nikhil')\n",
    "p.say_hi()"
   ]
  },
  {
   "cell_type": "markdown",
   "id": "7010b3aa",
   "metadata": {},
   "source": [
    "Understanding the code                                                                                                        \n",
    "In the above example, a person name Nikhil is created. While creating a person, “Nikhil” is passed as an argument, this argument will be passed to the __init__ method to initialize the object. The keyword self represents the instance of a class and binds the attributes with the given arguments. Similarly, many objects of the Person class can be created by passing different names as arguments. Below is the example of init in python with parameters"
   ]
  },
  {
   "cell_type": "code",
   "execution_count": 18,
   "id": "43bcf6a2",
   "metadata": {},
   "outputs": [
    {
     "name": "stdout",
     "output_type": "stream",
     "text": [
      "Hello, my name is Nikhil\n",
      "Hello, my name is Abhinav\n",
      "Hello, my name is Anshul\n"
     ]
    }
   ],
   "source": [
    "# A Sample class with init method\n",
    "class Person:\n",
    " \n",
    "    # init method or constructor\n",
    "    def __init__(self, name):\n",
    "        self.name = name\n",
    " \n",
    "    # Sample Method\n",
    "    def say_hi(self):\n",
    "        print('Hello, my name is', self.name)\n",
    " \n",
    " \n",
    "# Creating different objects\n",
    "p1 = Person('Nikhil')\n",
    "p2 = Person('Abhinav')\n",
    "p3 = Person('Anshul')\n",
    " \n",
    "p1.say_hi()\n",
    "p2.say_hi()\n",
    "p3.say_hi()"
   ]
  },
  {
   "cell_type": "markdown",
   "id": "68c07876",
   "metadata": {},
   "source": [
    "__init__ with inheritance                                                                                                   \n",
    "Inheritance is the capability of one class to derive or inherit the properties from some other class. Let’s consider the below example to see how __init__ works in inheritance. "
   ]
  },
  {
   "cell_type": "code",
   "execution_count": 19,
   "id": "3354b1a7",
   "metadata": {},
   "outputs": [
    {
     "name": "stdout",
     "output_type": "stream",
     "text": [
      "A init called\n",
      "B init called\n"
     ]
    }
   ],
   "source": [
    "# Python program to\n",
    "# demonstrate init with\n",
    "# inheritance\n",
    " \n",
    "class A(object):\n",
    "    def __init__(self, something):\n",
    "        print(\"A init called\")\n",
    "        self.something = something\n",
    " \n",
    " \n",
    "class B(A):\n",
    "    def __init__(self, something):\n",
    "        # Calling init of parent class\n",
    "        A.__init__(self, something)\n",
    "        print(\"B init called\")\n",
    "        self.something = something\n",
    " \n",
    " \n",
    "obj = B(\"Something\")"
   ]
  },
  {
   "cell_type": "markdown",
   "id": "e60fec43",
   "metadata": {},
   "source": [
    "So, the parent class constructor is called first. But in Python, it is not compulsory that the parent class constructor will always be called first. The order in which the __init__ method is called for a parent or a child class can be modified. This can simply be done by calling the parent class constructor after the body of the child class constructor. "
   ]
  },
  {
   "cell_type": "markdown",
   "id": "c5d48f9a",
   "metadata": {},
   "source": [
    "\n",
    "# Q6. What is the process for creating a class instance?"
   ]
  },
  {
   "cell_type": "markdown",
   "id": "acf36f90",
   "metadata": {},
   "source": [
    "\">>>\" Student1                                                                                                                  \n",
    "\"<__main__.Student object at 0x03DE5FD0>                                                                                       \n",
    "                                                                                                                        \n",
    "So, you can see that Student1 is an instance, or object, of the Student class.                                             \n",
    "\n",
    "So, all you have to do to create a new instance of a class in Python is choose a name for the object and set it equal to the class name (that you created) followed by (). When referencing a class in Python, it should always be the class name with parenthesis (). And this is all that is needed to create an instance of a class in Python."
   ]
  },
  {
   "cell_type": "markdown",
   "id": "592a8ce8",
   "metadata": {},
   "source": [
    "\n",
    "# Q7. What is the process for creating a class?"
   ]
  },
  {
   "cell_type": "markdown",
   "id": "d9ee2fff",
   "metadata": {},
   "source": [
    "A class is a code template for creating objects. Objects have member variables and have behaviour associated with them. In python a class is created by the keyword class. An object is created using the constructor of the class. This object will then be called the instance of the class. In Python we create instances in the following manner\n",
    "\n",
    "Instance = class(arguments)\n",
    "\n",
    "How to create a class?                                                                                                      \n",
    "The simplest class can be created using the class keyword. For example, let's create a simple, empty class with no functionalities.                                                                                                        "
   ]
  },
  {
   "cell_type": "code",
   "execution_count": 20,
   "id": "4ba79aa7",
   "metadata": {},
   "outputs": [],
   "source": [
    "class Snake:                                                                          \n",
    "    pass"
   ]
  },
  {
   "cell_type": "code",
   "execution_count": 21,
   "id": "af918ddf",
   "metadata": {},
   "outputs": [
    {
     "name": "stdout",
     "output_type": "stream",
     "text": [
      "<__main__.Snake object at 0x000001523392C0D0>\n"
     ]
    }
   ],
   "source": [
    "snake = Snake()                                                                                              \n",
    "print(snake) "
   ]
  },
  {
   "cell_type": "markdown",
   "id": "1ac27106",
   "metadata": {},
   "source": [
    "\n",
    "# Q8. How would you define the superclasses of a class?"
   ]
  },
  {
   "cell_type": "markdown",
   "id": "6262a8fa",
   "metadata": {},
   "source": [
    "The class whose properties gets inherited by another class is known as superclass or parent class and the class which inherits the properties of another class is known as the subclass. A subclass inherits all data and behavior of parent class. But we can also add more information and behavior to the subclass and also override its behavior.                                        \n",
    "                                                                                                                               \n",
    "Inheritance is the property of an OOP language through which the data and behavior of a superclass can be passed onto a subclass. It forms a tree hierarchy where parent class is the root and subsequent subclasses are the leaves derived from their parent class.                                                                                                                "
   ]
  },
  {
   "cell_type": "code",
   "execution_count": 22,
   "id": "ae8a394b",
   "metadata": {},
   "outputs": [
    {
     "name": "stdout",
     "output_type": "stream",
     "text": [
      "Valli\n",
      "data science\n",
      "learning\n",
      "Valli data science learning\n"
     ]
    }
   ],
   "source": [
    "# Parent Class\n",
    "class Course(object):\n",
    "      # Constructor \n",
    "      def __init__(self, CourseName,Topic): \n",
    "          self.CourseName =CourseName\n",
    "          self.Topic=Topic\n",
    "# Inherited or Sub class  \n",
    "class Author(Course): \n",
    "    #Constructor\n",
    "    def __init__(self,CourseName,Topic,Authorname):\n",
    "        #deriving attributes of Parent Class\n",
    "        Course.CourseName=CourseName\n",
    "        Course.Topic=Topic\n",
    "        \n",
    "        #adding a new attribute to the subclass\n",
    "        self.Authorname=Authorname\n",
    "    def printCourseDetails(self):\n",
    "        print(Course.CourseName,Course.Topic,self.Authorname)\n",
    "#The three consecutive inputs will take name of the course,one of the topics from that course and the name of author who writes a post for that topic and will print them in order.\n",
    "user_input=Author(input(),input(),input())\n",
    "user_input.printCourseDetails()"
   ]
  },
  {
   "cell_type": "markdown",
   "id": "894cfffb",
   "metadata": {},
   "source": [
    "In this example, ‘Course’ is the parent class with two data attributes ‘CourseName’ and ‘Topic’ while ‘Author’ is the subclass which derived both the attributes of ‘Course’ and we have added one more attribute to it named as ‘Authorname’."
   ]
  },
  {
   "cell_type": "markdown",
   "id": "5abfba4f",
   "metadata": {},
   "source": [
    "Super class is passed as an argument to sub class."
   ]
  }
 ],
 "metadata": {
  "kernelspec": {
   "display_name": "Python 3",
   "language": "python",
   "name": "python3"
  },
  "language_info": {
   "codemirror_mode": {
    "name": "ipython",
    "version": 3
   },
   "file_extension": ".py",
   "mimetype": "text/x-python",
   "name": "python",
   "nbconvert_exporter": "python",
   "pygments_lexer": "ipython3",
   "version": "3.8.8"
  }
 },
 "nbformat": 4,
 "nbformat_minor": 5
}
