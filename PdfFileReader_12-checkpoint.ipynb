{
 "cells": [
  {
   "cell_type": "markdown",
   "id": "991dd9ef",
   "metadata": {},
   "source": [
    "<b> 1. In what modes should the PdfFileReader() and PdfFileWriter() File objects will be opened?"
   ]
  },
  {
   "cell_type": "markdown",
   "id": "14d81b69",
   "metadata": {},
   "source": [
    "These files will be opened in binary mode., read binary (rb) for PdfFileREader() and write binary (wb) PdfFileWriter()"
   ]
  },
  {
   "cell_type": "code",
   "execution_count": 3,
   "id": "3ea2e8f3",
   "metadata": {},
   "outputs": [
    {
     "name": "stdout",
     "output_type": "stream",
     "text": [
      "Requirement already satisfied: PyPDF2 in c:\\users\\vmuth\\anaconda3\\lib\\site-packages (1.26.0)\n"
     ]
    }
   ],
   "source": [
    "!pip install PyPDF2"
   ]
  },
  {
   "cell_type": "markdown",
   "id": "626cab5d",
   "metadata": {},
   "source": [
    "<b> 2. From a PdfFileReader object, how do you get a Page object for page 5?"
   ]
  },
  {
   "cell_type": "code",
   "execution_count": 4,
   "id": "d29c342d",
   "metadata": {},
   "outputs": [],
   "source": [
    "import PyPDF2 as pdf"
   ]
  },
  {
   "cell_type": "code",
   "execution_count": 8,
   "id": "aa5ff4a9",
   "metadata": {},
   "outputs": [
    {
     "data": {
      "text/plain": [
       "'C:\\\\Users\\\\vmuth'"
      ]
     },
     "execution_count": 8,
     "metadata": {},
     "output_type": "execute_result"
    }
   ],
   "source": [
    "import os\n",
    "os.getcwd()"
   ]
  },
  {
   "cell_type": "code",
   "execution_count": 9,
   "id": "c056fb8c",
   "metadata": {},
   "outputs": [],
   "source": [
    "os.chdir(\"C:\\\\Users\\\\vmuth\\\\Downloads\")"
   ]
  },
  {
   "cell_type": "code",
   "execution_count": 10,
   "id": "eeed0927",
   "metadata": {},
   "outputs": [
    {
     "data": {
      "text/plain": [
       "'C:\\\\Users\\\\vmuth\\\\Downloads'"
      ]
     },
     "execution_count": 10,
     "metadata": {},
     "output_type": "execute_result"
    }
   ],
   "source": [
    "os.getcwd()"
   ]
  },
  {
   "cell_type": "markdown",
   "id": "492e9077",
   "metadata": {},
   "source": [
    "calling getPage(4) of PdfFileReader object will return a Page object for page 5 since page 0 is the first page"
   ]
  },
  {
   "cell_type": "code",
   "execution_count": 13,
   "id": "79e1e92d",
   "metadata": {},
   "outputs": [
    {
     "data": {
      "text/plain": [
       "' \\nMindfire Solutions\\n \\nCase Study\\n \\ninfo@mindfiresolutions.com\\n \\n \\n \\nwww.mindfiresolutions.com\\n \\n \\n \\n \\n \\n \\n \\n \\n \\n \\n \\n \\n \\n \\n \\n \\n \\n \\n \\n \\n \\n \\n \\n \\n \\n \\n \\n \\nScreenshot 2\\n: \\nShort code database \\nfor a particular Advertiser\\n \\nScreenshot 3\\n: \\nMessage Log for the \\noutbound messages and their \\ncorresponding status.\\n \\nScreenshot 4\\n: \\nKeywords Database to \\nincrease effectiveness of the text \\nmessaging \\ncampaigns.\\n \\n'"
      ]
     },
     "execution_count": 13,
     "metadata": {},
     "output_type": "execute_result"
    }
   ],
   "source": [
    "pdfFileObj = open(\"New_Merged_File.pdf\",'rb')\n",
    "pdfReader = pdf.PdfFileReader(pdfFileObj)\n",
    "pageObj = pdfReader.getPage(4)\n",
    "pageObj.extractText()"
   ]
  },
  {
   "cell_type": "markdown",
   "id": "1f82f090",
   "metadata": {},
   "source": [
    "<b> 3. What PdfFileReader variable stores the number of pages in the PDF document?"
   ]
  },
  {
   "cell_type": "markdown",
   "id": "2c5986a3",
   "metadata": {},
   "source": [
    "The PdfFileReader.numPages variable stores an integer of the number of pages in the PdfFileReader object"
   ]
  },
  {
   "cell_type": "code",
   "execution_count": 14,
   "id": "dcf70108",
   "metadata": {},
   "outputs": [
    {
     "data": {
      "text/plain": [
       "837"
      ]
     },
     "execution_count": 14,
     "metadata": {},
     "output_type": "execute_result"
    }
   ],
   "source": [
    "import PyPDF2 as pdf\n",
    "pdfFileObj = open(\"New_Merged_File.pdf\",'rb')\n",
    "pdfReader = pdf.PdfFileReader(pdfFileObj)\n",
    "pdfReader.numPages"
   ]
  },
  {
   "cell_type": "markdown",
   "id": "0ee3bde3",
   "metadata": {},
   "source": [
    "<b> 4. If a PdfFileReader object’s PDF is encrypted with the password swordfish, what must you do before you can obtain Page objects from it?"
   ]
  },
  {
   "cell_type": "markdown",
   "id": "68cd2028",
   "metadata": {},
   "source": [
    "PDF can be decrypted by .decrypt('swordfish')"
   ]
  },
  {
   "cell_type": "code",
   "execution_count": 21,
   "id": "befd323e",
   "metadata": {},
   "outputs": [
    {
     "data": {
      "text/plain": [
       "837"
      ]
     },
     "execution_count": 21,
     "metadata": {},
     "output_type": "execute_result"
    }
   ],
   "source": [
    "import PyPDF2 as pdf\n",
    "pdfFileObj = open(\"New_Merged_File.pdf\",'rb')\n",
    "Reader = pdf.PdfFileReader(pdfFileObj)\n",
    "writer = pdf.PdfFileWriter()\n",
    "Reader.numPages"
   ]
  },
  {
   "cell_type": "code",
   "execution_count": 24,
   "id": "48558584",
   "metadata": {},
   "outputs": [],
   "source": [
    "# Encrypting pdf file\n",
    "pages=Reader.numPages\n",
    "for i in range(pages):\n",
    "    page=Reader.getPage(i)\n",
    "    writer.addPage(page)\n",
    "    \n",
    "writer.encrypt(\"swordfish\")"
   ]
  },
  {
   "cell_type": "code",
   "execution_count": 25,
   "id": "31221a1c",
   "metadata": {},
   "outputs": [],
   "source": [
    "# Always new file will be created that is encrypted.Existing file cannot be openned as encrypted file\n",
    "with open(\"New_Merged_File_Encrypted.pdf\", \"wb\") as f:\n",
    "    writer.write(f)"
   ]
  },
  {
   "cell_type": "code",
   "execution_count": 27,
   "id": "e5d01df1",
   "metadata": {},
   "outputs": [
    {
     "name": "stdout",
     "output_type": "stream",
     "text": [
      "False\n"
     ]
    }
   ],
   "source": [
    "# check whether file is encrypted or not\n",
    "print(Reader.isEncrypted)"
   ]
  },
  {
   "cell_type": "code",
   "execution_count": 30,
   "id": "1183e907",
   "metadata": {},
   "outputs": [
    {
     "data": {
      "text/plain": [
       "True"
      ]
     },
     "execution_count": 30,
     "metadata": {},
     "output_type": "execute_result"
    }
   ],
   "source": [
    "pdfFileObj = open(\"New_Merged_File_Encrypted.pdf\",'rb')\n",
    "Reader1=pdf.PdfFileReader(pdfFileObj)\n",
    "Reader1.isEncrypted"
   ]
  },
  {
   "cell_type": "code",
   "execution_count": 32,
   "id": "eb800354",
   "metadata": {},
   "outputs": [
    {
     "name": "stdout",
     "output_type": "stream",
     "text": [
      "File decrypted Successfully.\n"
     ]
    }
   ],
   "source": [
    "# Let us decrypt the above encrupted pdf file\n",
    "\n",
    "writer1= pdf.PdfFileWriter()\n",
    "if Reader1.isEncrypted:\n",
    "    Reader1.decrypt('swordfish')\n",
    "    for i in range(Reader1.numPages):\n",
    "        page=Reader1.getPage(i)\n",
    "        writer1.addPage(page)\n",
    "    # New decrypted file will be created\n",
    "    with open(\"New_Merged_File_decrypted.pdf\", \"wb\") as f:\n",
    "        writer1.write(f)\n",
    "    print(\"File decrypted Successfully.\")\n",
    "else:\n",
    "    print(\"File already decrypted.\")"
   ]
  },
  {
   "cell_type": "markdown",
   "id": "eb24b76d",
   "metadata": {},
   "source": [
    "<b> 5. What methods do you use to rotate a page?"
   ]
  },
  {
   "cell_type": "markdown",
   "id": "0f705eaa",
   "metadata": {},
   "source": [
    "rotateClockwise(d),rotateCounterClockwise(d) used to rotate pdf pages. d refers to degrees like 0, 45, 90, 180, 360"
   ]
  },
  {
   "cell_type": "code",
   "execution_count": 36,
   "id": "a85aefda",
   "metadata": {},
   "outputs": [],
   "source": [
    "# Example\n",
    "import PyPDF2 as pdf\n",
    "pdfFileObj = open(\"New_Merged_File.pdf\",'rb')\n",
    "Reader = pdf.PdfFileReader(pdfFileObj)\n",
    "writer = pdf.PdfFileWriter()\n",
    "# Rotate page 90 degrees to the right\n",
    "page_1 = Reader.getPage(0).rotateClockwise(90)\n",
    "writer.addPage(page_1)\n",
    "# Rotate page 180 degrees to the left\n",
    "page_2 = Reader.getPage(1).rotateCounterClockwise(180)\n",
    "writer.addPage(page_2)\n",
    "# Add a page in normal orientation\n",
    "writer.addPage(Reader.getPage(2))"
   ]
  },
  {
   "cell_type": "code",
   "execution_count": 37,
   "id": "daec7398",
   "metadata": {},
   "outputs": [],
   "source": [
    "# Always new file to be created\n",
    "with open('rotated_pages.pdf', 'wb') as fh:\n",
    "        writer.write(fh)"
   ]
  },
  {
   "cell_type": "markdown",
   "id": "af6a5f75",
   "metadata": {},
   "source": [
    "<b> 6. What is the difference between a Run object and a Paragraph object?"
   ]
  },
  {
   "cell_type": "markdown",
   "id": "c9961026",
   "metadata": {},
   "source": [
    "Word documents contain formatted text wrapped within three object levels. Lowest level- Run objects, Middle level- Paragraph objects and Highest level- Document object.\n",
    "So, we cannot work with these documents using normal text editors. But, we can manipulate these word documents in python using the python-docx module."
   ]
  },
  {
   "cell_type": "code",
   "execution_count": 39,
   "id": "9c7cb7e8",
   "metadata": {},
   "outputs": [
    {
     "name": "stdout",
     "output_type": "stream",
     "text": [
      "Collecting python-docx\n",
      "  Downloading python-docx-0.8.11.tar.gz (5.6 MB)\n",
      "Requirement already satisfied: lxml>=2.3.2 in c:\\users\\vmuth\\anaconda3\\lib\\site-packages (from python-docx) (4.6.3)\n",
      "Building wheels for collected packages: python-docx\n",
      "  Building wheel for python-docx (setup.py): started\n",
      "  Building wheel for python-docx (setup.py): finished with status 'done'\n",
      "  Created wheel for python-docx: filename=python_docx-0.8.11-py3-none-any.whl size=184600 sha256=f8f10f17d22b0f3520032ead7b2f9904f3bf9d21576ed16f8a5dc321396baf42\n",
      "  Stored in directory: c:\\users\\vmuth\\appdata\\local\\pip\\cache\\wheels\\32\\b8\\b2\\c4c2b95765e615fe139b0b17b5ea7c0e1b6519b0a9ec8fb34d\n",
      "Successfully built python-docx\n",
      "Installing collected packages: python-docx\n",
      "Successfully installed python-docx-0.8.11\n"
     ]
    }
   ],
   "source": [
    "!pip3 install python-docx"
   ]
  },
  {
   "cell_type": "code",
   "execution_count": 40,
   "id": "ab2c3a59",
   "metadata": {},
   "outputs": [],
   "source": [
    "import docx"
   ]
  },
  {
   "cell_type": "code",
   "execution_count": 41,
   "id": "43643334",
   "metadata": {},
   "outputs": [
    {
     "ename": "NameError",
     "evalue": "name 'Document' is not defined",
     "output_type": "error",
     "traceback": [
      "\u001b[1;31m---------------------------------------------------------------------------\u001b[0m",
      "\u001b[1;31mNameError\u001b[0m                                 Traceback (most recent call last)",
      "\u001b[1;32m<ipython-input-41-c9895932c2ec>\u001b[0m in \u001b[0;36m<module>\u001b[1;34m\u001b[0m\n\u001b[1;32m----> 1\u001b[1;33m \u001b[0mdoc\u001b[0m \u001b[1;33m=\u001b[0m \u001b[0mDocument\u001b[0m\u001b[1;33m(\u001b[0m\u001b[1;34m'Assignment_12.docx'\u001b[0m\u001b[1;33m)\u001b[0m\u001b[1;33m\u001b[0m\u001b[1;33m\u001b[0m\u001b[0m\n\u001b[0m",
      "\u001b[1;31mNameError\u001b[0m: name 'Document' is not defined"
     ]
    }
   ],
   "source": [
    "doc = Document('Assignment_12.docx')"
   ]
  },
  {
   "cell_type": "code",
   "execution_count": 42,
   "id": "f220b818",
   "metadata": {},
   "outputs": [],
   "source": [
    "from docx import Document"
   ]
  },
  {
   "cell_type": "code",
   "execution_count": 44,
   "id": "5e985631",
   "metadata": {},
   "outputs": [],
   "source": [
    "doc = Document('Assignment_12.docx')"
   ]
  },
  {
   "cell_type": "code",
   "execution_count": 45,
   "id": "121139ec",
   "metadata": {},
   "outputs": [
    {
     "name": "stdout",
     "output_type": "stream",
     "text": [
      "[<docx.text.paragraph.Paragraph object at 0x0000013CE7EFC580>, <docx.text.paragraph.Paragraph object at 0x0000013CE7F04430>, <docx.text.paragraph.Paragraph object at 0x0000013CE7F04970>, <docx.text.paragraph.Paragraph object at 0x0000013CE7F047C0>, <docx.text.paragraph.Paragraph object at 0x0000013CE7F04820>, <docx.text.paragraph.Paragraph object at 0x0000013CE7F040D0>, <docx.text.paragraph.Paragraph object at 0x0000013CE7F047F0>, <docx.text.paragraph.Paragraph object at 0x0000013CE7F04880>, <docx.text.paragraph.Paragraph object at 0x0000013CE7F049D0>, <docx.text.paragraph.Paragraph object at 0x0000013CE7F04040>, <docx.text.paragraph.Paragraph object at 0x0000013CE7F046A0>, <docx.text.paragraph.Paragraph object at 0x0000013CE7F04E20>, <docx.text.paragraph.Paragraph object at 0x0000013CE7F04940>]\n"
     ]
    }
   ],
   "source": [
    "# Difference between Paragraph and run object\n",
    "# print the list of paragraphs in the document\n",
    "print(doc.paragraphs)"
   ]
  },
  {
   "cell_type": "code",
   "execution_count": 46,
   "id": "c0da0a23",
   "metadata": {},
   "outputs": [
    {
     "name": "stdout",
     "output_type": "stream",
     "text": [
      "[<docx.text.run.Run object at 0x0000013CE7F044F0>]\n"
     ]
    }
   ],
   "source": [
    "# print the list of the runs in a specified 1st paragraph\n",
    "print(doc.paragraphs[0].runs)"
   ]
  },
  {
   "cell_type": "code",
   "execution_count": 48,
   "id": "4de9e6cf",
   "metadata": {},
   "outputs": [
    {
     "name": "stdout",
     "output_type": "stream",
     "text": [
      "1. In what modes should the PdfFileReader() and PdfFileWriter() File objects will be opened?\n"
     ]
    }
   ],
   "source": [
    "# print the text in a paragraph \n",
    "print(doc.paragraphs[0].text)"
   ]
  },
  {
   "cell_type": "markdown",
   "id": "4e093183",
   "metadata": {},
   "source": [
    "<b> 7. How do you obtain a list of Paragraph objects for a Document object that’s stored in a variable named doc?"
   ]
  },
  {
   "cell_type": "markdown",
   "id": "aa957d29",
   "metadata": {},
   "source": [
    "By using doc.paragraphs as shown above"
   ]
  },
  {
   "cell_type": "code",
   "execution_count": 51,
   "id": "59ab2bc1",
   "metadata": {},
   "outputs": [
    {
     "data": {
      "text/plain": [
       "[<docx.text.paragraph.Paragraph at 0x13ce7f04970>,\n",
       " <docx.text.paragraph.Paragraph at 0x13ce7f048e0>,\n",
       " <docx.text.paragraph.Paragraph at 0x13ce7f04280>,\n",
       " <docx.text.paragraph.Paragraph at 0x13ce7f043d0>,\n",
       " <docx.text.paragraph.Paragraph at 0x13ce7efc8e0>,\n",
       " <docx.text.paragraph.Paragraph at 0x13ce7efc100>,\n",
       " <docx.text.paragraph.Paragraph at 0x13ce7efc760>,\n",
       " <docx.text.paragraph.Paragraph at 0x13ce7efc1f0>,\n",
       " <docx.text.paragraph.Paragraph at 0x13ce7efc5b0>,\n",
       " <docx.text.paragraph.Paragraph at 0x13ce7efc070>,\n",
       " <docx.text.paragraph.Paragraph at 0x13ce7efc580>,\n",
       " <docx.text.paragraph.Paragraph at 0x13ce7efc130>,\n",
       " <docx.text.paragraph.Paragraph at 0x13ce7efc520>]"
      ]
     },
     "execution_count": 51,
     "metadata": {},
     "output_type": "execute_result"
    }
   ],
   "source": [
    "doc.paragraphs"
   ]
  },
  {
   "cell_type": "code",
   "execution_count": 56,
   "id": "07a6877f",
   "metadata": {},
   "outputs": [
    {
     "name": "stdout",
     "output_type": "stream",
     "text": [
      "1. In what modes should the PdfFileReader() and PdfFileWriter() File objects will be opened?\n",
      "2. From a PdfFileReader object, how do you get a Page object for page 5?\n",
      "3. What PdfFileReader variable stores the number of pages in the PDF document?\n",
      "4. If a PdfFileReader object’s PDF is encrypted with the password swordfish, what must you do before you can obtain Page objects from it?\n",
      "5. What methods do you use to rotate a page?\n",
      "6. What is the difference between a Run object and a Paragraph object?\n",
      "7. How do you obtain a list of Paragraph objects for a Document object that’s stored in a variable named doc?\n",
      "8. What type of object has bold, underline, italic, strike, and outline variables?\n",
      "9. What is the difference between False, True, and None for the bold variable?\n",
      "10. How do you create a Document object for a new Word document?\n",
      "11. How do you add a paragraph with the text 'Hello, there!' to a Document object stored in a variable named doc?\n",
      "12. What integers represent the levels of headings available in Word documents?\n",
      "\n"
     ]
    }
   ],
   "source": [
    "for i in doc.paragraphs:\n",
    "    print(i.text)"
   ]
  },
  {
   "cell_type": "markdown",
   "id": "dd2bb28e",
   "metadata": {},
   "source": [
    "<b> 8. What type of object has bold, underline, italic, strike, and outline variables?"
   ]
  },
  {
   "cell_type": "markdown",
   "id": "4796eb86",
   "metadata": {},
   "source": [
    "A Run object has bold, underline,italic,strike and outline variables"
   ]
  },
  {
   "cell_type": "code",
   "execution_count": 65,
   "id": "183d4484",
   "metadata": {},
   "outputs": [],
   "source": [
    "#Example\n",
    "import docx\n",
    "doc = docx.Document()\n",
    "doc.add_heading('Heading for the document', 0)\n",
    "doc_para = doc.add_paragraph('  Your paragraph goes here,   ')\n",
    "# add a run i.e, style like \n",
    "# bold, italic, underline, etc.\n",
    "doc_para.add_run('hey there, bold here  ').bold = True\n",
    "doc_para.add_run(', and ')\n",
    "doc_para.add_run('these words are italic   ').italic = True\n",
    "doc_para.add_run(\"these words are striked   \").font.strike = True\n",
    "doc_para.add_run(\"these words are outlined   \").font.outline = True\n",
    "doc_para.add_run(\"these words are underlined\").underline =  True\n",
    "\n",
    "doc.save('sampleDoc_RunObject.docx')"
   ]
  },
  {
   "cell_type": "markdown",
   "id": "854016c3",
   "metadata": {},
   "source": [
    "<b> 9. What is the difference between False, True, and None for the bold variable?"
   ]
  },
  {
   "cell_type": "code",
   "execution_count": 67,
   "id": "1e324bec",
   "metadata": {},
   "outputs": [],
   "source": [
    "#Example\n",
    "import docx\n",
    "doc = docx.Document()\n",
    "doc.add_heading('Heading for the document', 0)\n",
    "doc_para = doc.add_paragraph('  Your paragraph goes here,   ')\n",
    "doc_para.add_run('hey there, bold to be True here  ').bold = True\n",
    "doc_para.add_run('hey there, bold to be False here  ').bold = False\n",
    "doc_para.add_run('hey there, bold to be None here  ').bold = None\n",
    "\n",
    "doc.save('sampleDoc_RunObject_For_Bold.docx')"
   ]
  },
  {
   "attachments": {
    "image.png": {
     "image/png": "[encoded data removed]"
    }
   },
   "cell_type": "markdown",
   "id": "b738733e",
   "metadata": {},
   "source": [
    "![image.png](attachment:image.png)"
   ]
  },
  {
   "cell_type": "markdown",
   "id": "c52dcb5d",
   "metadata": {},
   "source": [
    "<b> 10. How do you create a Document object for a new Word document?"
   ]
  },
  {
   "cell_type": "markdown",
   "id": "a357ce03",
   "metadata": {},
   "source": [
    "By Calling the docx.Document() function"
   ]
  },
  {
   "cell_type": "markdown",
   "id": "a044a31b",
   "metadata": {},
   "source": [
    "<b> 11. How do you add a paragraph with the text 'Hello, there!' to a Document object stored in a variable named doc?"
   ]
  },
  {
   "cell_type": "markdown",
   "id": "98f71337",
   "metadata": {},
   "source": [
    "By calling doc.add_paragraph('Hello, there!')"
   ]
  },
  {
   "cell_type": "code",
   "execution_count": 69,
   "id": "ffc8b7d2",
   "metadata": {},
   "outputs": [],
   "source": [
    "#Example\n",
    "import docx\n",
    "doc = docx.Document()\n",
    "doc.add_paragraph(' Hello, there!')\n",
    "doc.save('Hello.docx')"
   ]
  },
  {
   "cell_type": "markdown",
   "id": "44bccd0b",
   "metadata": {},
   "source": [
    "<b> 12. What integers represent the levels of headings available in Word documents?"
   ]
  },
  {
   "cell_type": "markdown",
   "id": "5c709980",
   "metadata": {},
   "source": [
    "integers between 0 and 4\n",
    "\n",
    "The arguments to add_heading() are a string of the heading text and an integer from 0 to 4. The integer 0 makes the heading the Title style, which is used for the top of the document. Integers 1 to 4 are for various heading levels, with 1 being the main heading and 4 the lowest subheading"
   ]
  },
  {
   "cell_type": "code",
   "execution_count": 71,
   "id": "39a828ef",
   "metadata": {},
   "outputs": [],
   "source": [
    "#Example\n",
    "import docx\n",
    "doc = docx.Document()\n",
    "doc.add_paragraph(' Hello, there!')\n",
    "doc.add_heading('    Heading 0',0)\n",
    "doc.add_heading('    Heading 1',1)\n",
    "doc.add_heading('    Heading 2',2)\n",
    "doc.add_heading('    Heading 3',3)\n",
    "doc.add_heading('    Heading 4',4)\n",
    "doc.save('Headings.docx')\n"
   ]
  },
  {
   "attachments": {
    "image.png": {
     "image/png": "[encoded data removed]"
    }
   },
   "cell_type": "markdown",
   "id": "24315d09",
   "metadata": {},
   "source": [
    "![image.png](attachment:image.png)"
   ]
  },
  {
   "cell_type": "code",
   "execution_count": null,
   "id": "94a82991",
   "metadata": {},
   "outputs": [],
   "source": []
  }
 ],
 "metadata": {
  "kernelspec": {
   "display_name": "Python 3",
   "language": "python",
   "name": "python3"
  },
  "language_info": {
   "codemirror_mode": {
    "name": "ipython",
    "version": 3
   },
   "file_extension": ".py",
   "mimetype": "text/x-python",
   "name": "python",
   "nbconvert_exporter": "python",
   "pygments_lexer": "ipython3",
   "version": "3.8.8"
  }
 },
 "nbformat": 4,
 "nbformat_minor": 5
}
