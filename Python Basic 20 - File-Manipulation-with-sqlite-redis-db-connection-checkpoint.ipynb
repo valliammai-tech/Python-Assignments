{
 "cells": [
  {
   "cell_type": "markdown",
   "id": "8c0680da",
   "metadata": {},
   "source": [
    "# 1. Set the variable test1 to the string &#39;This is a test of the emergency text system,&#39; and save test1 to a file named test.txt."
   ]
  },
  {
   "cell_type": "code",
   "execution_count": 2,
   "id": "15a4107b",
   "metadata": {},
   "outputs": [],
   "source": [
    "test1='This is a test of the emergency text system'\n",
    "file=open('test.txt','w')\n",
    "file.write(test1)\n",
    "file.close()"
   ]
  },
  {
   "cell_type": "markdown",
   "id": "231c7c2b",
   "metadata": {},
   "source": [
    "\n",
    "# 2. Read the contents of the file test.txt into the variable test2. Is there a difference between test 1 and test 2?"
   ]
  },
  {
   "cell_type": "code",
   "execution_count": 5,
   "id": "e6155e43",
   "metadata": {},
   "outputs": [
    {
     "name": "stdout",
     "output_type": "stream",
     "text": [
      "This is a test of the emergency text system\n",
      "There is no difference between test1 and test2\n"
     ]
    }
   ],
   "source": [
    "file=open('test.txt','r')\n",
    "test2=file.read()\n",
    "print(test1)\n",
    "if test1==test2:\n",
    "    print(\"There is no difference between test1 and test2\")"
   ]
  },
  {
   "cell_type": "markdown",
   "id": "feea3d56",
   "metadata": {},
   "source": [
    "\n",
    "# 3. Create a CSV file called books.csv by using these lines:\n",
    "title,author,year\n",
    "\n",
    "The Weirdstone of Brisingamen,Alan Garner,1960\n",
    "\n",
    "Perdido Street Station,China Miéville,2000\n",
    "\n",
    "Thud!,Terry Pratchett,2005\n",
    "\n",
    "The Spellman Files,Lisa Lutz,2007\n",
    "\n",
    "Small Gods,Terry Pratchett,1992"
   ]
  },
  {
   "cell_type": "code",
   "execution_count": 24,
   "id": "7a167bf0",
   "metadata": {},
   "outputs": [
    {
     "name": "stdout",
     "output_type": "stream",
     "text": [
      "title,author,year\r\n",
      "\n",
      "The Weirdstone of Brisingamen,Alan Garner,1960\r\n",
      "\n",
      "Perdido Street Station,China Miéville,2000\r\n",
      "\n",
      "Thud!,Terry Pratchett,2005\r\n",
      "\n",
      "The Spellman Files,Lisa Lutz,2007\r\n",
      "\n",
      "Small Gods,Terry Pratchett,1992\r\n",
      "\n",
      "\n",
      "[]\n",
      "title,author,year\r\n",
      "\n",
      "['The Weirdstone of Brisingamen,Alan Garner,1960\\r\\n', 'Perdido Street Station,China Miéville,2000\\r\\n', 'Thud!,Terry Pratchett,2005\\r\\n', 'The Spellman Files,Lisa Lutz,2007\\r\\n', 'Small Gods,Terry Pratchett,1992\\r\\n']\n"
     ]
    }
   ],
   "source": [
    "import csv\n",
    "row=[['title','author','year'],['The Weirdstone of Brisingamen','Alan Garner',1960],['Perdido Street Station','China Miéville',2000],['Thud!','Terry Pratchett',2005],['The Spellman Files','Lisa Lutz',2007],['Small Gods','Terry Pratchett',1992]]\n",
    "with open('books.csv','w', newline='') as write_file:\n",
    "    writer=csv.writer(write_file)\n",
    "    writer.writerows(row)\n",
    "\n",
    "with open('books.csv','r', newline='') as read_file:\n",
    "    for line in read_file.readlines():\n",
    "        print(line)\n",
    "    print(read_file.readline()) # returns nothing as already cursor has reached end of the read_file\n",
    "    print(read_file.readlines())\n",
    "\n",
    "with open('books.csv','r', newline='') as read_file:\n",
    "    print(read_file.readline())\n",
    "    print(read_file.readlines())"
   ]
  },
  {
   "attachments": {
    "image.png": {
     "image/png": "[encoded data removed]"
    }
   },
   "cell_type": "markdown",
   "id": "98dbe8ae",
   "metadata": {},
   "source": [
    "![image.png](attachment:image.png)"
   ]
  },
  {
   "cell_type": "markdown",
   "id": "49e8ddb0",
   "metadata": {},
   "source": [
    "\n",
    "\n",
    "# 4. Use the sqlite3 module to create a SQLite database called books.db, and a table called books with these fields: title (text), author (text), and year (integer)."
   ]
  },
  {
   "cell_type": "code",
   "execution_count": 46,
   "id": "495ddc7a",
   "metadata": {},
   "outputs": [
    {
     "name": "stdout",
     "output_type": "stream",
     "text": [
      "[('3.35.4',)]\n"
     ]
    }
   ],
   "source": [
    "import sqlite3\n",
    "conn = sqlite3.connect('books.db')\n",
    "c = conn.cursor()\n",
    "c.execute('DROP TABLE IF EXISTS books')\n",
    "c.execute('create table books(title varchar(20),author varchar(20), year int)')\n",
    "c.execute('select sqlite_version();')\n",
    "print(c.fetchall()) #fetches result of select query\n",
    "conn.commit()"
   ]
  },
  {
   "cell_type": "markdown",
   "id": "426378d1",
   "metadata": {},
   "source": [
    "\n",
    "# 5. Read books.csv and insert its data into the book table."
   ]
  },
  {
   "cell_type": "code",
   "execution_count": 67,
   "id": "6f548d31",
   "metadata": {},
   "outputs": [
    {
     "name": "stdout",
     "output_type": "stream",
     "text": [
      "<csv.DictReader object at 0x000001CF8B656550>\n",
      "{'title': 'The Weirdstone of Brisingamen', 'author': 'Alan Garner', 'year': '1960'}\n",
      "{'title': 'Perdido Street Station', 'author': 'China Miéville', 'year': '2000'}\n",
      "{'title': 'Thud!', 'author': 'Terry Pratchett', 'year': '2005'}\n",
      "{'title': 'The Spellman Files', 'author': 'Lisa Lutz', 'year': '2007'}\n",
      "{'title': 'Small Gods', 'author': 'Terry Pratchett', 'year': '1992'}\n",
      "[('The Weirdstone of Brisingamen', 'Alan Garner', 1960), ('Perdido Street Station', 'China Miéville', 2000), ('Thud!', 'Terry Pratchett', 2005), ('The Spellman Files', 'Lisa Lutz', 2007), ('Small Gods', 'Terry Pratchett', 1992)]\n"
     ]
    }
   ],
   "source": [
    "import csv\n",
    "import sqlite3\n",
    "insert_str='insert into books values (?,?,?)'\n",
    "db=sqlite3.connect('books.db')\n",
    "cursor=db.cursor()\n",
    "with open('books.csv','r') as csvfile:\n",
    "    books=csv.DictReader(csvfile)\n",
    "    print(books)\n",
    "    for book in books:\n",
    "        print(book)\n",
    "        cursor.execute(insert_str, (book['title'], book['author'], book['year']))\n",
    "    cursor.execute('select * from books')\n",
    "    result=cursor.fetchall()\n",
    "    print(result)\n",
    "cursor.close()\n",
    "db.commit()"
   ]
  },
  {
   "cell_type": "markdown",
   "id": "8619aeea",
   "metadata": {},
   "source": [
    "\n",
    "# 6. Select and print the title column from the book table in alphabetical order."
   ]
  },
  {
   "cell_type": "code",
   "execution_count": 69,
   "id": "b6289a84",
   "metadata": {},
   "outputs": [
    {
     "name": "stdout",
     "output_type": "stream",
     "text": [
      "[('Perdido Street Station',), ('Small Gods',), ('The Spellman Files',), ('The Weirdstone of Brisingamen',), ('Thud!',)]\n"
     ]
    }
   ],
   "source": [
    "import sqlite3\n",
    "db=sqlite3.connect('books.db')\n",
    "cursor=db.cursor()\n",
    "cursor.execute(\"select title from books order by title asc\")\n",
    "result = cursor.fetchall()\n",
    "print(result)\n",
    "cursor.close()\n",
    "db.commit()"
   ]
  },
  {
   "cell_type": "markdown",
   "id": "9839b360",
   "metadata": {},
   "source": [
    "\n",
    "# 7. From the book table, select and print all columns in the order of publication."
   ]
  },
  {
   "cell_type": "code",
   "execution_count": 70,
   "id": "0b16549c",
   "metadata": {},
   "outputs": [
    {
     "name": "stdout",
     "output_type": "stream",
     "text": [
      "[('The Weirdstone of Brisingamen', 'Alan Garner', 1960), ('Small Gods', 'Terry Pratchett', 1992), ('Perdido Street Station', 'China Miéville', 2000), ('Thud!', 'Terry Pratchett', 2005), ('The Spellman Files', 'Lisa Lutz', 2007)]\n"
     ]
    }
   ],
   "source": [
    "import sqlite3\n",
    "db=sqlite3.connect('books.db')\n",
    "cursor=db.cursor()\n",
    "cursor.execute(\"select * from books order by year asc\")\n",
    "result = cursor.fetchall()\n",
    "print(result)\n",
    "cursor.close()\n",
    "db.commit()"
   ]
  },
  {
   "cell_type": "markdown",
   "id": "16ffadbc",
   "metadata": {},
   "source": [
    "\n",
    "# 8. Use the sqlalchemy module to connect to the sqlite3 database books.db that you just made in exercise 6."
   ]
  },
  {
   "cell_type": "code",
   "execution_count": 75,
   "id": "6172cd3a",
   "metadata": {},
   "outputs": [
    {
     "name": "stdout",
     "output_type": "stream",
     "text": [
      "('Perdido Street Station',)\n",
      "('Small Gods',)\n",
      "('The Spellman Files',)\n",
      "('The Weirdstone of Brisingamen',)\n",
      "('Thud!',)\n"
     ]
    }
   ],
   "source": [
    "import sqlalchemy\n",
    "engine=sqlalchemy.create_engine(\"sqlite:///books.db\")\n",
    "sql=\"select title from books order by title asc\"\n",
    "result = engine.execute(sql)\n",
    "for i in result:\n",
    "    print(i)\n"
   ]
  },
  {
   "cell_type": "markdown",
   "id": "8603b47c",
   "metadata": {},
   "source": [
    "\n",
    "# 9. Install the Redis server and the Python redis library (pip install redis) on your computer. Create a Redis hash called test with the fields count (1) and name (&#39;Fester Bestertester&#39;). Print all the fields for test."
   ]
  },
  {
   "cell_type": "markdown",
   "id": "0eb53454",
   "metadata": {},
   "source": [
    "<i><b>Redis full form is Remote Directory Server.\n",
    "    \n",
    "Redis is a NO-SQL in-memory remote database that offers high performance, replication, and a unique data model.</b></i>"
   ]
  },
  {
   "cell_type": "code",
   "execution_count": 76,
   "id": "b7a24487",
   "metadata": {},
   "outputs": [
    {
     "name": "stdout",
     "output_type": "stream",
     "text": [
      "Collecting redis\n",
      "  Downloading redis-4.3.3-py3-none-any.whl (244 kB)\n",
      "Requirement already satisfied: packaging>=20.4 in c:\\users\\vmuth\\anaconda3\\lib\\site-packages (from redis) (20.9)\n",
      "Collecting deprecated>=1.2.3\n",
      "  Downloading Deprecated-1.2.13-py2.py3-none-any.whl (9.6 kB)\n",
      "Collecting async-timeout>=4.0.2\n",
      "  Downloading async_timeout-4.0.2-py3-none-any.whl (5.8 kB)\n",
      "Requirement already satisfied: wrapt<2,>=1.10 in c:\\users\\vmuth\\anaconda3\\lib\\site-packages (from deprecated>=1.2.3->redis) (1.12.1)\n",
      "Requirement already satisfied: pyparsing>=2.0.2 in c:\\users\\vmuth\\anaconda3\\lib\\site-packages (from packaging>=20.4->redis) (2.4.7)\n",
      "Installing collected packages: deprecated, async-timeout, redis\n",
      "Successfully installed async-timeout-4.0.2 deprecated-1.2.13 redis-4.3.3\n",
      "Note: you may need to restart the kernel to use updated packages.\n"
     ]
    }
   ],
   "source": [
    "pip install redis"
   ]
  },
  {
   "attachments": {
    "image.png": {
     "image/png": "[encoded data removed]"
    }
   },
   "cell_type": "markdown",
   "id": "001f7a0c",
   "metadata": {},
   "source": [
    "# redis server.exe should be kept opened to establish connection\n",
    "\n",
    "![image.png](attachment:image.png)"
   ]
  },
  {
   "cell_type": "code",
   "execution_count": 13,
   "id": "18a7f213",
   "metadata": {},
   "outputs": [
    {
     "name": "stdout",
     "output_type": "stream",
     "text": [
      "True\n"
     ]
    },
    {
     "name": "stderr",
     "output_type": "stream",
     "text": [
      "<ipython-input-13-339c28f91c96>:5: DeprecationWarning: Redis.hmset() is deprecated. Use Redis.hset() instead.\n",
      "  conn.hmset('test', {'count': 1, 'name': 'Fester Bestertester'})\n"
     ]
    },
    {
     "data": {
      "text/plain": [
       "{b'count': b'1', b'name': b'Fester Bestertester'}"
      ]
     },
     "execution_count": 13,
     "metadata": {},
     "output_type": "execute_result"
    }
   ],
   "source": [
    "import redis\n",
    "conn = redis.Redis()\n",
    "print(conn.ping()) # to check whether connection is active / connected to Redis server from python\n",
    "#conn.delete('test')\n",
    "conn.hmset('test', {'count': 1, 'name': 'Fester Bestertester'})\n",
    "conn.hgetall('test')"
   ]
  },
  {
   "cell_type": "markdown",
   "id": "dc8beb91",
   "metadata": {},
   "source": [
    "\n",
    "# 10. Increment the count field of test and print it."
   ]
  },
  {
   "cell_type": "code",
   "execution_count": 14,
   "id": "0fba2404",
   "metadata": {},
   "outputs": [
    {
     "data": {
      "text/plain": [
       "4"
      ]
     },
     "execution_count": 14,
     "metadata": {},
     "output_type": "execute_result"
    }
   ],
   "source": [
    "conn.hincrby('test','count', 3)"
   ]
  },
  {
   "cell_type": "code",
   "execution_count": 15,
   "id": "6fb01e55",
   "metadata": {},
   "outputs": [
    {
     "name": "stdout",
     "output_type": "stream",
     "text": [
      "7\n"
     ]
    }
   ],
   "source": [
    "print(conn.hincrby('test','count', 3))"
   ]
  }
 ],
 "metadata": {
  "kernelspec": {
   "display_name": "Python 3",
   "language": "python",
   "name": "python3"
  },
  "language_info": {
   "codemirror_mode": {
    "name": "ipython",
    "version": 3
   },
   "file_extension": ".py",
   "mimetype": "text/x-python",
   "name": "python",
   "nbconvert_exporter": "python",
   "pygments_lexer": "ipython3",
   "version": "3.8.8"
  }
 },
 "nbformat": 4,
 "nbformat_minor": 5
}
