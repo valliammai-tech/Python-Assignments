{
 "cells": [
  {
   "cell_type": "markdown",
   "id": "0e842621",
   "metadata": {},
   "source": [
    "1) Search for the pattern $15 from given txt"
   ]
  },
  {
   "cell_type": "code",
   "execution_count": 1,
   "id": "58942d56",
   "metadata": {},
   "outputs": [],
   "source": [
    "txt = \"This book costs $15.\""
   ]
  },
  {
   "cell_type": "code",
   "execution_count": 2,
   "id": "91221963",
   "metadata": {},
   "outputs": [
    {
     "data": {
      "text/plain": [
       "'$15'"
      ]
     },
     "execution_count": 2,
     "metadata": {},
     "output_type": "execute_result"
    }
   ],
   "source": [
    "import re\n",
    "re.findall(\"\\$\\d+\",txt)[0]"
   ]
  },
  {
   "cell_type": "markdown",
   "id": "3faabdfe",
   "metadata": {},
   "source": [
    "2) Consider a text containing some Windows style directory addresses in which we have to find C:\\Windows\\System32 substring."
   ]
  },
  {
   "cell_type": "code",
   "execution_count": 3,
   "id": "fec2c720",
   "metadata": {},
   "outputs": [],
   "source": [
    "txt = \"\"\"\n",
    "C:\\Windows\n",
    "C:\\Python\n",
    "C:\\Windows\\System32\n",
    "\"\"\""
   ]
  },
  {
   "cell_type": "code",
   "execution_count": 4,
   "id": "dc573150",
   "metadata": {},
   "outputs": [
    {
     "data": {
      "text/plain": [
       "['C:\\\\Windows\\\\System32']"
      ]
     },
     "execution_count": 4,
     "metadata": {},
     "output_type": "execute_result"
    }
   ],
   "source": [
    "re.findall(\"\\w+:\\\\\\\\\\w+\\\\\\\\\\w+\",txt)"
   ]
  },
  {
   "cell_type": "markdown",
   "id": "e1f50725",
   "metadata": {},
   "source": [
    "Why are no matches found for above pattern?\n",
    "Still no match found. Why???\n",
    "Can we use 2 backslashes instead of 4 here?\n",
    "Do we really need to use 2 backslashes?"
   ]
  },
  {
   "cell_type": "code",
   "execution_count": 5,
   "id": "6108a65f",
   "metadata": {},
   "outputs": [
    {
     "data": {
      "text/plain": [
       "['C:\\\\Windows\\\\System32']"
      ]
     },
     "execution_count": 5,
     "metadata": {},
     "output_type": "execute_result"
    }
   ],
   "source": [
    "re.findall(r\"\\w+:\\\\\\w+\\\\\\w+\",txt)"
   ]
  },
  {
   "cell_type": "markdown",
   "id": "f7ba58a1",
   "metadata": {},
   "source": [
    "3) Create a function that highlights the regex matches"
   ]
  },
  {
   "cell_type": "code",
   "execution_count": 6,
   "id": "8e41466d",
   "metadata": {},
   "outputs": [],
   "source": [
    "from colorama import Back, Style\n",
    "\n",
    "def highlight_regex(pattern, text, print_output=True):\n",
    "    output = text\n",
    "    len_inc=0\n",
    "    for match in pattern.finditer(text):\n",
    "        start,end=match.start()+len_inc, match.end()+len_inc\n",
    "        output = output[:start] + Back.GREEN + Style.BRIGHT + output[start:end] + Style.RESET_ALL + output[end:]\n",
    "        len_inc = len(output) - len(text)  \n",
    "\n",
    "    if print_output:\n",
    "        print(output)\n",
    "    else:\n",
    "        return output        \n",
    "    "
   ]
  },
  {
   "cell_type": "markdown",
   "id": "1b512651",
   "metadata": {},
   "source": [
    "4) Example 1\n",
    "Consider an example below where we have messed up between license and licence spellings and want to find all occurances of license/licence in the text."
   ]
  },
  {
   "cell_type": "code",
   "execution_count": 7,
   "id": "5fbb1f4e",
   "metadata": {},
   "outputs": [],
   "source": [
    "txt = \"\"\"\n",
    "Yesterday, I was driving my car without a driving licence. The traffic police stopped me and asked me for my \n",
    "license. I told them that I forgot my licence at home. \n",
    "\"\"\""
   ]
  },
  {
   "cell_type": "code",
   "execution_count": 8,
   "id": "f2d95063",
   "metadata": {},
   "outputs": [
    {
     "data": {
      "text/plain": [
       "['licence', 'license', 'licence']"
      ]
     },
     "execution_count": 8,
     "metadata": {},
     "output_type": "execute_result"
    }
   ],
   "source": [
    "re.findall(\"licen[cs]e\",txt)"
   ]
  },
  {
   "cell_type": "code",
   "execution_count": 9,
   "id": "546ffb6f",
   "metadata": {},
   "outputs": [],
   "source": [
    "pattern=re.compile(\"licen[cs]e\")"
   ]
  },
  {
   "cell_type": "code",
   "execution_count": 10,
   "id": "45bc4386",
   "metadata": {},
   "outputs": [
    {
     "name": "stdout",
     "output_type": "stream",
     "text": [
      "\n",
      "Yesterday, I was driving my car without a driving \u001b[42m\u001b[1mlicence\u001b[0m. The traffic police stopped me and asked me for my \n",
      "\u001b[42m\u001b[1mlicense\u001b[0m. I told them that I forgot my \u001b[42m\u001b[1mlicence\u001b[0m at home. \n",
      "\n"
     ]
    }
   ],
   "source": [
    "highlight_regex(pattern,txt)"
   ]
  },
  {
   "cell_type": "markdown",
   "id": "3b8f9b80",
   "metadata": {},
   "source": [
    "5) Let us consider an example in which we want to retrieve all the years from the given text."
   ]
  },
  {
   "cell_type": "code",
   "execution_count": 11,
   "id": "9d6e9e0f",
   "metadata": {},
   "outputs": [],
   "source": [
    "txt = \"\"\"\n",
    "The first season of Indian Premiere League (IPL) was played in 2008. \n",
    "The second season was played in 2009 in South Africa. \n",
    "Last season was played in 2018 and won by Chennai Super Kings (CSK).\n",
    "CSK won the title in 2010 and 2011 as well.\n",
    "Mumbai Indians (MI) has also won the title 3 times in 2013, 2015 and 2017.\n",
    "\"\"\""
   ]
  },
  {
   "cell_type": "code",
   "execution_count": 12,
   "id": "ca59a0a9",
   "metadata": {},
   "outputs": [
    {
     "data": {
      "text/plain": [
       "['2008', '2009', '2018', '2010', '2011', '2013', '2015', '2017']"
      ]
     },
     "execution_count": 12,
     "metadata": {},
     "output_type": "execute_result"
    }
   ],
   "source": [
    "re.findall(\"\\d{4}\",txt)"
   ]
  },
  {
   "cell_type": "code",
   "execution_count": 13,
   "id": "fea24e1f",
   "metadata": {},
   "outputs": [
    {
     "name": "stdout",
     "output_type": "stream",
     "text": [
      "\n",
      "The first season of Indian Premiere League (IPL) was played in \u001b[42m\u001b[1m2008\u001b[0m. \n",
      "The second season was played in \u001b[42m\u001b[1m2009\u001b[0m in South Africa. \n",
      "Last season was played in \u001b[42m\u001b[1m2018\u001b[0m and won by Chennai Super Kings (CSK).\n",
      "CSK won the title in \u001b[42m\u001b[1m2010\u001b[0m and \u001b[42m\u001b[1m2011\u001b[0m as well.\n",
      "Mumbai Indians (MI) has also won the title 3 times in \u001b[42m\u001b[1m2013\u001b[0m, \u001b[42m\u001b[1m2015\u001b[0m and \u001b[42m\u001b[1m2017\u001b[0m.\n",
      "\n"
     ]
    }
   ],
   "source": [
    "pattern=re.compile(\"\\d{4}\")\n",
    "highlight_regex(pattern,txt)"
   ]
  },
  {
   "cell_type": "markdown",
   "id": "dac1da84",
   "metadata": {},
   "source": [
    "6) Consider a scenario where you want to find all occurances of and, or, the in a given text.\n",
    "\n",
    "One way is to write and execute 3 separate regular expressions. Using alteration, it can be done in a single regular expression!"
   ]
  },
  {
   "cell_type": "code",
   "execution_count": 14,
   "id": "93461a27",
   "metadata": {},
   "outputs": [],
   "source": [
    "txt = \"\"\"\n",
    "the most common conjunctions are and, or and but.\n",
    "\"\"\""
   ]
  },
  {
   "cell_type": "code",
   "execution_count": 15,
   "id": "551c146d",
   "metadata": {},
   "outputs": [
    {
     "data": {
      "text/plain": [
       "['the', 'and', 'or', 'and']"
      ]
     },
     "execution_count": 15,
     "metadata": {},
     "output_type": "execute_result"
    }
   ],
   "source": [
    "re.findall(\"and|or|the\", txt)"
   ]
  },
  {
   "cell_type": "code",
   "execution_count": 16,
   "id": "ed7398a6",
   "metadata": {},
   "outputs": [
    {
     "name": "stdout",
     "output_type": "stream",
     "text": [
      "\n",
      "\u001b[42m\u001b[1mthe\u001b[0m most common conjunctions are \u001b[42m\u001b[1mand\u001b[0m, \u001b[42m\u001b[1mor\u001b[0m \u001b[42m\u001b[1mand\u001b[0m but.\n",
      "\n"
     ]
    }
   ],
   "source": [
    "pattern=re.compile(\"and|or|the\")\n",
    "highlight_regex(pattern,txt)"
   ]
  },
  {
   "cell_type": "markdown",
   "id": "c82f10e5",
   "metadata": {},
   "source": [
    "7) Consider one more example now in which we want to search the substrings What is and Who is"
   ]
  },
  {
   "cell_type": "code",
   "execution_count": 17,
   "id": "3078f882",
   "metadata": {},
   "outputs": [],
   "source": [
    "txt = \"\"\"\n",
    "What is your name?\n",
    "Who is that guy?\n",
    "\"\"\""
   ]
  },
  {
   "cell_type": "code",
   "execution_count": 18,
   "id": "10021d38",
   "metadata": {},
   "outputs": [
    {
     "data": {
      "text/plain": [
       "['What is', 'Who is']"
      ]
     },
     "execution_count": 18,
     "metadata": {},
     "output_type": "execute_result"
    }
   ],
   "source": [
    "re.findall(\"[What|Who]+\\sis\",txt)"
   ]
  },
  {
   "cell_type": "code",
   "execution_count": 19,
   "id": "44304133",
   "metadata": {},
   "outputs": [
    {
     "name": "stdout",
     "output_type": "stream",
     "text": [
      "\n",
      "\u001b[42m\u001b[1mWhat is\u001b[0m your name?\n",
      "\u001b[42m\u001b[1mWho is\u001b[0m that guy?\n",
      "\n"
     ]
    }
   ],
   "source": [
    "pattern=re.compile(\"[What|Who]+\\sis\")\n",
    "highlight_regex(pattern,txt)"
   ]
  },
  {
   "cell_type": "markdown",
   "id": "906a58f5",
   "metadata": {},
   "source": [
    "Quantifiers:\n",
    "\n",
    "Example 1\n",
    "8) Find all the matches for dog and dogs in the given text."
   ]
  },
  {
   "cell_type": "code",
   "execution_count": 20,
   "id": "bb2574c8",
   "metadata": {},
   "outputs": [],
   "source": [
    "txt = \"\"\"\n",
    "I have 2 dogs. One dog is 1 year old and other one is 2 years old. Both dogs are very cute! \n",
    "\"\"\""
   ]
  },
  {
   "cell_type": "code",
   "execution_count": 21,
   "id": "a81f1681",
   "metadata": {},
   "outputs": [
    {
     "data": {
      "text/plain": [
       "['dogs', 'dog', 'dogs']"
      ]
     },
     "execution_count": 21,
     "metadata": {},
     "output_type": "execute_result"
    }
   ],
   "source": [
    "re.findall(\"dog[s]?\",txt)"
   ]
  },
  {
   "cell_type": "code",
   "execution_count": 22,
   "id": "3b3b5cbc",
   "metadata": {},
   "outputs": [
    {
     "name": "stdout",
     "output_type": "stream",
     "text": [
      "\n",
      "I have 2 \u001b[42m\u001b[1mdogs\u001b[0m. One \u001b[42m\u001b[1mdog\u001b[0m is 1 year old and other one is 2 years old. Both \u001b[42m\u001b[1mdogs\u001b[0m are very cute! \n",
      "\n"
     ]
    }
   ],
   "source": [
    "pattern=re.compile(\"dog[s]?\")\n",
    "highlight_regex(pattern,txt)"
   ]
  },
  {
   "cell_type": "markdown",
   "id": "fb0b3f30",
   "metadata": {},
   "source": [
    "Example 2\n",
    "\n",
    "9) Find all filenames starting with file and ending with .txt in the given text."
   ]
  },
  {
   "cell_type": "code",
   "execution_count": 23,
   "id": "c22e449e",
   "metadata": {},
   "outputs": [],
   "source": [
    "txt = \"\"\"\n",
    "file1.txt\n",
    "file_one.txt\n",
    "file.txt\n",
    "fil.txt\n",
    "file.xml\n",
    "file-1.txt\n",
    "\"\"\""
   ]
  },
  {
   "cell_type": "code",
   "execution_count": 24,
   "id": "dde4dfea",
   "metadata": {},
   "outputs": [
    {
     "data": {
      "text/plain": [
       "['file1.txt', 'file_one.txt', 'file.txt', 'file-1.txt']"
      ]
     },
     "execution_count": 24,
     "metadata": {},
     "output_type": "execute_result"
    }
   ],
   "source": [
    "re.findall(\"fil[\\w-]+\\.txt\",txt)"
   ]
  },
  {
   "cell_type": "code",
   "execution_count": 25,
   "id": "04b5b057",
   "metadata": {},
   "outputs": [
    {
     "name": "stdout",
     "output_type": "stream",
     "text": [
      "\n",
      "\u001b[42m\u001b[1mfile1.txt\u001b[0m\n",
      "\u001b[42m\u001b[1mfile_one.txt\u001b[0m\n",
      "\u001b[42m\u001b[1mfile.txt\u001b[0m\n",
      "fil.txt\n",
      "file.xml\n",
      "\u001b[42m\u001b[1mfile-1.txt\u001b[0m\n",
      "\n"
     ]
    }
   ],
   "source": [
    "highlight_regex(re.compile(\"fil[\\w-]+\\.txt\"),txt)"
   ]
  },
  {
   "cell_type": "markdown",
   "id": "c6eb56b7",
   "metadata": {},
   "source": [
    "Example 3\n",
    "\n",
    "10) Find all filenames starting with file followed by 1 or more digits and ending with .txt in the given text."
   ]
  },
  {
   "cell_type": "code",
   "execution_count": 26,
   "id": "9e225ca8",
   "metadata": {},
   "outputs": [],
   "source": [
    "txt = \"\"\"\n",
    "file1.txt\n",
    "file_one.txt\n",
    "file09.txt\n",
    "fil.txt\n",
    "file23.xml\n",
    "file.txt\n",
    "\"\"\""
   ]
  },
  {
   "cell_type": "code",
   "execution_count": 27,
   "id": "f73ac3e9",
   "metadata": {},
   "outputs": [
    {
     "data": {
      "text/plain": [
       "['file1.txt', 'file09.txt']"
      ]
     },
     "execution_count": 27,
     "metadata": {},
     "output_type": "execute_result"
    }
   ],
   "source": [
    "re.findall(\"file\\d+\\.txt\",txt)"
   ]
  },
  {
   "cell_type": "code",
   "execution_count": 28,
   "id": "b44d726e",
   "metadata": {},
   "outputs": [
    {
     "name": "stdout",
     "output_type": "stream",
     "text": [
      "\n",
      "\u001b[42m\u001b[1mfile1.txt\u001b[0m\n",
      "file_one.txt\n",
      "\u001b[42m\u001b[1mfile09.txt\u001b[0m\n",
      "fil.txt\n",
      "file23.xml\n",
      "file.txt\n",
      "\n"
     ]
    }
   ],
   "source": [
    "highlight_regex(re.compile(\"file\\d+\\.txt\"),txt)"
   ]
  },
  {
   "cell_type": "markdown",
   "id": "046cf435",
   "metadata": {},
   "source": [
    "Example 4\n",
    "\n",
    "11) Find years in the given text."
   ]
  },
  {
   "cell_type": "code",
   "execution_count": 29,
   "id": "28d43b74",
   "metadata": {},
   "outputs": [],
   "source": [
    "txt = \"\"\"\n",
    "The first season of Indian Premiere League (IPL) was played in 2008. \n",
    "The second season was played in 2009 in South Africa. \n",
    "Last season was played in 2018 and won by Chennai Super Kings (CSK).\n",
    "CSK won the title in 2010 and 2011 as well.\n",
    "Mumbai Indians (MI) has also won the title 3 times in 2013, 2015 and 2017.\n",
    "\"\"\""
   ]
  },
  {
   "cell_type": "code",
   "execution_count": 30,
   "id": "6bb47960",
   "metadata": {},
   "outputs": [
    {
     "data": {
      "text/plain": [
       "['2008', '2009', '2018', '2010', '2011', '2013', '2015', '2017']"
      ]
     },
     "execution_count": 30,
     "metadata": {},
     "output_type": "execute_result"
    }
   ],
   "source": [
    "re.findall(\"\\d{4}\",txt)"
   ]
  },
  {
   "cell_type": "code",
   "execution_count": 31,
   "id": "0a548366",
   "metadata": {},
   "outputs": [
    {
     "name": "stdout",
     "output_type": "stream",
     "text": [
      "\n",
      "The first season of Indian Premiere League (IPL) was played in \u001b[42m\u001b[1m2008\u001b[0m. \n",
      "The second season was played in \u001b[42m\u001b[1m2009\u001b[0m in South Africa. \n",
      "Last season was played in \u001b[42m\u001b[1m2018\u001b[0m and won by Chennai Super Kings (CSK).\n",
      "CSK won the title in \u001b[42m\u001b[1m2010\u001b[0m and \u001b[42m\u001b[1m2011\u001b[0m as well.\n",
      "Mumbai Indians (MI) has also won the title 3 times in \u001b[42m\u001b[1m2013\u001b[0m, \u001b[42m\u001b[1m2015\u001b[0m and \u001b[42m\u001b[1m2017\u001b[0m.\n",
      "\n"
     ]
    }
   ],
   "source": [
    "highlight_regex(re.compile(\"\\d{4}\"),txt)"
   ]
  },
  {
   "cell_type": "markdown",
   "id": "955c9f7e",
   "metadata": {},
   "source": [
    "Example 5\n",
    "\n",
    "12) In the given text, filter out all 4 or more digit numbers."
   ]
  },
  {
   "cell_type": "code",
   "execution_count": 32,
   "id": "e3222e4d",
   "metadata": {},
   "outputs": [],
   "source": [
    "txt = \"\"\"\n",
    "123143\n",
    "432\n",
    "5657\n",
    "4435\n",
    "54\n",
    "65111\n",
    "\"\"\""
   ]
  },
  {
   "cell_type": "code",
   "execution_count": 33,
   "id": "68bea171",
   "metadata": {},
   "outputs": [
    {
     "data": {
      "text/plain": [
       "['123143', '5657', '4435', '65111']"
      ]
     },
     "execution_count": 33,
     "metadata": {},
     "output_type": "execute_result"
    }
   ],
   "source": [
    "re.findall(\"\\d{4,}\",txt)"
   ]
  },
  {
   "cell_type": "code",
   "execution_count": 34,
   "id": "1ba2ce41",
   "metadata": {},
   "outputs": [
    {
     "name": "stdout",
     "output_type": "stream",
     "text": [
      "\n",
      "\u001b[42m\u001b[1m123143\u001b[0m\n",
      "432\n",
      "\u001b[42m\u001b[1m5657\u001b[0m\n",
      "\u001b[42m\u001b[1m4435\u001b[0m\n",
      "54\n",
      "\u001b[42m\u001b[1m65111\u001b[0m\n",
      "\n"
     ]
    }
   ],
   "source": [
    "highlight_regex(re.compile(\"\\d{4,}\"),txt)"
   ]
  },
  {
   "cell_type": "markdown",
   "id": "28d5a56c",
   "metadata": {},
   "source": [
    "Example 6\n",
    "\n",
    "13) Write a pattern to validate telephone numbers.\n",
    "\n",
    "Telephone numbers can be of the form: 555-555-5555, 555 555 5555, 5555555555"
   ]
  },
  {
   "cell_type": "code",
   "execution_count": 35,
   "id": "0eec7221",
   "metadata": {},
   "outputs": [],
   "source": [
    "txt = \"\"\"\n",
    "555-555-5555\n",
    "555 555 5555\n",
    "5555555555\n",
    "\"\"\""
   ]
  },
  {
   "cell_type": "code",
   "execution_count": 36,
   "id": "de5e8cfb",
   "metadata": {},
   "outputs": [
    {
     "data": {
      "text/plain": [
       "['555-555-5555', '555 555 5555', '5555555555']"
      ]
     },
     "execution_count": 36,
     "metadata": {},
     "output_type": "execute_result"
    }
   ],
   "source": [
    "re.findall(\"\\d{3}[-\\s]?\\d{3}[-\\s]?\\d{4}\",txt)"
   ]
  },
  {
   "cell_type": "code",
   "execution_count": 37,
   "id": "4cf7631a",
   "metadata": {},
   "outputs": [
    {
     "name": "stdout",
     "output_type": "stream",
     "text": [
      "\n",
      "\u001b[42m\u001b[1m555-555-5555\u001b[0m\n",
      "\u001b[42m\u001b[1m555 555 5555\u001b[0m\n",
      "\u001b[42m\u001b[1m5555555555\u001b[0m\n",
      "\n"
     ]
    }
   ],
   "source": [
    "pattern=re.compile(\"\\d{3}[-\\s]?\\d{3}[-\\s]?\\d{4}\")\n",
    "highlight_regex(pattern,txt)"
   ]
  },
  {
   "cell_type": "markdown",
   "id": "b88a8d7f",
   "metadata": {},
   "source": [
    "Greedy and Non-Greedy Quantifiers\n",
    "\n",
    "\n",
    "14) Let's consider an example to find pattern of words within < and > and differentiate between greedy and non greedy behaviour"
   ]
  },
  {
   "cell_type": "code",
   "execution_count": 38,
   "id": "795b496c",
   "metadata": {},
   "outputs": [],
   "source": [
    "txt = \"\"\"<html><head><title>Title</title>\"\"\""
   ]
  },
  {
   "cell_type": "code",
   "execution_count": 39,
   "id": "242028f0",
   "metadata": {},
   "outputs": [
    {
     "data": {
      "text/plain": [
       "['<html>', '<head>', '<title>']"
      ]
     },
     "execution_count": 39,
     "metadata": {},
     "output_type": "execute_result"
    }
   ],
   "source": [
    "re.findall(\"\\<\\w+\\>\",txt)"
   ]
  },
  {
   "cell_type": "code",
   "execution_count": 40,
   "id": "94713dc7",
   "metadata": {},
   "outputs": [
    {
     "data": {
      "text/plain": [
       "['<html><head><title>Title</title>']"
      ]
     },
     "execution_count": 40,
     "metadata": {},
     "output_type": "execute_result"
    }
   ],
   "source": [
    "#Greedy Search\n",
    "re.findall(\"<.*>\",txt)"
   ]
  },
  {
   "cell_type": "code",
   "execution_count": 41,
   "id": "533999c1",
   "metadata": {},
   "outputs": [
    {
     "data": {
      "text/plain": [
       "['<html>', '<head>', '<title>', '</title>']"
      ]
     },
     "execution_count": 41,
     "metadata": {},
     "output_type": "execute_result"
    }
   ],
   "source": [
    "#Non Greedy Search (??, *?, +?)\n",
    "re.findall(\"<.*?>\",txt)"
   ]
  },
  {
   "cell_type": "code",
   "execution_count": 42,
   "id": "3a21821e",
   "metadata": {},
   "outputs": [
    {
     "name": "stdout",
     "output_type": "stream",
     "text": [
      "\u001b[42m\u001b[1m<html>\u001b[0m\u001b[42m\u001b[1m<head>\u001b[0m\u001b[42m\u001b[1m<title>\u001b[0mTitle\u001b[42m\u001b[1m</title>\u001b[0m\n"
     ]
    }
   ],
   "source": [
    "highlight_regex(re.compile(\"<.*?>\"),txt)"
   ]
  },
  {
   "cell_type": "markdown",
   "id": "fd0fb8fe",
   "metadata": {},
   "source": [
    "15) Boundary Matches \n",
    "\n",
    "Consider a scenario where you want to find all occurances of and, or and the in the given text."
   ]
  },
  {
   "cell_type": "code",
   "execution_count": 43,
   "id": "c6a0c846",
   "metadata": {},
   "outputs": [],
   "source": [
    "txt = \"\"\"\n",
    "Lorem Ipsum is simply dummy text of the printing and typesetting industry. \n",
    "Lorem Ipsum has been the industry's standard dummy text ever since the 1500s, \n",
    "when an unknown printer took a galley of type and scrambled it to make a type specimen book. \n",
    "It has survived not only five centuries, but also the leap into electronic typesetting, \n",
    "remaining essentially unchanged. \n",
    "It was popularised in the 1960s with the release of Letraset sheets containing Lorem Ipsum passages, \n",
    "and more recently with desktop publishing software like Aldus PageMaker including versions of Lorem Ipsum.\n",
    "\"\"\""
   ]
  },
  {
   "cell_type": "code",
   "execution_count": 44,
   "id": "7d751e7b",
   "metadata": {},
   "outputs": [
    {
     "data": {
      "text/plain": [
       "['or',\n",
       " 'the',\n",
       " 'and',\n",
       " 'or',\n",
       " 'the',\n",
       " 'and',\n",
       " 'the',\n",
       " 'and',\n",
       " 'the',\n",
       " 'the',\n",
       " 'the',\n",
       " 'or',\n",
       " 'and',\n",
       " 'or',\n",
       " 'or']"
      ]
     },
     "execution_count": 44,
     "metadata": {},
     "output_type": "execute_result"
    }
   ],
   "source": [
    "re.findall(\"and|or|the\",txt)"
   ]
  },
  {
   "cell_type": "code",
   "execution_count": 45,
   "id": "d2085dad",
   "metadata": {},
   "outputs": [
    {
     "name": "stdout",
     "output_type": "stream",
     "text": [
      "\n",
      "L\u001b[42m\u001b[1mor\u001b[0mem Ipsum is simply dummy text of \u001b[42m\u001b[1mthe\u001b[0m printing \u001b[42m\u001b[1mand\u001b[0m typesetting industry. \n",
      "L\u001b[42m\u001b[1mor\u001b[0mem Ipsum has been \u001b[42m\u001b[1mthe\u001b[0m industry's st\u001b[42m\u001b[1mand\u001b[0mard dummy text ever since \u001b[42m\u001b[1mthe\u001b[0m 1500s, \n",
      "when an unknown printer took a galley of type \u001b[42m\u001b[1mand\u001b[0m scrambled it to make a type specimen book. \n",
      "It has survived not only five centuries, but also \u001b[42m\u001b[1mthe\u001b[0m leap into electronic typesetting, \n",
      "remaining essentially unchanged. \n",
      "It was popularised in \u001b[42m\u001b[1mthe\u001b[0m 1960s with \u001b[42m\u001b[1mthe\u001b[0m release of Letraset sheets containing L\u001b[42m\u001b[1mor\u001b[0mem Ipsum passages, \n",
      "\u001b[42m\u001b[1mand\u001b[0m m\u001b[42m\u001b[1mor\u001b[0me recently with desktop publishing software like Aldus PageMaker including versions of L\u001b[42m\u001b[1mor\u001b[0mem Ipsum.\n",
      "\n"
     ]
    }
   ],
   "source": [
    "highlight_regex(re.compile(\"and|or|the\"),txt) \n",
    "#Non Boundary words like or in lorem picked up. hence, we need to boundary "
   ]
  },
  {
   "cell_type": "code",
   "execution_count": 46,
   "id": "b5479d26",
   "metadata": {},
   "outputs": [
    {
     "name": "stdout",
     "output_type": "stream",
     "text": [
      "\n",
      "Lorem Ipsum is simply dummy text of the printing and typesetting industry. \n",
      "Lorem Ipsum has been the industry's standard dummy text ever since the 1500s, \n",
      "when an unknown printer took a galley of type and scrambled it to make a type specimen book. \n",
      "It has survived not only five centuries, but also the leap into electronic typesetting, \n",
      "remaining essentially unchanged. \n",
      "It was popularised in the 1960s with the release of Letraset sheets containing Lorem Ipsum passages, \n",
      "and more recently with desktop publishing software like Aldus PageMaker including versions of Lorem Ipsum.\n",
      "\n"
     ]
    }
   ],
   "source": [
    "highlight_regex(re.compile(\"\\b(and|or|the)\\b\"),txt) "
   ]
  },
  {
   "cell_type": "code",
   "execution_count": 47,
   "id": "6c8b20e1",
   "metadata": {},
   "outputs": [
    {
     "name": "stdout",
     "output_type": "stream",
     "text": [
      "\n",
      "Lorem Ipsum is simply dummy text of \u001b[42m\u001b[1mthe\u001b[0m printing \u001b[42m\u001b[1mand\u001b[0m typesetting industry. \n",
      "Lorem Ipsum has been \u001b[42m\u001b[1mthe\u001b[0m industry's standard dummy text ever since \u001b[42m\u001b[1mthe\u001b[0m 1500s, \n",
      "when an unknown printer took a galley of type \u001b[42m\u001b[1mand\u001b[0m scrambled it to make a type specimen book. \n",
      "It has survived not only five centuries, but also \u001b[42m\u001b[1mthe\u001b[0m leap into electronic typesetting, \n",
      "remaining essentially unchanged. \n",
      "It was popularised in \u001b[42m\u001b[1mthe\u001b[0m 1960s with \u001b[42m\u001b[1mthe\u001b[0m release of Letraset sheets containing Lorem Ipsum passages, \n",
      "\u001b[42m\u001b[1mand\u001b[0m more recently with desktop publishing software like Aldus PageMaker including versions of Lorem Ipsum.\n",
      "\n"
     ]
    }
   ],
   "source": [
    "highlight_regex(re.compile(\"\\\\b(and|or|the)\\\\b\"),txt) "
   ]
  },
  {
   "cell_type": "markdown",
   "id": "559408c5",
   "metadata": {},
   "source": [
    "16)  Consider a scenario where we want to find all the lines in the given text which start with the pattern Name:."
   ]
  },
  {
   "cell_type": "code",
   "execution_count": 48,
   "id": "59ee18a1",
   "metadata": {},
   "outputs": [],
   "source": [
    "txt = \"\"\"\n",
    "Name:\n",
    "Age: 0\n",
    "Roll No.: 15\n",
    "Grade: S\n",
    "\n",
    "Name: Ravi\n",
    "Age: -1\n",
    "Roll No.: 123 Name: ABC\n",
    "Grade: K\n",
    "\n",
    "Name: Ram\n",
    "Age: N/A\n",
    "Roll No.: 1\n",
    "Grade: G\n",
    "\"\"\""
   ]
  },
  {
   "cell_type": "code",
   "execution_count": 49,
   "id": "88414856",
   "metadata": {},
   "outputs": [
    {
     "data": {
      "text/plain": [
       "['Name:', 'Name: Ravi', 'Name: Ram']"
      ]
     },
     "execution_count": 49,
     "metadata": {},
     "output_type": "execute_result"
    }
   ],
   "source": [
    "re.findall(\"^Name:.*\",txt, flags=re.M)"
   ]
  },
  {
   "cell_type": "markdown",
   "id": "a8926f29",
   "metadata": {},
   "source": [
    "17) Find all the sentences which do not end with a full stop (.) in the given text."
   ]
  },
  {
   "cell_type": "code",
   "execution_count": 50,
   "id": "fe259e2c",
   "metadata": {},
   "outputs": [],
   "source": [
    "txt = \"\"\"\n",
    "Lorem Ipsum is simply dummy text of the printing and typesetting industry.\n",
    "Lorem Ipsum has been the industry's standard dummy text ever since the 1500s!\n",
    "It has survived not only five centuries, but also the leap into electronic typesetting, remaining essentially unchanged.\n",
    "It was popularised in the 1960s with the release of Letraset sheets containing Lorem Ipsum passages\n",
    "More recently with desktop publishing software like Aldus PageMaker including versions of Lorem Ipsum.\"\"\""
   ]
  },
  {
   "cell_type": "code",
   "execution_count": 51,
   "id": "0c3e478d",
   "metadata": {},
   "outputs": [
    {
     "data": {
      "text/plain": [
       "[\"Lorem Ipsum has been the industry's standard dummy text ever since the 1500s!\",\n",
       " 'It was popularised in the 1960s with the release of Letraset sheets containing Lorem Ipsum passages']"
      ]
     },
     "execution_count": 51,
     "metadata": {},
     "output_type": "execute_result"
    }
   ],
   "source": [
    "re.findall(\"^.+[^\\.]$\", txt, flags=re.M)"
   ]
  },
  {
   "cell_type": "code",
   "execution_count": 52,
   "id": "292381fe",
   "metadata": {},
   "outputs": [
    {
     "name": "stdout",
     "output_type": "stream",
     "text": [
      "\n",
      "Lorem Ipsum is simply dummy text of the printing and typesetting industry.\n",
      "\u001b[42m\u001b[1mLorem Ipsum has been the industry's standard dummy text ever since the 1500s!\u001b[0m\n",
      "It has survived not only five centuries, but also the leap into electronic typesetting, remaining essentially unchanged.\n",
      "\u001b[42m\u001b[1mIt was popularised in the 1960s with the release of Letraset sheets containing Lorem Ipsum passages\u001b[0m\n",
      "More recently with desktop publishing software like Aldus PageMaker including versions of Lorem Ipsum.\n"
     ]
    }
   ],
   "source": [
    "highlight_regex(re.compile(\"^.+[^\\.]$\",flags=re.M),txt)"
   ]
  },
  {
   "cell_type": "markdown",
   "id": "e4a96fb2",
   "metadata": {},
   "source": [
    "18) Let us try to split a string to get individual lines in it."
   ]
  },
  {
   "cell_type": "code",
   "execution_count": 53,
   "id": "91c56371",
   "metadata": {},
   "outputs": [],
   "source": [
    "txt = \"\"\"Beautiful is better than ugly.\n",
    "Explicit is better than implicit.\n",
    "Simple is better than complex.\n",
    "Complex is better than complicated.\"\"\""
   ]
  },
  {
   "cell_type": "code",
   "execution_count": 54,
   "id": "5c0f60de",
   "metadata": {},
   "outputs": [
    {
     "data": {
      "text/plain": [
       "['Beautiful is better than ugly.',\n",
       " 'Explicit is better than implicit.',\n",
       " 'Simple is better than complex.',\n",
       " 'Complex is better than complicated.']"
      ]
     },
     "execution_count": 54,
     "metadata": {},
     "output_type": "execute_result"
    }
   ],
   "source": [
    "re.compile(\"\\n\").split(txt)"
   ]
  },
  {
   "cell_type": "markdown",
   "id": "2a2d895e",
   "metadata": {},
   "source": [
    "19) Let us try same example in which we want to get all the words in the given text."
   ]
  },
  {
   "cell_type": "code",
   "execution_count": 55,
   "id": "355fe313",
   "metadata": {},
   "outputs": [
    {
     "data": {
      "text/plain": [
       "['Beautiful',\n",
       " 'is',\n",
       " 'better',\n",
       " 'than',\n",
       " 'ugly',\n",
       " '',\n",
       " 'Explicit',\n",
       " 'is',\n",
       " 'better',\n",
       " 'than',\n",
       " 'implicit',\n",
       " '',\n",
       " 'Simple',\n",
       " 'is',\n",
       " 'better',\n",
       " 'than',\n",
       " 'complex',\n",
       " '',\n",
       " 'Complex',\n",
       " 'is',\n",
       " 'better',\n",
       " 'than',\n",
       " 'complicated',\n",
       " '']"
      ]
     },
     "execution_count": 55,
     "metadata": {},
     "output_type": "execute_result"
    }
   ],
   "source": [
    "re.compile(\"\\W\").split(txt)"
   ]
  },
  {
   "cell_type": "markdown",
   "id": "00111f23",
   "metadata": {},
   "source": [
    "20) What is we want only first 3 words? We need to split only 3 times in this case"
   ]
  },
  {
   "cell_type": "code",
   "execution_count": 56,
   "id": "e0d99f85",
   "metadata": {},
   "outputs": [
    {
     "data": {
      "text/plain": [
       "['Beautiful',\n",
       " 'is',\n",
       " 'better',\n",
       " 'than ugly.\\nExplicit is better than implicit.\\nSimple is better than complex.\\nComplex is better than complicated.']"
      ]
     },
     "execution_count": 56,
     "metadata": {},
     "output_type": "execute_result"
    }
   ],
   "source": [
    "re.compile(\"\\W\").split(txt,maxsplit=3)"
   ]
  },
  {
   "cell_type": "markdown",
   "id": "5b5252cf",
   "metadata": {},
   "source": [
    "21) Substitution\n",
    "\n",
    "Let us consider a case where we want to replace all occurances of numbers with a - in the given text.\n",
    "\n",
    "Differentiate between 2 different substitute functions"
   ]
  },
  {
   "cell_type": "code",
   "execution_count": 57,
   "id": "7f0fbd2b",
   "metadata": {},
   "outputs": [],
   "source": [
    "txt = \"100 cats, 23 dogs, 3 rabbits\""
   ]
  },
  {
   "cell_type": "code",
   "execution_count": 58,
   "id": "f2c1fea5",
   "metadata": {},
   "outputs": [
    {
     "data": {
      "text/plain": [
       "['100', '23', '3']"
      ]
     },
     "execution_count": 58,
     "metadata": {},
     "output_type": "execute_result"
    }
   ],
   "source": [
    "re.findall(\"\\d+\",txt)"
   ]
  },
  {
   "cell_type": "code",
   "execution_count": 59,
   "id": "173d4fcb",
   "metadata": {},
   "outputs": [
    {
     "data": {
      "text/plain": [
       "'- cats, - dogs, - rabbits'"
      ]
     },
     "execution_count": 59,
     "metadata": {},
     "output_type": "execute_result"
    }
   ],
   "source": [
    "re.sub(re.compile(\"\\d+\"),\"-\",txt)"
   ]
  },
  {
   "cell_type": "markdown",
   "id": "21a7177f",
   "metadata": {},
   "source": [
    "Compilation Flags\n",
    "\n",
    "22) Let's check out an example to find all occurances of the and The in the given text."
   ]
  },
  {
   "cell_type": "code",
   "execution_count": 60,
   "id": "706d11dc",
   "metadata": {},
   "outputs": [],
   "source": [
    "txt = \"\"\"\n",
    "The best thing about regex is that it makes the task of string manipulation so easy.\n",
    "\"\"\""
   ]
  },
  {
   "cell_type": "code",
   "execution_count": 61,
   "id": "fd20de65",
   "metadata": {},
   "outputs": [
    {
     "data": {
      "text/plain": [
       "['The', 'the']"
      ]
     },
     "execution_count": 61,
     "metadata": {},
     "output_type": "execute_result"
    }
   ],
   "source": [
    "re.findall(\"the\",txt,flags=re.I)"
   ]
  },
  {
   "cell_type": "code",
   "execution_count": 62,
   "id": "a6aa23d9",
   "metadata": {},
   "outputs": [
    {
     "name": "stdout",
     "output_type": "stream",
     "text": [
      "\n",
      "\u001b[42m\u001b[1mThe\u001b[0m best thing about regex is that it makes \u001b[42m\u001b[1mthe\u001b[0m task of string manipulation so easy.\n",
      "\n"
     ]
    }
   ],
   "source": [
    "highlight_regex(re.compile(\"the\",flags=re.I),txt)"
   ]
  },
  {
   "cell_type": "markdown",
   "id": "dcc1d00f",
   "metadata": {},
   "source": [
    "23) Let's check out an example to find all lines starting with A."
   ]
  },
  {
   "cell_type": "code",
   "execution_count": 63,
   "id": "99a70f99",
   "metadata": {},
   "outputs": [],
   "source": [
    "txt = \"\"\"\n",
    "A man was crossing the road.\n",
    "Suddenly, a car passed before him in a very high speed.\n",
    "He was terrified\n",
    "And shocked.\n",
    "\"\"\""
   ]
  },
  {
   "cell_type": "code",
   "execution_count": 64,
   "id": "3a35eb19",
   "metadata": {},
   "outputs": [
    {
     "data": {
      "text/plain": [
       "['A man was crossing the road.', 'And shocked.']"
      ]
     },
     "execution_count": 64,
     "metadata": {},
     "output_type": "execute_result"
    }
   ],
   "source": [
    "re.findall(\"^A.*\",txt, flags=re.M)"
   ]
  },
  {
   "cell_type": "code",
   "execution_count": 65,
   "id": "76b784a4",
   "metadata": {},
   "outputs": [
    {
     "name": "stdout",
     "output_type": "stream",
     "text": [
      "\n",
      "\u001b[42m\u001b[1mA man was crossing the road.\u001b[0m\n",
      "Suddenly, a car passed before him in a very high speed.\n",
      "He was terrified\n",
      "\u001b[42m\u001b[1mAnd shocked.\u001b[0m\n",
      "\n"
     ]
    }
   ],
   "source": [
    "highlight_regex(re.compile(\"^A.*\",flags=re.M),txt)"
   ]
  },
  {
   "cell_type": "markdown",
   "id": "53086f4e",
   "metadata": {},
   "source": [
    "24) Let's consider an examle to match all the text after (and including) car."
   ]
  },
  {
   "cell_type": "code",
   "execution_count": 66,
   "id": "787255f8",
   "metadata": {},
   "outputs": [
    {
     "name": "stdout",
     "output_type": "stream",
     "text": [
      "\n",
      "A man was crossing the road.\n",
      "Suddenly, a \u001b[42m\u001b[1mcar passed before him in a very high speed.\n",
      "He was terrified\n",
      "And shocked.\n",
      "\u001b[0m\n"
     ]
    }
   ],
   "source": [
    "highlight_regex(re.compile(\"car.+\",flags=re.S),txt)"
   ]
  },
  {
   "cell_type": "markdown",
   "id": "42e649ca",
   "metadata": {},
   "source": [
    "25) Let's consider an example where we try to work on hindi language."
   ]
  },
  {
   "cell_type": "code",
   "execution_count": 67,
   "id": "9e881612",
   "metadata": {},
   "outputs": [],
   "source": [
    "txt = \"मुझे किताबें पढ़ना बहुत पसंद है।\""
   ]
  },
  {
   "cell_type": "code",
   "execution_count": 68,
   "id": "ecddd583",
   "metadata": {},
   "outputs": [
    {
     "data": {
      "text/plain": [
       "['म', 'झ', 'क', 'त', 'ब', 'पढ', 'न', 'बह', 'त', 'पस', 'द', 'ह']"
      ]
     },
     "execution_count": 68,
     "metadata": {},
     "output_type": "execute_result"
    }
   ],
   "source": [
    "re.findall(\"\\w+\",txt)"
   ]
  },
  {
   "cell_type": "code",
   "execution_count": 69,
   "id": "c7b57071",
   "metadata": {},
   "outputs": [],
   "source": [
    "txt1 = \"உங்களை சந்தித்ததில் மகிழ்ச்சி.\""
   ]
  },
  {
   "cell_type": "code",
   "execution_count": 70,
   "id": "dd67899b",
   "metadata": {},
   "outputs": [
    {
     "data": {
      "text/plain": [
       "['உங', 'கள', 'சந', 'த', 'த', 'தத', 'ல', 'மக', 'ழ', 'ச', 'ச']"
      ]
     },
     "execution_count": 70,
     "metadata": {},
     "output_type": "execute_result"
    }
   ],
   "source": [
    "re.findall(\"\\w+\",txt1)"
   ]
  },
  {
   "cell_type": "code",
   "execution_count": 71,
   "id": "b8a1a736",
   "metadata": {},
   "outputs": [
    {
     "data": {
      "text/plain": [
       "['உங', 'கள', 'சந', 'த', 'த', 'தத', 'ல', 'மக', 'ழ', 'ச', 'ச']"
      ]
     },
     "execution_count": 71,
     "metadata": {},
     "output_type": "execute_result"
    }
   ],
   "source": [
    "re.findall(\"\\w+\",txt1,flags=re.UNICODE)"
   ]
  },
  {
   "cell_type": "markdown",
   "id": "6b9cfbb9",
   "metadata": {},
   "source": [
    "26) Generate ASCII values till 256 and search for alphanumeric pattern. Find out whether re identified correctly. If not, solve it."
   ]
  },
  {
   "cell_type": "code",
   "execution_count": 72,
   "id": "619f383d",
   "metadata": {},
   "outputs": [
    {
     "data": {
      "text/plain": [
       "'\\x00\\x01\\x02\\x03\\x04\\x05\\x06\\x07\\x08\\t\\n\\x0b\\x0c\\r\\x0e\\x0f\\x10\\x11\\x12\\x13\\x14\\x15\\x16\\x17\\x18\\x19\\x1a\\x1b\\x1c\\x1d\\x1e\\x1f !\"#$%&\\'()*+,-./0123456789:;<=>?@ABCDEFGHIJKLMNOPQRSTUVWXYZ[\\\\]^_`abcdefghijklmnopqrstuvwxyz{|}~\\x7f\\x80\\x81\\x82\\x83\\x84\\x85\\x86\\x87\\x88\\x89\\x8a\\x8b\\x8c\\x8d\\x8e\\x8f\\x90\\x91\\x92\\x93\\x94\\x95\\x96\\x97\\x98\\x99\\x9a\\x9b\\x9c\\x9d\\x9e\\x9f\\xa0¡¢£¤¥¦§¨©ª«¬\\xad®¯°±²³´µ¶·¸¹º»¼½¾¿ÀÁÂÃÄÅÆÇÈÉÊËÌÍÎÏÐÑÒÓÔÕÖ×ØÙÚÛÜÝÞßàáâãäåæçèéêëìíîïðñòóôõö÷øùúûüýþÿ'"
      ]
     },
     "execution_count": 72,
     "metadata": {},
     "output_type": "execute_result"
    }
   ],
   "source": [
    "chars =  ''.join(chr(i) for i in range(256))\n",
    "chars"
   ]
  },
  {
   "cell_type": "code",
   "execution_count": 73,
   "id": "a8677372",
   "metadata": {},
   "outputs": [
    {
     "data": {
      "text/plain": [
       "['0123456789',\n",
       " 'ABCDEFGHIJKLMNOPQRSTUVWXYZ',\n",
       " '_',\n",
       " 'abcdefghijklmnopqrstuvwxyz',\n",
       " 'ª',\n",
       " '²³',\n",
       " 'µ',\n",
       " '¹º',\n",
       " '¼½¾',\n",
       " 'ÀÁÂÃÄÅÆÇÈÉÊËÌÍÎÏÐÑÒÓÔÕÖ',\n",
       " 'ØÙÚÛÜÝÞßàáâãäåæçèéêëìíîïðñòóôõö',\n",
       " 'øùúûüýþÿ']"
      ]
     },
     "execution_count": 73,
     "metadata": {},
     "output_type": "execute_result"
    }
   ],
   "source": [
    "re.findall(\"\\w+\",chars)"
   ]
  },
  {
   "cell_type": "code",
   "execution_count": 74,
   "id": "c6b6f051",
   "metadata": {},
   "outputs": [
    {
     "data": {
      "text/plain": [
       "['0123456789', 'ABCDEFGHIJKLMNOPQRSTUVWXYZ', '_', 'abcdefghijklmnopqrstuvwxyz']"
      ]
     },
     "execution_count": 74,
     "metadata": {},
     "output_type": "execute_result"
    }
   ],
   "source": [
    "re.findall(\"\\w+\",chars,flags=re.ASCII)"
   ]
  },
  {
   "cell_type": "code",
   "execution_count": 75,
   "id": "f9aecc09",
   "metadata": {},
   "outputs": [
    {
     "name": "stdout",
     "output_type": "stream",
     "text": [
      "\u0000\u0001\u0002\u0003\u0004\u0005\u0006\u0007\b\t\n",
      "\u000b",
      "\f",
      "\r",
      "\u000e\u000f\u0010\u0011\u0012\u0013\u0014\u0015\u0016\u0017\u0018\u0019\u001a\u001b\u001c",
      "\u001d",
      "\u001e",
      "\u001f !\"#$%&'()*+,-./\u001b[42m\u001b[1m0123456789\u001b[0m:;<=>?@\u001b[42m\u001b[1mABCDEFGHIJKLMNOPQRSTUVWXYZ\u001b[0m[\\]^\u001b[42m\u001b[1m_\u001b[0m`\u001b[42m\u001b[1mabcdefghijklmnopqrstuvwxyz\u001b[0m{|}~",
      " ¡¢£¤¥¦§¨©\u001b[42m\u001b[1mª\u001b[0m«¬­®¯°±\u001b[42m\u001b[1m²³\u001b[0m´\u001b[42m\u001b[1mµ\u001b[0m¶·¸\u001b[42m\u001b[1m¹º\u001b[0m»\u001b[42m\u001b[1m¼½¾\u001b[0m¿\u001b[42m\u001b[1mÀÁÂÃÄÅÆÇÈÉÊËÌÍÎÏÐÑÒÓÔÕÖ\u001b[0m×\u001b[42m\u001b[1mØÙÚÛÜÝÞßàáâãäåæçèéêëìíîïðñòóôõö\u001b[0m÷\u001b[42m\u001b[1møùúûüýþÿ\u001b[0m\n"
     ]
    }
   ],
   "source": [
    "highlight_regex(re.compile(\"\\w+\"),chars)"
   ]
  },
  {
   "cell_type": "code",
   "execution_count": 76,
   "id": "8a269c63",
   "metadata": {},
   "outputs": [
    {
     "name": "stdout",
     "output_type": "stream",
     "text": [
      "\u0000\u0001\u0002\u0003\u0004\u0005\u0006\t\n",
      "\u000e\u000f\u0010\u0011\u0012\u0013\u0014\u0015\u0016\u0017\u0018\u0019\u001a\u001b\u001c",
      "\u001d",
      "\u001e",
      "\u001f !\"#$%&'()*+,-./\u001b[42m\u001b[1m0123456789\u001b[0m:;<=>?@\u001b[42m\u001b[1mABCDEFGHIJKLMNOPQRSTUVWXYZ\u001b[0m[\\]^\u001b[42m\u001b[1m_\u001b[0m`\u001b[42m\u001b[1mabcdefghijklmnopqrstuvwxyz\u001b[0m{|}~",
      " ¡¢£¤¥¦§¨©ª«¬­®¯°±²³´µ¶·¸¹º»¼½¾¿ÀÁÂÃÄÅÆÇÈÉÊËÌÍÎÏÐÑÒÓÔÕÖ×ØÙÚÛÜÝÞßàáâãäåæçèéêëìíîïðñòóôõö÷øùúûüýþÿ\n"
     ]
    }
   ],
   "source": [
    "highlight_regex(re.compile(\"\\w+\",flags=re.ASCII),chars)"
   ]
  },
  {
   "cell_type": "markdown",
   "id": "74c76719",
   "metadata": {},
   "source": [
    "27) Grouping \n",
    "\n",
    "apply a quantifier to the entire group"
   ]
  },
  {
   "cell_type": "code",
   "execution_count": 77,
   "id": "3f38264e",
   "metadata": {},
   "outputs": [],
   "source": [
    "txt = \"abbbbbabbbb\""
   ]
  },
  {
   "cell_type": "code",
   "execution_count": 78,
   "id": "09c0acfc",
   "metadata": {},
   "outputs": [
    {
     "data": {
      "text/plain": [
       "['abbbbbabbbb']"
      ]
     },
     "execution_count": 78,
     "metadata": {},
     "output_type": "execute_result"
    }
   ],
   "source": [
    "re.findall(\"ab{5}ab{4}\",txt)"
   ]
  },
  {
   "cell_type": "code",
   "execution_count": 79,
   "id": "496d5811",
   "metadata": {},
   "outputs": [
    {
     "data": {
      "text/plain": [
       "['ab', 'ab']"
      ]
     },
     "execution_count": 79,
     "metadata": {},
     "output_type": "execute_result"
    }
   ],
   "source": [
    "re.findall(\"ab\",txt)"
   ]
  },
  {
   "cell_type": "code",
   "execution_count": 80,
   "id": "8cf3913c",
   "metadata": {},
   "outputs": [
    {
     "name": "stdout",
     "output_type": "stream",
     "text": [
      "\u001b[42m\u001b[1mab\u001b[0mbbbb\u001b[42m\u001b[1mab\u001b[0mbbb\n"
     ]
    }
   ],
   "source": [
    "highlight_regex(re.compile(\"ab\"),txt)"
   ]
  },
  {
   "cell_type": "markdown",
   "id": "db48365a",
   "metadata": {},
   "source": [
    "28) restrict alternation to part of the regex - Grouping"
   ]
  },
  {
   "cell_type": "code",
   "execution_count": 81,
   "id": "b5daae65",
   "metadata": {},
   "outputs": [],
   "source": [
    "txt = \"\"\"\n",
    "my name is ram\n",
    "my name is sam\n",
    "\"\"\""
   ]
  },
  {
   "cell_type": "code",
   "execution_count": 82,
   "id": "0c6f0601",
   "metadata": {},
   "outputs": [
    {
     "name": "stdout",
     "output_type": "stream",
     "text": [
      "\n",
      "\u001b[42m\u001b[1mmy name is ram\u001b[0m\n",
      "\u001b[42m\u001b[1mmy name is sam\u001b[0m\n",
      "\n"
     ]
    }
   ],
   "source": [
    "highlight_regex(re.compile(\"my name is (ram|sam)\"),txt)"
   ]
  },
  {
   "cell_type": "markdown",
   "id": "5a2d12b9",
   "metadata": {},
   "source": [
    "29) capture the text matched by group - Grouping\n",
    "\n",
    "Consider an example where we want to parse a date and determine day, month and year.\n",
    "\n",
    "Differentiate between group vs groups"
   ]
  },
  {
   "cell_type": "code",
   "execution_count": 83,
   "id": "57a917b0",
   "metadata": {},
   "outputs": [],
   "source": [
    "txt = \"12/02/2019\" "
   ]
  },
  {
   "cell_type": "code",
   "execution_count": 84,
   "id": "8219e995",
   "metadata": {},
   "outputs": [
    {
     "data": {
      "text/plain": [
       "[('12', '02', '2019')]"
      ]
     },
     "execution_count": 84,
     "metadata": {},
     "output_type": "execute_result"
    }
   ],
   "source": [
    "re.findall(\"(\\d{2})\\/(\\d{2})\\/(\\d{4})\",txt)"
   ]
  },
  {
   "cell_type": "code",
   "execution_count": 85,
   "id": "efbc2506",
   "metadata": {},
   "outputs": [
    {
     "data": {
      "text/plain": [
       "'12/02/2019'"
      ]
     },
     "execution_count": 85,
     "metadata": {},
     "output_type": "execute_result"
    }
   ],
   "source": [
    "#date\n",
    "re.match(\"(\\d{2})\\/(\\d{2})\\/(\\d{4})\",txt).group(0)"
   ]
  },
  {
   "cell_type": "code",
   "execution_count": 86,
   "id": "e1b7a60c",
   "metadata": {},
   "outputs": [
    {
     "data": {
      "text/plain": [
       "'12'"
      ]
     },
     "execution_count": 86,
     "metadata": {},
     "output_type": "execute_result"
    }
   ],
   "source": [
    "#day\n",
    "re.match(\"(\\d{2})\\/(\\d{2})\\/(\\d{4})\",txt).group(1)"
   ]
  },
  {
   "cell_type": "code",
   "execution_count": 87,
   "id": "180e3ca1",
   "metadata": {},
   "outputs": [
    {
     "data": {
      "text/plain": [
       "'02'"
      ]
     },
     "execution_count": 87,
     "metadata": {},
     "output_type": "execute_result"
    }
   ],
   "source": [
    "#month\n",
    "re.match(\"(\\d{2})\\/(\\d{2})\\/(\\d{4})\",txt).group(2)"
   ]
  },
  {
   "cell_type": "code",
   "execution_count": 88,
   "id": "c914ee3a",
   "metadata": {},
   "outputs": [
    {
     "data": {
      "text/plain": [
       "'2019'"
      ]
     },
     "execution_count": 88,
     "metadata": {},
     "output_type": "execute_result"
    }
   ],
   "source": [
    "#year\n",
    "re.match(\"(\\d{2})\\/(\\d{2})\\/(\\d{4})\",txt).group(3)"
   ]
  },
  {
   "cell_type": "code",
   "execution_count": 89,
   "id": "d62691fc",
   "metadata": {},
   "outputs": [
    {
     "data": {
      "text/plain": [
       "('12', '02', '2019')"
      ]
     },
     "execution_count": 89,
     "metadata": {},
     "output_type": "execute_result"
    }
   ],
   "source": [
    "#difference between group and groups\n",
    "day,month,year = re.match(\"(\\d{2})\\/(\\d{2})\\/(\\d{4})\",txt).groups()\n",
    "day,month,year"
   ]
  },
  {
   "cell_type": "markdown",
   "id": "f197b3b8",
   "metadata": {},
   "source": [
    "30) Let's try one more example of group capturing.\n",
    "\n",
    "In the given text, find all the patterns with Name: <some-name> and extract <some-name>."
   ]
  },
  {
   "cell_type": "code",
   "execution_count": 90,
   "id": "088bf482",
   "metadata": {},
   "outputs": [],
   "source": [
    "txt = \"\"\"\n",
    "Name: Nikhil\n",
    "Age: 0\n",
    "Roll No.: 15\n",
    "Grade: S\n",
    "\n",
    "Name: Ravi\n",
    "Age: -1\n",
    "Roll No.: 123\n",
    "Grade: K\n",
    "\n",
    "Name: Ram\n",
    "Age: N/A\n",
    "Roll No.: 1\n",
    "Grade: G\n",
    "\"\"\""
   ]
  },
  {
   "cell_type": "code",
   "execution_count": 91,
   "id": "3cf6549b",
   "metadata": {},
   "outputs": [
    {
     "data": {
      "text/plain": [
       "['Nikhil', 'Ravi', 'Ram']"
      ]
     },
     "execution_count": 91,
     "metadata": {},
     "output_type": "execute_result"
    }
   ],
   "source": [
    "re.findall(\"Name: (.+)\",txt)"
   ]
  },
  {
   "cell_type": "markdown",
   "id": "4e1de0fb",
   "metadata": {},
   "source": [
    "Backreferrencing\n",
    "\n",
    "31) Consider a scenario where we want to find all the duplicated words in the given text."
   ]
  },
  {
   "cell_type": "code",
   "execution_count": 92,
   "id": "9c5ade32",
   "metadata": {},
   "outputs": [],
   "source": [
    "txt = \"\"\"\n",
    "hello hello\n",
    "how are you\n",
    "bye bye\n",
    "\"\"\""
   ]
  },
  {
   "cell_type": "code",
   "execution_count": 93,
   "id": "8d2a3f46",
   "metadata": {},
   "outputs": [
    {
     "data": {
      "text/plain": [
       "['hello', 'bye']"
      ]
     },
     "execution_count": 93,
     "metadata": {},
     "output_type": "execute_result"
    }
   ],
   "source": [
    "re.findall(\"(\\w+) \\\\1\",txt)"
   ]
  },
  {
   "cell_type": "code",
   "execution_count": 94,
   "id": "9071d479",
   "metadata": {},
   "outputs": [
    {
     "name": "stdout",
     "output_type": "stream",
     "text": [
      "\n",
      "\u001b[42m\u001b[1mhello hello\u001b[0m\n",
      "how are you\n",
      "\u001b[42m\u001b[1mbye bye\u001b[0m\n",
      "\n"
     ]
    }
   ],
   "source": [
    "highlight_regex(re.compile(\"(\\w+) \\\\1\"),txt)"
   ]
  },
  {
   "cell_type": "markdown",
   "id": "36dd3a9f",
   "metadata": {},
   "source": [
    "32) Consider a scenario where we want to find all dates with the format dd/mm/yyy and change them to yyyy-mm-dd format."
   ]
  },
  {
   "cell_type": "code",
   "execution_count": 95,
   "id": "85bbd68d",
   "metadata": {},
   "outputs": [],
   "source": [
    "txt = \"\"\"\n",
    "today is 23/02/2019.\n",
    "yesterday was 22/02/2019.\n",
    "tomorrow is 24/02/2019.\n",
    "\"\"\""
   ]
  },
  {
   "cell_type": "code",
   "execution_count": 96,
   "id": "a9d324dc",
   "metadata": {},
   "outputs": [
    {
     "data": {
      "text/plain": [
       "[('23', '02', '2019'), ('22', '02', '2019'), ('24', '02', '2019')]"
      ]
     },
     "execution_count": 96,
     "metadata": {},
     "output_type": "execute_result"
    }
   ],
   "source": [
    "re.findall(\"(\\d{2})\\/(\\d{2})\\/(\\d{4})\",txt)"
   ]
  },
  {
   "cell_type": "code",
   "execution_count": 97,
   "id": "c69c0284",
   "metadata": {},
   "outputs": [
    {
     "data": {
      "text/plain": [
       "'\\ntoday is 2019-02-23.\\nyesterday was 2019-02-22.\\ntomorrow is 2019-02-24.\\n'"
      ]
     },
     "execution_count": 97,
     "metadata": {},
     "output_type": "execute_result"
    }
   ],
   "source": [
    "re.sub(re.compile(\"(\\d{2})\\/(\\d{2})\\/(\\d{4})\"),r\"\\3-\\2-\\1\",txt)"
   ]
  },
  {
   "cell_type": "code",
   "execution_count": 98,
   "id": "a110c203",
   "metadata": {},
   "outputs": [
    {
     "data": {
      "text/plain": [
       "'\\ntoday is 2019-02-23.\\nyesterday was 2019-02-22.\\ntomorrow is 2019-02-24.\\n'"
      ]
     },
     "execution_count": 98,
     "metadata": {},
     "output_type": "execute_result"
    }
   ],
   "source": [
    "pattern=re.compile(\"(\\d{2})\\/(\\d{2})\\/(\\d{4})\")\n",
    "pattern.sub(r\"\\3-\\2-\\1\",txt)"
   ]
  },
  {
   "cell_type": "markdown",
   "id": "00ff7328",
   "metadata": {},
   "source": [
    "Named Groups\n",
    "\n",
    "33) Consider a scenario where we want to extract the first name and last name of a person."
   ]
  },
  {
   "cell_type": "code",
   "execution_count": 99,
   "id": "9cf87008",
   "metadata": {},
   "outputs": [],
   "source": [
    "txt = \"Nikhil Kumar\""
   ]
  },
  {
   "cell_type": "code",
   "execution_count": 100,
   "id": "21507d89",
   "metadata": {},
   "outputs": [
    {
     "name": "stdout",
     "output_type": "stream",
     "text": [
      "Nikhil\n",
      "Kumar\n"
     ]
    }
   ],
   "source": [
    "pattern = re.compile(\"(?P<first>\\w+) (?P<last>\\w+)\")\n",
    "match = pattern.match(txt)\n",
    "print(match.group('first'))\n",
    "print(match.group('last'))"
   ]
  },
  {
   "cell_type": "markdown",
   "id": "32621af4",
   "metadata": {},
   "source": [
    "35) Now consider the scenario where we want to swap first name and last name in above example."
   ]
  },
  {
   "cell_type": "code",
   "execution_count": 101,
   "id": "30abf08b",
   "metadata": {},
   "outputs": [
    {
     "data": {
      "text/plain": [
       "'Kumar Nikhil'"
      ]
     },
     "execution_count": 101,
     "metadata": {},
     "output_type": "execute_result"
    }
   ],
   "source": [
    "pattern.sub(\"\\g<last> \\g<first>\", txt)"
   ]
  },
  {
   "cell_type": "markdown",
   "id": "39858553",
   "metadata": {},
   "source": [
    "36) Consider a scenario where we want to check if a person has same first and last name."
   ]
  },
  {
   "cell_type": "code",
   "execution_count": 102,
   "id": "a043ec91",
   "metadata": {},
   "outputs": [],
   "source": [
    "txt = \"Jhonson Jhonson\"\n",
    "pattern = re.compile(\"(?P<first>\\w+) (?P=first)\")"
   ]
  },
  {
   "cell_type": "code",
   "execution_count": 103,
   "id": "f8d1eb07",
   "metadata": {},
   "outputs": [
    {
     "data": {
      "text/plain": [
       "['Jhonson']"
      ]
     },
     "execution_count": 103,
     "metadata": {},
     "output_type": "execute_result"
    }
   ],
   "source": [
    "pattern.findall(txt)"
   ]
  },
  {
   "cell_type": "markdown",
   "id": "7810e985",
   "metadata": {},
   "source": [
    "37) Non Capturing Groups\n",
    "\n",
    "Let's consider an example where we want to find the strings i love cats or i love dogs in the given text."
   ]
  },
  {
   "cell_type": "code",
   "execution_count": 104,
   "id": "6ee3ce1e",
   "metadata": {},
   "outputs": [],
   "source": [
    "txt = \"\"\"\n",
    "i love cats\n",
    "i love dogs\n",
    "\"\"\""
   ]
  },
  {
   "cell_type": "code",
   "execution_count": 105,
   "id": "25c568e0",
   "metadata": {},
   "outputs": [],
   "source": [
    "pattern = re.compile(\"i love (cats|dogs)\")"
   ]
  },
  {
   "cell_type": "code",
   "execution_count": 106,
   "id": "91d44226",
   "metadata": {},
   "outputs": [
    {
     "name": "stdout",
     "output_type": "stream",
     "text": [
      "\n",
      "\u001b[42m\u001b[1mi love cats\u001b[0m\n",
      "\u001b[42m\u001b[1mi love dogs\u001b[0m\n",
      "\n"
     ]
    }
   ],
   "source": [
    "highlight_regex(pattern,txt)"
   ]
  },
  {
   "cell_type": "markdown",
   "id": "6c1461a7",
   "metadata": {},
   "source": [
    "Look ahead\n",
    "\n",
    "38) Let's check out an example to understand the concept. Let's assume that we want to find a match for love in the given text only if it is followed by regex"
   ]
  },
  {
   "cell_type": "code",
   "execution_count": 107,
   "id": "e38a33c4",
   "metadata": {},
   "outputs": [],
   "source": [
    "txt = \"i love python, i love regex\""
   ]
  },
  {
   "cell_type": "code",
   "execution_count": 108,
   "id": "d2d5c8db",
   "metadata": {},
   "outputs": [
    {
     "data": {
      "text/plain": [
       "re.compile(r'love regex', re.UNICODE)"
      ]
     },
     "execution_count": 108,
     "metadata": {},
     "output_type": "execute_result"
    }
   ],
   "source": [
    "pattern = re.compile('love regex')\n",
    "pattern"
   ]
  },
  {
   "cell_type": "code",
   "execution_count": 109,
   "id": "2d33888f",
   "metadata": {},
   "outputs": [
    {
     "data": {
      "text/plain": [
       "<re.Match object; span=(17, 27), match='love regex'>"
      ]
     },
     "execution_count": 109,
     "metadata": {},
     "output_type": "execute_result"
    }
   ],
   "source": [
    "match = pattern.search(txt)\n",
    "match"
   ]
  },
  {
   "cell_type": "code",
   "execution_count": 110,
   "id": "04be0b4c",
   "metadata": {},
   "outputs": [
    {
     "data": {
      "text/plain": [
       "(17, 27)"
      ]
     },
     "execution_count": 110,
     "metadata": {},
     "output_type": "execute_result"
    }
   ],
   "source": [
    "match.span()"
   ]
  },
  {
   "cell_type": "code",
   "execution_count": 111,
   "id": "6913d0bf",
   "metadata": {},
   "outputs": [
    {
     "data": {
      "text/plain": [
       "['love regex']"
      ]
     },
     "execution_count": 111,
     "metadata": {},
     "output_type": "execute_result"
    }
   ],
   "source": [
    "pattern.findall(txt)"
   ]
  },
  {
   "cell_type": "code",
   "execution_count": 112,
   "id": "85af7623",
   "metadata": {},
   "outputs": [
    {
     "data": {
      "text/plain": [
       "re.compile(r'love(?=\\sregex)', re.UNICODE)"
      ]
     },
     "execution_count": 112,
     "metadata": {},
     "output_type": "execute_result"
    }
   ],
   "source": [
    "pattern = re.compile(\"love(?=\\sregex)\")\n",
    "pattern"
   ]
  },
  {
   "cell_type": "code",
   "execution_count": 113,
   "id": "6069ac7b",
   "metadata": {},
   "outputs": [
    {
     "data": {
      "text/plain": [
       "(17, 21)"
      ]
     },
     "execution_count": 113,
     "metadata": {},
     "output_type": "execute_result"
    }
   ],
   "source": [
    "match = pattern.search(txt)\n",
    "match.span()"
   ]
  },
  {
   "cell_type": "code",
   "execution_count": 114,
   "id": "46904915",
   "metadata": {},
   "outputs": [
    {
     "name": "stdout",
     "output_type": "stream",
     "text": [
      "i love python, i \u001b[42m\u001b[1mlove\u001b[0m regex\n"
     ]
    }
   ],
   "source": [
    "highlight_regex(pattern, txt)"
   ]
  },
  {
   "cell_type": "markdown",
   "id": "59b5b9e3",
   "metadata": {},
   "source": [
    "39) Let us check out another example to find all words in given text which are followed by . or ,."
   ]
  },
  {
   "cell_type": "code",
   "execution_count": 115,
   "id": "10fd7c59",
   "metadata": {},
   "outputs": [],
   "source": [
    "txt = \"My favorite colors are red, green, and blue.\""
   ]
  },
  {
   "cell_type": "code",
   "execution_count": 116,
   "id": "ef2c1f11",
   "metadata": {},
   "outputs": [
    {
     "data": {
      "text/plain": [
       "re.compile(r'\\w+(?=,|\\.)', re.UNICODE)"
      ]
     },
     "execution_count": 116,
     "metadata": {},
     "output_type": "execute_result"
    }
   ],
   "source": [
    "pattern = re.compile(\"\\w+(?=,|\\.)\")\n",
    "pattern"
   ]
  },
  {
   "cell_type": "code",
   "execution_count": 117,
   "id": "cb582fdf",
   "metadata": {},
   "outputs": [
    {
     "data": {
      "text/plain": [
       "['red', 'green', 'blue']"
      ]
     },
     "execution_count": 117,
     "metadata": {},
     "output_type": "execute_result"
    }
   ],
   "source": [
    "pattern.findall(txt)"
   ]
  },
  {
   "cell_type": "code",
   "execution_count": 118,
   "id": "55f9bd53",
   "metadata": {},
   "outputs": [
    {
     "name": "stdout",
     "output_type": "stream",
     "text": [
      "My favorite colors are \u001b[42m\u001b[1mred\u001b[0m, \u001b[42m\u001b[1mgreen\u001b[0m, and \u001b[42m\u001b[1mblue\u001b[0m.\n"
     ]
    }
   ],
   "source": [
    "highlight_regex(pattern, txt)"
   ]
  },
  {
   "cell_type": "markdown",
   "id": "88f5d743",
   "metadata": {},
   "source": [
    "40) Let's assume that we want to find a match for love in the given text only if it is NOT followed by regex."
   ]
  },
  {
   "cell_type": "code",
   "execution_count": 119,
   "id": "d83db78b",
   "metadata": {},
   "outputs": [],
   "source": [
    "txt = \"i love python, i love regex\""
   ]
  },
  {
   "cell_type": "code",
   "execution_count": 120,
   "id": "e436e05a",
   "metadata": {},
   "outputs": [
    {
     "data": {
      "text/plain": [
       "re.compile(r'love(?!\\sregex)', re.UNICODE)"
      ]
     },
     "execution_count": 120,
     "metadata": {},
     "output_type": "execute_result"
    }
   ],
   "source": [
    "pattern = re.compile(\"love(?!\\sregex)\")\n",
    "pattern"
   ]
  },
  {
   "cell_type": "code",
   "execution_count": 121,
   "id": "72644ecb",
   "metadata": {},
   "outputs": [
    {
     "name": "stdout",
     "output_type": "stream",
     "text": [
      "i \u001b[42m\u001b[1mlove\u001b[0m python, i love regex\n"
     ]
    }
   ],
   "source": [
    "highlight_regex(pattern, txt)"
   ]
  },
  {
   "cell_type": "markdown",
   "id": "0e311e06",
   "metadata": {},
   "source": [
    "41) Let's check out an example to understand the concept. Let's assume that we want to find a match for regex in the given text only if it is succeeded by love or hate."
   ]
  },
  {
   "cell_type": "code",
   "execution_count": 122,
   "id": "eec27caa",
   "metadata": {},
   "outputs": [],
   "source": [
    "txt = \"love regex or hate regex, can't ignore regex\""
   ]
  },
  {
   "cell_type": "code",
   "execution_count": 123,
   "id": "4decab6e",
   "metadata": {},
   "outputs": [
    {
     "data": {
      "text/plain": [
       "re.compile(r'(?<=(love|hate)\\s)regex', re.UNICODE)"
      ]
     },
     "execution_count": 123,
     "metadata": {},
     "output_type": "execute_result"
    }
   ],
   "source": [
    "pattern = re.compile(\"(?<=(love|hate)\\s)regex\")\n",
    "pattern"
   ]
  },
  {
   "cell_type": "code",
   "execution_count": 124,
   "id": "4966a2d1",
   "metadata": {},
   "outputs": [
    {
     "data": {
      "text/plain": [
       "['love', 'hate']"
      ]
     },
     "execution_count": 124,
     "metadata": {},
     "output_type": "execute_result"
    }
   ],
   "source": [
    "re.findall(pattern,txt)"
   ]
  },
  {
   "cell_type": "code",
   "execution_count": 125,
   "id": "9c685cbc",
   "metadata": {},
   "outputs": [
    {
     "name": "stdout",
     "output_type": "stream",
     "text": [
      "love \u001b[42m\u001b[1mregex\u001b[0m or hate \u001b[42m\u001b[1mregex\u001b[0m, can't ignore regex\n"
     ]
    }
   ],
   "source": [
    "highlight_regex(pattern, txt)"
   ]
  },
  {
   "cell_type": "markdown",
   "id": "56667213",
   "metadata": {},
   "source": [
    "42) Let's assume that we want to find a match for regex in the given text if it is not followed by love or hate."
   ]
  },
  {
   "cell_type": "code",
   "execution_count": 126,
   "id": "47a2e0f8",
   "metadata": {},
   "outputs": [
    {
     "data": {
      "text/plain": [
       "re.compile(r'(?<!(love|hate)\\s)regex', re.UNICODE)"
      ]
     },
     "execution_count": 126,
     "metadata": {},
     "output_type": "execute_result"
    }
   ],
   "source": [
    "pattern = re.compile(\"(?<!(love|hate)\\s)regex\")\n",
    "pattern"
   ]
  },
  {
   "cell_type": "code",
   "execution_count": 127,
   "id": "c0e4e51d",
   "metadata": {},
   "outputs": [
    {
     "name": "stdout",
     "output_type": "stream",
     "text": [
      "love regex or hate regex, can't ignore \u001b[42m\u001b[1mregex\u001b[0m\n"
     ]
    }
   ],
   "source": [
    "highlight_regex(pattern, txt)"
   ]
  }
 ],
 "metadata": {
  "kernelspec": {
   "display_name": "Python 3",
   "language": "python",
   "name": "python3"
  },
  "language_info": {
   "codemirror_mode": {
    "name": "ipython",
    "version": 3
   },
   "file_extension": ".py",
   "mimetype": "text/x-python",
   "name": "python",
   "nbconvert_exporter": "python",
   "pygments_lexer": "ipython3",
   "version": "3.8.8"
  }
 },
 "nbformat": 4,
 "nbformat_minor": 5
}
