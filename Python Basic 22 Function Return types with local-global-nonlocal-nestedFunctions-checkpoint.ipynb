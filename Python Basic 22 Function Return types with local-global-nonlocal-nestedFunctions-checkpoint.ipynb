{
 "cells": [
  {
   "cell_type": "markdown",
   "id": "60265151",
   "metadata": {},
   "source": [
    "# 1. What is the result of the code, and explain?"
   ]
  },
  {
   "cell_type": "markdown",
   "id": "7f13d87f",
   "metadata": {},
   "source": [
    "&gt;&gt;&gt; \n",
    "X = &#39;\n",
    "iNeuron\n",
    "&#39;\n",
    "&gt;&gt;&gt; \n",
    "def func():\n",
    "    print(X)\n",
    "\n",
    "&gt;&gt;&gt; \n",
    "func()"
   ]
  },
  {
   "attachments": {
    "image.png": {
     "image/png": "[encoded data removed]"
    }
   },
   "cell_type": "markdown",
   "id": "9021794c",
   "metadata": {},
   "source": [
    "![image.png](attachment:image.png)"
   ]
  },
  {
   "cell_type": "markdown",
   "id": "4990efaf",
   "metadata": {},
   "source": [
    "<u>Explanation</u>: func accessing global variable X and prints value of X when func method is called or invoked."
   ]
  },
  {
   "cell_type": "markdown",
   "id": "2f443bc6",
   "metadata": {},
   "source": [
    "# 2. What is the result of the code, and explain?"
   ]
  },
  {
   "cell_type": "markdown",
   "id": "9661499d",
   "metadata": {},
   "source": [
    "&gt;&gt;&gt; X = &#39;iNeuron&#39;\n",
    "&gt;&gt;&gt; def func():\n",
    "X = &#39;NI!&#39;\n",
    "\n",
    "&gt;&gt;&gt; func()\n",
    "&gt;&gt;&gt; print(X)"
   ]
  },
  {
   "attachments": {
    "image.png": {
     "image/png": "[encoded data removed]"
    }
   },
   "cell_type": "markdown",
   "id": "88742a12",
   "metadata": {},
   "source": [
    "![image.png](attachment:image.png)"
   ]
  },
  {
   "cell_type": "markdown",
   "id": "a02cccd7",
   "metadata": {},
   "source": [
    "<u>Result</u>: iNeuron\n",
    "\n",
    "<u>Explanation</u>: func is called which has X value as 'Nl!' but still X value gets printed as iNeuron. This is because func is not returning the updated value of X which is 'Nl!'"
   ]
  },
  {
   "cell_type": "markdown",
   "id": "d5565eb0",
   "metadata": {},
   "source": [
    "# 3. What does this code print, and why?"
   ]
  },
  {
   "cell_type": "markdown",
   "id": "2d142959",
   "metadata": {},
   "source": [
    "&gt;&gt;&gt; X = &#39;iNeuron&#39;\n",
    "&gt;&gt;&gt; def func():\n",
    "X = &#39;NI&#39;\n",
    "print(X)\n",
    "\n",
    "&gt;&gt;&gt; func()\n",
    "&gt;&gt;&gt; print(X)"
   ]
  },
  {
   "cell_type": "code",
   "execution_count": 1,
   "id": "2a1a21c6",
   "metadata": {},
   "outputs": [
    {
     "name": "stdout",
     "output_type": "stream",
     "text": [
      "NI\n",
      "iNeuron\n"
     ]
    }
   ],
   "source": [
    "X='iNeuron'\n",
    "def func():\n",
    "    X='NI'\n",
    "    print(X)\n",
    "func()\n",
    "print(X)"
   ]
  },
  {
   "cell_type": "markdown",
   "id": "e0216a2e",
   "metadata": {},
   "source": [
    "<u>Explanation</u>: The above program will print NI followed by iNeuron to the console as the statement X='NI' will be updating \n",
    "the local value X (as a part of func call) and then printing it to the console, but the global variable X will be unchanged, therefore the next print \n",
    "statement will print the global variable X value which is iNeuron"
   ]
  },
  {
   "cell_type": "markdown",
   "id": "6015e493",
   "metadata": {},
   "source": [
    "\n",
    "# 4. What output does this code produce? Why?"
   ]
  },
  {
   "cell_type": "markdown",
   "id": "ea444ae3",
   "metadata": {},
   "source": [
    "&gt;&gt;&gt; X = &#39;iNeuron&#39;\n",
    "&gt;&gt;&gt; def func():\n",
    "global X\n",
    "X = &#39;NI&#39;\n",
    "\n",
    "&gt;&gt;&gt; func()\n",
    "&gt;&gt;&gt; print(X)"
   ]
  },
  {
   "cell_type": "code",
   "execution_count": 2,
   "id": "e47fb17a",
   "metadata": {},
   "outputs": [
    {
     "name": "stdout",
     "output_type": "stream",
     "text": [
      "NI\n"
     ]
    }
   ],
   "source": [
    "X='iNeuron'\n",
    "def func():\n",
    "    global X\n",
    "    X='NI'\n",
    "func()\n",
    "print(X)"
   ]
  },
  {
   "cell_type": "markdown",
   "id": "bc5fbb85",
   "metadata": {},
   "source": [
    "<u>Explanation</u>: The above program will print NI to the console. The statement global X will ensure the func function uses the global variable instead of a local variable with name X. Hence the assignment statement updates the global varaible X value to NI"
   ]
  },
  {
   "cell_type": "markdown",
   "id": "437879e3",
   "metadata": {},
   "source": [
    "\n",
    "# 5. What about this code—what’s the output, and why?"
   ]
  },
  {
   "cell_type": "markdown",
   "id": "42ec0b9c",
   "metadata": {},
   "source": [
    "&gt;&gt;&gt; X = &#39;iNeuron&#39;\n",
    "&gt;&gt;&gt; def func():\n",
    "X = &#39;NI&#39;\n",
    "def nested():\n",
    "print(X)\n",
    "nested()\n",
    "\n",
    "&gt;&gt;&gt; func()\n",
    "&gt;&gt;&gt; X"
   ]
  },
  {
   "attachments": {
    "image.png": {
     "image/png": "[encoded data removed]"
    }
   },
   "cell_type": "markdown",
   "id": "68353262",
   "metadata": {},
   "source": [
    "![image.png](attachment:image.png)"
   ]
  },
  {
   "cell_type": "markdown",
   "id": "df98048c",
   "metadata": {},
   "source": [
    "<u>Explanation</u>: iNeuron gets printed twice. One is because of print statement within nested which is called. func() returns nothing as there is not return or print statements defined though invoked and func will not update global variable X as it is defined as local variable specific to func. Another iNeuron is printed as we check value for X variable."
   ]
  },
  {
   "cell_type": "markdown",
   "id": "2b897811",
   "metadata": {},
   "source": [
    "\n",
    "# 6. How about this code: what is its output in Python 3, and explain?"
   ]
  },
  {
   "cell_type": "markdown",
   "id": "49fc7ae9",
   "metadata": {},
   "source": [
    "&gt;&gt;&gt; def func():\n",
    "X = &#39;NI&#39;\n",
    "def nested():\n",
    "nonlocal X\n",
    "X = &#39;Spam&#39;\n",
    "nested()\n",
    "print(X)\n",
    "\n",
    "&gt;&gt;&gt; func()"
   ]
  },
  {
   "cell_type": "code",
   "execution_count": 11,
   "id": "98d9f5e3",
   "metadata": {},
   "outputs": [],
   "source": [
    "X='iNeuron'\n",
    "def func():\n",
    "    X='NI'\n",
    "    def nested():\n",
    "        nonlocal X\n",
    "        X='Spam'\n",
    "    nested()\n",
    "    print(X)"
   ]
  },
  {
   "cell_type": "code",
   "execution_count": 12,
   "id": "7072a68f",
   "metadata": {},
   "outputs": [
    {
     "name": "stdout",
     "output_type": "stream",
     "text": [
      "Spam\n"
     ]
    }
   ],
   "source": [
    "func()"
   ]
  },
  {
   "cell_type": "markdown",
   "id": "ee9d21e3",
   "metadata": {},
   "source": [
    "<u>Explanation</u>: The nonlocal keyword is used to work with variables inside nested functions, where the variable should not belong to the inner function."
   ]
  }
 ],
 "metadata": {
  "kernelspec": {
   "display_name": "Python 3",
   "language": "python",
   "name": "python3"
  },
  "language_info": {
   "codemirror_mode": {
    "name": "ipython",
    "version": 3
   },
   "file_extension": ".py",
   "mimetype": "text/x-python",
   "name": "python",
   "nbconvert_exporter": "python",
   "pygments_lexer": "ipython3",
   "version": "3.8.8"
  }
 },
 "nbformat": 4,
 "nbformat_minor": 5
}
