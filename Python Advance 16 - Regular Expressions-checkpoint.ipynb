{
 "cells": [
  {
   "cell_type": "markdown",
   "id": "7ef321c9",
   "metadata": {},
   "source": [
    "# Q1. What is the benefit of regular expressions?"
   ]
  },
  {
   "cell_type": "markdown",
   "id": "7672f906",
   "metadata": {},
   "source": [
    "ns: Regular Expressions, also known as <b>regex</b> or <b>regexp</b>, are used to match strings of text such as particular characters, words, or patterns of characters. It means that we can match and extract any string pattern from the text with the help of regular expressions. it helps the programmers to Write less and cleaner code. it also avoids multiple use of if/else statements."
   ]
  },
  {
   "cell_type": "markdown",
   "id": "a6181fc2",
   "metadata": {},
   "source": [
    "# Q2. Describe the difference between the effects of \"(ab)c+\" and \"a(bc)+\" Which of these, if any, is the unqualified pattern \"abc+\"?"
   ]
  },
  {
   "cell_type": "markdown",
   "id": "84e5986b",
   "metadata": {},
   "source": [
    "Group ()\n",
    "\n",
    "This function is used to group subpatterns. It defines the blocks and checks a match for them. For example,\n",
    "\n",
    "a. (s|t)ion checks for either s or t followed by ion"
   ]
  },
  {
   "cell_type": "markdown",
   "id": "f3cce593",
   "metadata": {},
   "source": [
    "Plus +\n",
    "\n",
    "This matches one or more occurrences of the character preceding it.\n",
    "\n",
    "For example,\n",
    "a. in+g marches for ’ing’,’inng’,’innng’ and so on."
   ]
  },
  {
   "cell_type": "markdown",
   "id": "9bccd956",
   "metadata": {},
   "source": [
    "Both \"(ab)c+\" and \"a(bc)+\" are unqualified pattern for \"abc+\". Because c cannot be optional character in group (bc). It should be present atleast once (+ symbol). Also, groups are formed as shown below."
   ]
  },
  {
   "cell_type": "code",
   "execution_count": 9,
   "id": "caf48491",
   "metadata": {},
   "outputs": [
    {
     "data": {
      "text/plain": [
       "['ab']"
      ]
     },
     "execution_count": 9,
     "metadata": {},
     "output_type": "execute_result"
    }
   ],
   "source": [
    "text=\"vabcccll\"\n",
    "re.findall(\"(ab)c+\", text)"
   ]
  },
  {
   "cell_type": "code",
   "execution_count": 10,
   "id": "17702c15",
   "metadata": {},
   "outputs": [
    {
     "data": {
      "text/plain": [
       "['bc']"
      ]
     },
     "execution_count": 10,
     "metadata": {},
     "output_type": "execute_result"
    }
   ],
   "source": [
    "re.findall(\"a(bc)+\", text)"
   ]
  },
  {
   "cell_type": "code",
   "execution_count": 11,
   "id": "1b4c6909",
   "metadata": {},
   "outputs": [
    {
     "data": {
      "text/plain": [
       "['abccc']"
      ]
     },
     "execution_count": 11,
     "metadata": {},
     "output_type": "execute_result"
    }
   ],
   "source": [
    "re.findall(\"abc+\", text)"
   ]
  },
  {
   "cell_type": "code",
   "execution_count": 12,
   "id": "def65b46",
   "metadata": {},
   "outputs": [
    {
     "data": {
      "text/plain": [
       "['abc']"
      ]
     },
     "execution_count": 12,
     "metadata": {},
     "output_type": "execute_result"
    }
   ],
   "source": [
    "re.findall(\"(abc)+\", text)"
   ]
  },
  {
   "cell_type": "markdown",
   "id": "5637e3a1",
   "metadata": {},
   "source": [
    "# Q3. How much do you need to use the following sentence while using regular expressions?\n",
    "\n",
    "import re"
   ]
  },
  {
   "cell_type": "markdown",
   "id": "76899251",
   "metadata": {},
   "source": [
    "import re statement always has to be imported before using regular expressions."
   ]
  },
  {
   "cell_type": "markdown",
   "id": "fd70be6d",
   "metadata": {},
   "source": [
    "# Q4. Which characters have special significance in square brackets when expressing a range, and under what circumstances?"
   ]
  },
  {
   "cell_type": "markdown",
   "id": "b6d7fbf6",
   "metadata": {},
   "source": [
    "Square brackets []\n",
    "\n",
    "This matches a single character from the set of characters provided in the brackets.\n",
    "\n",
    "For example,\n",
    "\n",
    "a. [abc] checks a match for ‘a’,’b’,’c’."
   ]
  },
  {
   "cell_type": "markdown",
   "id": "3792ea29",
   "metadata": {},
   "source": [
    "String\t ->    Match                                                                                                             \n",
    "trw\t  ->      No match                                                                                                           \n",
    "b\t   ->    1 match                                                                                                             \n",
    "abc\t  ->     3 matches                                                                                                           \n",
    "abc def cb\t->5 matches"
   ]
  },
  {
   "cell_type": "markdown",
   "id": "6c413e48",
   "metadata": {},
   "source": [
    "b. [e-j] is the same as [efghij] and it checks a match for ‘e’,’f’,’g’,’h’,’i’,’j’                                             \n",
    "c. [1-5] is the same as [12345] and it checks for ‘1’,’2’,’3’,’4’,’5’                                            \n",
    "d. [a-ct] is the same as [abct’ and checks for ‘a’,’b’,’c’,’t’                                            \n",
    "e. [c-fx-z] is the same as [cdefxyz] and checks for ‘c’,’d’,’e’,’f’,’x’,’y’,’z’                                            "
   ]
  },
  {
   "cell_type": "markdown",
   "id": "8ec2561f",
   "metadata": {},
   "source": [
    "The Characters .,*,?,^,or,(), have a special signiface when used with square brackets. They need not be be explicitly escaped by \\ as in case of pattern texts in a raw string."
   ]
  },
  {
   "cell_type": "markdown",
   "id": "7184d043",
   "metadata": {},
   "source": [
    "\n",
    "# Q5. How does compiling a regular-expression object benefit you?"
   ]
  },
  {
   "cell_type": "markdown",
   "id": "3ec7cc38",
   "metadata": {},
   "source": [
    "Python Regex Compile() function converts Python regular expressions into patterns that can be used for different operations. "
   ]
  },
  {
   "cell_type": "code",
   "execution_count": 3,
   "id": "e1765969",
   "metadata": {},
   "outputs": [
    {
     "name": "stdout",
     "output_type": "stream",
     "text": [
      "['1', '2', '3']\n"
     ]
    }
   ],
   "source": [
    "import re\n",
    "# class [1234] will match the string with ‘1’,’2’,’3’,’4’\n",
    "patrn=re.compile('[1234]')\n",
    "print(patrn.findall(\"abcd123\"))"
   ]
  },
  {
   "cell_type": "markdown",
   "id": "903a7dae",
   "metadata": {},
   "source": [
    "# Q6. What are some examples of how to use the match object returned by re.match and re.search?"
   ]
  },
  {
   "cell_type": "markdown",
   "id": "77886fdf",
   "metadata": {},
   "source": [
    "The <b>re.search()</b> and <b>re.match()</b> both are functions of re module in python. These functions are very efficient and fast for searching in strings. The function searches for some substring in a string and returns a match object if found, else it returns none.\n",
    "\n",
    "There is a difference between the use of both functions. Both return the first match of a substring found in the string, but <b>re.match()</b> searches only from the beginning of the string and return match object if found. But if a match of substring is found somewhere in the middle of the string, it returns none.\n",
    "\n",
    "While <b>re.search()</b> searches for the whole string even if the string contains multi-lines and tries to find a match of the substring in all the lines of string."
   ]
  },
  {
   "cell_type": "code",
   "execution_count": 4,
   "id": "35d36565",
   "metadata": {},
   "outputs": [
    {
     "name": "stdout",
     "output_type": "stream",
     "text": [
      "<re.Match object; span=(66, 72), match='string'>\n",
      "None\n",
      "<re.Match object; span=(0, 6), match='string'>\n",
      "<re.Match object; span=(0, 6), match='string'>\n"
     ]
    }
   ],
   "source": [
    "import re\n",
    "Substring ='string' \n",
    "String1 ='We are learning regex with geeksforgeeks regex is very useful for string matching. It is fast too.' \n",
    "String2 ='string We are learning regex with geeksforgeeks regex is very useful for string matching. It is fast too.'\n",
    "print(re.search(Substring, String1, re.IGNORECASE))\n",
    "print(re.match(Substring, String1, re.IGNORECASE))\n",
    "print(re.search(Substring, String2, re.IGNORECASE))\n",
    "print(re.match(Substring, String2, re.IGNORECASE))"
   ]
  },
  {
   "cell_type": "markdown",
   "id": "3cb87266",
   "metadata": {},
   "source": [
    "# Q7. What is the difference between using a vertical bar (|) as an alteration and using square brackets as a character set?"
   ]
  },
  {
   "cell_type": "markdown",
   "id": "b7ea514b",
   "metadata": {},
   "source": [
    "<b>Ans</b>: When | us used then patterns searches for or option. i.e \\<pattern_1>|\\<pattern_2> means it searches as \\<pattern_1>or\\<pattern_2> in the searched string. the first occurance of matched string will be returned as the Match Object. Using Character set in square Brackets searches for all the character set in the square bracket and if match is found, it returns it."
   ]
  },
  {
   "cell_type": "markdown",
   "id": "85b0f025",
   "metadata": {},
   "source": [
    "# Q8. In regular-expression search patterns, why is it necessary to use the raw-string indicator (r)? In replacement strings?"
   ]
  },
  {
   "cell_type": "markdown",
   "id": "3513b9ad",
   "metadata": {},
   "source": [
    "raw strings are raw string literals that treat backslash (\\\\ ) as a literal character. For example, if we try to print a string with a “\\\\n” inside, it will add one line break. But if we mark it as a raw string, it will simply print out the “\\\\n” as a normal character. Python raw strings are useful for writing regular expressions and for using with SQL parsers."
   ]
  },
  {
   "cell_type": "code",
   "execution_count": 5,
   "id": "beb302c8",
   "metadata": {},
   "outputs": [
    {
     "name": "stdout",
     "output_type": "stream",
     "text": [
      "Hello\tfrom AskPython\n",
      "Hi\n"
     ]
    }
   ],
   "source": [
    "s = \"Hello\\tfrom AskPython\\nHi\"\n",
    "print(s)"
   ]
  },
  {
   "cell_type": "code",
   "execution_count": 6,
   "id": "8d36f5f8",
   "metadata": {},
   "outputs": [
    {
     "name": "stdout",
     "output_type": "stream",
     "text": [
      "Hello\\tfrom AskPython\\nHi\n"
     ]
    }
   ],
   "source": [
    "# s is now a raw string\n",
    "# Here, both backslashes will NOT be escaped.\n",
    "s = r\"Hello\\tfrom AskPython\\nHi\"\n",
    "print(s)"
   ]
  },
  {
   "cell_type": "code",
   "execution_count": 7,
   "id": "49f50621",
   "metadata": {},
   "outputs": [
    {
     "ename": "SyntaxError",
     "evalue": "(unicode error) 'unicodeescape' codec can't decode bytes in position 5-7: truncated \\xXX escape (<ipython-input-7-dc25a1a8a460>, line 1)",
     "output_type": "error",
     "traceback": [
      "\u001b[1;36m  File \u001b[1;32m\"<ipython-input-7-dc25a1a8a460>\"\u001b[1;36m, line \u001b[1;32m1\u001b[0m\n\u001b[1;33m    s = \"Hello\\xfrom AskPython\"\u001b[0m\n\u001b[1;37m        ^\u001b[0m\n\u001b[1;31mSyntaxError\u001b[0m\u001b[1;31m:\u001b[0m (unicode error) 'unicodeescape' codec can't decode bytes in position 5-7: truncated \\xXX escape\n"
     ]
    }
   ],
   "source": [
    "s = \"Hello\\xfrom AskPython\"\n",
    "print(s)"
   ]
  },
  {
   "cell_type": "code",
   "execution_count": 8,
   "id": "bd4561ca",
   "metadata": {},
   "outputs": [
    {
     "name": "stdout",
     "output_type": "stream",
     "text": [
      "Hello\\xfrom AskPython\n"
     ]
    }
   ],
   "source": [
    "s = r\"Hello\\xfrom AskPython\"\n",
    "print(s)"
   ]
  }
 ],
 "metadata": {
  "kernelspec": {
   "display_name": "Python 3",
   "language": "python",
   "name": "python3"
  },
  "language_info": {
   "codemirror_mode": {
    "name": "ipython",
    "version": 3
   },
   "file_extension": ".py",
   "mimetype": "text/x-python",
   "name": "python",
   "nbconvert_exporter": "python",
   "pygments_lexer": "ipython3",
   "version": "3.8.8"
  }
 },
 "nbformat": 4,
 "nbformat_minor": 5
}
